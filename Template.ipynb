{
  "nbformat": 4,
  "nbformat_minor": 0,
  "metadata": {
    "kernelspec": {
      "display_name": "Python 3",
      "language": "python",
      "name": "python3"
    },
    "language_info": {
      "codemirror_mode": {
        "name": "ipython",
        "version": 3
      },
      "file_extension": ".py",
      "mimetype": "text/x-python",
      "name": "python",
      "nbconvert_exporter": "python",
      "pygments_lexer": "ipython3",
      "version": "3.6.9"
    },
    "colab": {
      "name": "Template.ipynb",
      "provenance": [],
      "include_colab_link": true
    }
  },
  "cells": [
    {
      "cell_type": "markdown",
      "metadata": {
        "id": "view-in-github",
        "colab_type": "text"
      },
      "source": [
        "<a href=\"https://colab.research.google.com/github/Viliuskerutis/AML/blob/main/Template.ipynb\" target=\"_parent\"><img src=\"https://colab.research.google.com/assets/colab-badge.svg\" alt=\"Open In Colab\"/></a>"
      ]
    },
    {
      "cell_type": "markdown",
      "metadata": {
        "id": "68D6JlE_sf3s"
      },
      "source": [
        "# Viral Data Analysis\n",
        "\n",
        "Date: 2020.10.~06~\n",
        "\n",
        "Author: © 2020 ~[Mantas Lukoševičius](https://mantas.info/)~ \n",
        "\n",
        "This notebook is part of an individual project for [KTU IF](https://fi.ktu.edu/)  [P176M010 Advanced Machine Learning](https://admissions.ktu.edu/programme/m-software-engineering/#P176M010) class led by [M. Lukoševičius](http://mantas.info/).\n",
        "\n",
        "Here we analyze open COVID-19 data from https://ourworldindata.org/ to answer the following questions:\n",
        "\n",
        "1. ~[Question 1?](#Q1)~\n",
        "1. ~[Question 2?](#Q2)~\n",
        "1. ~[Question 3?](#Q3)~\n",
        "\n",
        "~We additionally uses data from:~\n",
        "* ~[external data] (if relevant)~\n",
        "\n",
        "~The notebook is partially based on:~\n",
        "* ~Work by ... (if relevant)~\n",
        "\n",
        "This work is licensed under a <a rel=\"license\" href=\"http://creativecommons.org/licenses/by/4.0/\">Creative Commons Attribution 4.0 International license</a>. <a rel=\"license\" href=\"http://creativecommons.org/licenses/by/4.0/\"><img alt=\"Creative Commons licencija\" style=\"border-width:0\" src=\"https://i.creativecommons.org/l/by/4.0/80x15.png\" /></a> "
      ]
    },
    {
      "cell_type": "markdown",
      "metadata": {
        "id": "ObwLJ2kxsf3t"
      },
      "source": [
        "## Load the data"
      ]
    },
    {
      "cell_type": "code",
      "metadata": {
        "id": "pbQ4y7mPsf3t"
      },
      "source": [
        "import numpy as np\n",
        "import numpy.ma as ma\n",
        "import pandas as pd\n",
        "import matplotlib.pyplot as plt"
      ],
      "execution_count": null,
      "outputs": []
    },
    {
      "cell_type": "markdown",
      "metadata": {
        "id": "6sWcXEN9sf3w"
      },
      "source": [
        "Download the data to cache locally. Do this once (a day), and comment out, not to DoS the server. (adopted from https://stackoverflow.com/a/35997720)."
      ]
    },
    {
      "cell_type": "code",
      "metadata": {
        "id": "aCatlvDysf3x",
        "outputId": "fd28bed1-5173-47d9-c45d-6853eb075f1a"
      },
      "source": [
        "import requests\n",
        "fname = 'owid-covid-data.csv'\n",
        "url = 'https://covid.ourworldindata.org/data/' + fname\n",
        "r = requests.get(url)\n",
        "open(fname, 'wb').write(r.content)"
      ],
      "execution_count": null,
      "outputs": [
        {
          "output_type": "execute_result",
          "data": {
            "text/plain": [
              "10715166"
            ]
          },
          "metadata": {
            "tags": []
          },
          "execution_count": 2
        }
      ]
    },
    {
      "cell_type": "markdown",
      "metadata": {
        "id": "htjjfYnBsf30"
      },
      "source": [
        "Load the file to Pandas."
      ]
    },
    {
      "cell_type": "code",
      "metadata": {
        "id": "M3dJxqn1sf30"
      },
      "source": [
        "#url = \"https://covid.ourworldindata.org/data/owid-covid-data.csv\"\n",
        "# download the file locally when developing, not to DoS the server:\n",
        "url = \"owid-covid-data.csv\" \n",
        "df = pd.read_csv(url, parse_dates=[3])"
      ],
      "execution_count": null,
      "outputs": []
    },
    {
      "cell_type": "markdown",
      "metadata": {
        "id": "ZIRtmndnsf32"
      },
      "source": [
        "Check the columns available."
      ]
    },
    {
      "cell_type": "code",
      "metadata": {
        "scrolled": true,
        "id": "BKbC6mf4sf33",
        "outputId": "e1a29287-c9ce-407a-a307-a6d41a3d30cf"
      },
      "source": [
        "df.columns"
      ],
      "execution_count": null,
      "outputs": [
        {
          "output_type": "execute_result",
          "data": {
            "text/plain": [
              "Index(['iso_code', 'continent', 'location', 'date', 'total_cases', 'new_cases',\n",
              "       'new_cases_smoothed', 'total_deaths', 'new_deaths',\n",
              "       'new_deaths_smoothed', 'total_cases_per_million',\n",
              "       'new_cases_per_million', 'new_cases_smoothed_per_million',\n",
              "       'total_deaths_per_million', 'new_deaths_per_million',\n",
              "       'new_deaths_smoothed_per_million', 'new_tests', 'total_tests',\n",
              "       'total_tests_per_thousand', 'new_tests_per_thousand',\n",
              "       'new_tests_smoothed', 'new_tests_smoothed_per_thousand',\n",
              "       'tests_per_case', 'positive_rate', 'tests_units', 'stringency_index',\n",
              "       'population', 'population_density', 'median_age', 'aged_65_older',\n",
              "       'aged_70_older', 'gdp_per_capita', 'extreme_poverty',\n",
              "       'cardiovasc_death_rate', 'diabetes_prevalence', 'female_smokers',\n",
              "       'male_smokers', 'handwashing_facilities', 'hospital_beds_per_thousand',\n",
              "       'life_expectancy', 'human_development_index'],\n",
              "      dtype='object')"
            ]
          },
          "metadata": {
            "tags": []
          },
          "execution_count": 3
        }
      ]
    },
    {
      "cell_type": "markdown",
      "metadata": {
        "id": "3ACL5uhssf35"
      },
      "source": [
        "The columns are explained [here](https://github.com/owid/covid-19-data/blob/master/public/data/owid-covid-codebook.csv)."
      ]
    },
    {
      "cell_type": "markdown",
      "metadata": {
        "id": "el3oPBk-sf36"
      },
      "source": [
        "~Loading other data, general (not particular question related) computations, observations go in here, as many cells as necessary.~"
      ]
    },
    {
      "cell_type": "markdown",
      "metadata": {
        "id": "EtXnNTwYsf36"
      },
      "source": [
        "<a id='Q1'></a>\n",
        "## 1. ~Question 1~? "
      ]
    },
    {
      "cell_type": "markdown",
      "metadata": {
        "id": "yB3-CpBysf37"
      },
      "source": [
        "~Code and observations of the question goes here, as many cells as necessary.~"
      ]
    },
    {
      "cell_type": "markdown",
      "metadata": {
        "id": "c16fs60Gsf37"
      },
      "source": [
        "<a id='Q2'></a>\n",
        "## 2. ~Question 2~? "
      ]
    },
    {
      "cell_type": "markdown",
      "metadata": {
        "id": "MPncvorQsf38"
      },
      "source": [
        "~Code and observations of the question goes here, as many cells as necessary.~"
      ]
    },
    {
      "cell_type": "markdown",
      "metadata": {
        "id": "u-fDlZmAsf38"
      },
      "source": [
        "<a id='Q3'></a>\n",
        "## 3. ~Question 3~? "
      ]
    },
    {
      "cell_type": "markdown",
      "metadata": {
        "id": "tPm9Kop9sf39"
      },
      "source": [
        "~Code and observations of the question goes here, as many cells as necessary.~"
      ]
    }
  ]
}