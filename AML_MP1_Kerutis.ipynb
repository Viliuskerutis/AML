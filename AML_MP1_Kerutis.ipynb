{
  "nbformat": 4,
  "nbformat_minor": 0,
  "metadata": {
    "colab": {
      "name": "AML_MP1_Kerutis.ipynb",
      "provenance": [],
      "collapsed_sections": [],
      "authorship_tag": "ABX9TyMT2WbNB1spN4A3f+3MedsM",
      "include_colab_link": true
    },
    "kernelspec": {
      "name": "python3",
      "display_name": "Python 3"
    }
  },
  "cells": [
    {
      "cell_type": "markdown",
      "metadata": {
        "id": "view-in-github",
        "colab_type": "text"
      },
      "source": [
        "<a href=\"https://colab.research.google.com/github/Viliuskerutis/AML/blob/main/AML_MP1_Kerutis.ipynb\" target=\"_parent\"><img src=\"https://colab.research.google.com/assets/colab-badge.svg\" alt=\"Open In Colab\"/></a>"
      ]
    },
    {
      "cell_type": "markdown",
      "metadata": {
        "id": "-d2ScW5hnFmp"
      },
      "source": [
        "# MP1 - Viral Data Analysis\n",
        "Date: 2020.10.11\n",
        "\n",
        "Author: © 2020 Vilius Kerutis\n",
        "\n",
        "This notebook is part of an individual project for [KTU IF](https://fi.ktu.edu/) [P176M010 Advanced Machine Learning](https://admissions.ktu.edu/programme/m-software-engineering/#P176M010) class led by [M. Lukoševičius](http://mantas.info/).\n",
        "\n",
        "Here I analyze open COVID-19 data from https://ourworldindata.org/ to answer the following questions:\n",
        "\n",
        "1. [Which country has the most deaths per million people in June?](#Q1)\n",
        "1. [What is the correlation between human development and total deaths among countries?](#Q2)\n",
        "1. [What is the future prognosis of total deaths per million people, taking a history of total cases as input in Haiti?](#Q3)\n",
        "\n",
        "This work is licensed under a <a rel=\"license\" href=\"http://creativecommons.org/licenses/by/4.0/\">Creative Commons Attribution 4.0 International license</a>. <a rel=\"license\" href=\"http://creativecommons.org/licenses/by/4.0/\"><img alt=\"Creative Commons licencija\" style=\"border-width:0\" src=\"https://i.creativecommons.org/l/by/4.0/80x15.png\" /></a>"
      ]
    },
    {
      "cell_type": "markdown",
      "metadata": {
        "id": "-uvH-bexou5t"
      },
      "source": [
        "## Load the data"
      ]
    },
    {
      "cell_type": "code",
      "metadata": {
        "id": "vEuBhNtSQGvg"
      },
      "source": [
        "import pandas as pd\n",
        "import numpy as np\n",
        "from datetime import date, timedelta\n",
        "import numpy.ma as ma\n",
        "import matplotlib.pyplot as plt\n",
        "import seaborn as sns\n",
        "from sklearn.preprocessing import StandardScaler\n",
        "from sklearn.linear_model import LinearRegression\n",
        "from sklearn.decomposition import PCA\n",
        "from sklearn.pipeline import Pipeline"
      ],
      "execution_count": 120,
      "outputs": []
    },
    {
      "cell_type": "markdown",
      "metadata": {
        "id": "c7riU5AFPyZa"
      },
      "source": [
        "<a id='Q1'></a>\n",
        "# 1. Which country has the most deaths per million people in June?"
      ]
    },
    {
      "cell_type": "code",
      "metadata": {
        "id": "H99yE-hKS976",
        "outputId": "b5a21452-81f5-4cff-c322-c5277780eaac",
        "colab": {
          "base_uri": "https://localhost:8080/",
          "height": 281
        }
      },
      "source": [
        "df = pd.read_csv('https://raw.githubusercontent.com/Viliuskerutis/AML/main/owid-covid-data.csv', low_memory=False)\n",
        "df.columns"
      ],
      "execution_count": 41,
      "outputs": [
        {
          "output_type": "execute_result",
          "data": {
            "text/plain": [
              "Index(['iso_code', 'continent', 'location', 'date', 'total_cases', 'new_cases',\n",
              "       'new_cases_smoothed', 'total_deaths', 'new_deaths',\n",
              "       'new_deaths_smoothed', 'total_cases_per_million',\n",
              "       'new_cases_per_million', 'new_cases_smoothed_per_million',\n",
              "       'total_deaths_per_million', 'new_deaths_per_million',\n",
              "       'new_deaths_smoothed_per_million', 'total_tests', 'new_tests',\n",
              "       'total_tests_per_thousand', 'new_tests_per_thousand',\n",
              "       'new_tests_smoothed', 'new_tests_smoothed_per_thousand',\n",
              "       'tests_per_case', 'positive_rate', 'tests_units', 'stringency_index',\n",
              "       'population', 'population_density', 'median_age', 'aged_65_older',\n",
              "       'aged_70_older', 'gdp_per_capita', 'extreme_poverty',\n",
              "       'cardiovasc_death_rate', 'diabetes_prevalence', 'female_smokers',\n",
              "       'male_smokers', 'handwashing_facilities', 'hospital_beds_per_thousand',\n",
              "       'life_expectancy', 'human_development_index'],\n",
              "      dtype='object')"
            ]
          },
          "metadata": {
            "tags": []
          },
          "execution_count": 41
        }
      ]
    },
    {
      "cell_type": "markdown",
      "metadata": {
        "id": "Ou4BTqEQlIex"
      },
      "source": [
        "Check the \"freshness\" of the data."
      ]
    },
    {
      "cell_type": "code",
      "metadata": {
        "id": "utjy0msGk3os",
        "outputId": "d05e9b84-8b4a-4c74-e85c-10471cabe445",
        "colab": {
          "base_uri": "https://localhost:8080/",
          "height": 35
        }
      },
      "source": [
        "df.date.max()"
      ],
      "execution_count": 42,
      "outputs": [
        {
          "output_type": "execute_result",
          "data": {
            "application/vnd.google.colaboratory.intrinsic+json": {
              "type": "string"
            },
            "text/plain": [
              "'2020-10-23'"
            ]
          },
          "metadata": {
            "tags": []
          },
          "execution_count": 42
        }
      ]
    },
    {
      "cell_type": "markdown",
      "metadata": {
        "id": "TZNU8LCtlKQp"
      },
      "source": [
        "All the different country codes:"
      ]
    },
    {
      "cell_type": "code",
      "metadata": {
        "id": "LABdikxHlOrl",
        "outputId": "c3895f9a-14bb-4a82-dfbe-1a6f898ffb53",
        "colab": {
          "base_uri": "https://localhost:8080/",
          "height": 439
        }
      },
      "source": [
        "df.iso_code.unique()"
      ],
      "execution_count": 43,
      "outputs": [
        {
          "output_type": "execute_result",
          "data": {
            "text/plain": [
              "array(['ABW', 'AFG', 'AGO', 'AIA', 'ALB', 'AND', 'ARE', 'ARG', 'ARM',\n",
              "       'ATG', 'AUS', 'AUT', 'AZE', 'BDI', 'BEL', 'BEN', 'BES', 'BFA',\n",
              "       'BGD', 'BGR', 'BHR', 'BHS', 'BIH', 'BLR', 'BLZ', 'BMU', 'BOL',\n",
              "       'BRA', 'BRB', 'BRN', 'BTN', 'BWA', 'CAF', 'CAN', 'CHE', 'CHL',\n",
              "       'CHN', 'CIV', 'CMR', 'COD', 'COG', 'COL', 'COM', 'CPV', 'CRI',\n",
              "       'CUB', 'CUW', 'CYM', 'CYP', 'CZE', 'DEU', 'DJI', 'DMA', 'DNK',\n",
              "       'DOM', 'DZA', 'ECU', 'EGY', 'ERI', 'ESH', 'ESP', 'EST', 'ETH',\n",
              "       'FIN', 'FJI', 'FLK', 'FRA', 'FRO', 'GAB', 'GBR', 'GEO', 'GGY',\n",
              "       'GHA', 'GIB', 'GIN', 'GMB', 'GNB', 'GNQ', 'GRC', 'GRD', 'GRL',\n",
              "       'GTM', 'GUM', 'GUY', 'HKG', 'HND', 'HRV', 'HTI', 'HUN', 'IDN',\n",
              "       'IMN', 'IND', 'IRL', 'IRN', 'IRQ', 'ISL', 'ISR', 'ITA', 'JAM',\n",
              "       'JEY', 'JOR', 'JPN', 'KAZ', 'KEN', 'KGZ', 'KHM', 'KNA', 'KOR',\n",
              "       'KWT', 'LAO', 'LBN', 'LBR', 'LBY', 'LCA', 'LIE', 'LKA', 'LSO',\n",
              "       'LTU', 'LUX', 'LVA', 'MAR', 'MCO', 'MDA', 'MDG', 'MDV', 'MEX',\n",
              "       'MKD', 'MLI', 'MLT', 'MMR', 'MNE', 'MNG', 'MNP', 'MOZ', 'MRT',\n",
              "       'MSR', 'MUS', 'MWI', 'MYS', 'NAM', 'NCL', 'NER', 'NGA', 'NIC',\n",
              "       'NLD', 'NOR', 'NPL', 'NZL', 'OMN', 'PAK', 'PAN', 'PER', 'PHL',\n",
              "       'PNG', 'POL', 'PRI', 'PRT', 'PRY', 'PSE', 'PYF', 'QAT', 'ROU',\n",
              "       'RUS', 'RWA', 'SAU', 'SDN', 'SEN', 'SGP', 'SLB', 'SLE', 'SLV',\n",
              "       'SMR', 'SOM', 'SRB', 'SSD', 'STP', 'SUR', 'SVK', 'SVN', 'SWE',\n",
              "       'SWZ', 'SXM', 'SYC', 'SYR', 'TCA', 'TCD', 'TGO', 'THA', 'TJK',\n",
              "       'TLS', 'TTO', 'TUN', 'TUR', 'TWN', 'TZA', 'UGA', 'UKR', 'URY',\n",
              "       'USA', 'UZB', 'VAT', 'VCT', 'VEN', 'VGB', 'VIR', 'VNM', 'OWID_KOS',\n",
              "       'YEM', 'ZAF', 'ZMB', 'ZWE', 'OWID_WRL', nan], dtype=object)"
            ]
          },
          "metadata": {
            "tags": []
          },
          "execution_count": 43
        }
      ]
    },
    {
      "cell_type": "markdown",
      "metadata": {
        "id": "JC-HpCNjlStu"
      },
      "source": [
        "Column info."
      ]
    },
    {
      "cell_type": "code",
      "metadata": {
        "id": "0EUuFLiYlatI",
        "outputId": "66351f59-2336-496a-a389-9d4ff740c835",
        "colab": {
          "base_uri": "https://localhost:8080/",
          "height": 862
        }
      },
      "source": [
        "df.info()"
      ],
      "execution_count": 44,
      "outputs": [
        {
          "output_type": "stream",
          "text": [
            "<class 'pandas.core.frame.DataFrame'>\n",
            "RangeIndex: 52010 entries, 0 to 52009\n",
            "Data columns (total 41 columns):\n",
            " #   Column                           Non-Null Count  Dtype  \n",
            "---  ------                           --------------  -----  \n",
            " 0   iso_code                         51712 non-null  object \n",
            " 1   continent                        51414 non-null  object \n",
            " 2   location                         52010 non-null  object \n",
            " 3   date                             52010 non-null  object \n",
            " 4   total_cases                      48403 non-null  float64\n",
            " 5   new_cases                        51127 non-null  float64\n",
            " 6   new_cases_smoothed               50339 non-null  float64\n",
            " 7   total_deaths                     39558 non-null  float64\n",
            " 8   new_deaths                       51127 non-null  float64\n",
            " 9   new_deaths_smoothed              50339 non-null  float64\n",
            " 10  total_cases_per_million          48141 non-null  float64\n",
            " 11  new_cases_per_million            51063 non-null  float64\n",
            " 12  new_cases_smoothed_per_million   50274 non-null  float64\n",
            " 13  total_deaths_per_million         39311 non-null  float64\n",
            " 14  new_deaths_per_million           51063 non-null  float64\n",
            " 15  new_deaths_smoothed_per_million  50274 non-null  float64\n",
            " 16  total_tests                      19747 non-null  float64\n",
            " 17  new_tests                        19405 non-null  float64\n",
            " 18  total_tests_per_thousand         19747 non-null  float64\n",
            " 19  new_tests_per_thousand           19405 non-null  float64\n",
            " 20  new_tests_smoothed               21792 non-null  float64\n",
            " 21  new_tests_smoothed_per_thousand  21792 non-null  float64\n",
            " 22  tests_per_case                   20099 non-null  float64\n",
            " 23  positive_rate                    20443 non-null  float64\n",
            " 24  tests_units                      22743 non-null  object \n",
            " 25  stringency_index                 43401 non-null  float64\n",
            " 26  population                       51712 non-null  float64\n",
            " 27  population_density               49319 non-null  float64\n",
            " 28  median_age                       46327 non-null  float64\n",
            " 29  aged_65_older                    45633 non-null  float64\n",
            " 30  aged_70_older                    46086 non-null  float64\n",
            " 31  gdp_per_capita                   45715 non-null  float64\n",
            " 32  extreme_poverty                  30486 non-null  float64\n",
            " 33  cardiovasc_death_rate            46307 non-null  float64\n",
            " 34  diabetes_prevalence              47979 non-null  float64\n",
            " 35  female_smokers                   36133 non-null  float64\n",
            " 36  male_smokers                     35670 non-null  float64\n",
            " 37  handwashing_facilities           21826 non-null  float64\n",
            " 38  hospital_beds_per_thousand       41762 non-null  float64\n",
            " 39  life_expectancy                  51052 non-null  float64\n",
            " 40  human_development_index          44695 non-null  float64\n",
            "dtypes: float64(36), object(5)\n",
            "memory usage: 16.3+ MB\n"
          ],
          "name": "stdout"
        }
      ]
    },
    {
      "cell_type": "code",
      "metadata": {
        "id": "rshKV-BGlgl1",
        "outputId": "428f22af-86e9-4a68-fa0c-398ff8384422",
        "colab": {
          "base_uri": "https://localhost:8080/",
          "height": 304
        }
      },
      "source": [
        "df.describe()"
      ],
      "execution_count": 45,
      "outputs": [
        {
          "output_type": "execute_result",
          "data": {
            "text/html": [
              "<div>\n",
              "<style scoped>\n",
              "    .dataframe tbody tr th:only-of-type {\n",
              "        vertical-align: middle;\n",
              "    }\n",
              "\n",
              "    .dataframe tbody tr th {\n",
              "        vertical-align: top;\n",
              "    }\n",
              "\n",
              "    .dataframe thead th {\n",
              "        text-align: right;\n",
              "    }\n",
              "</style>\n",
              "<table border=\"1\" class=\"dataframe\">\n",
              "  <thead>\n",
              "    <tr style=\"text-align: right;\">\n",
              "      <th></th>\n",
              "      <th>total_cases</th>\n",
              "      <th>new_cases</th>\n",
              "      <th>new_cases_smoothed</th>\n",
              "      <th>total_deaths</th>\n",
              "      <th>new_deaths</th>\n",
              "      <th>new_deaths_smoothed</th>\n",
              "      <th>total_cases_per_million</th>\n",
              "      <th>new_cases_per_million</th>\n",
              "      <th>new_cases_smoothed_per_million</th>\n",
              "      <th>total_deaths_per_million</th>\n",
              "      <th>new_deaths_per_million</th>\n",
              "      <th>new_deaths_smoothed_per_million</th>\n",
              "      <th>total_tests</th>\n",
              "      <th>new_tests</th>\n",
              "      <th>total_tests_per_thousand</th>\n",
              "      <th>new_tests_per_thousand</th>\n",
              "      <th>new_tests_smoothed</th>\n",
              "      <th>new_tests_smoothed_per_thousand</th>\n",
              "      <th>tests_per_case</th>\n",
              "      <th>positive_rate</th>\n",
              "      <th>stringency_index</th>\n",
              "      <th>population</th>\n",
              "      <th>population_density</th>\n",
              "      <th>median_age</th>\n",
              "      <th>aged_65_older</th>\n",
              "      <th>aged_70_older</th>\n",
              "      <th>gdp_per_capita</th>\n",
              "      <th>extreme_poverty</th>\n",
              "      <th>cardiovasc_death_rate</th>\n",
              "      <th>diabetes_prevalence</th>\n",
              "      <th>female_smokers</th>\n",
              "      <th>male_smokers</th>\n",
              "      <th>handwashing_facilities</th>\n",
              "      <th>hospital_beds_per_thousand</th>\n",
              "      <th>life_expectancy</th>\n",
              "      <th>human_development_index</th>\n",
              "    </tr>\n",
              "  </thead>\n",
              "  <tbody>\n",
              "    <tr>\n",
              "      <th>count</th>\n",
              "      <td>4.840300e+04</td>\n",
              "      <td>51127.000000</td>\n",
              "      <td>50339.000000</td>\n",
              "      <td>3.955800e+04</td>\n",
              "      <td>51127.000000</td>\n",
              "      <td>50339.000000</td>\n",
              "      <td>48141.000000</td>\n",
              "      <td>51063.000000</td>\n",
              "      <td>50274.000000</td>\n",
              "      <td>39311.000000</td>\n",
              "      <td>51063.000000</td>\n",
              "      <td>50274.000000</td>\n",
              "      <td>1.974700e+04</td>\n",
              "      <td>1.940500e+04</td>\n",
              "      <td>19747.000000</td>\n",
              "      <td>19405.000000</td>\n",
              "      <td>2.179200e+04</td>\n",
              "      <td>21792.000000</td>\n",
              "      <td>20099.000000</td>\n",
              "      <td>20443.000000</td>\n",
              "      <td>43401.000000</td>\n",
              "      <td>5.171200e+04</td>\n",
              "      <td>49319.000000</td>\n",
              "      <td>46327.000000</td>\n",
              "      <td>45633.000000</td>\n",
              "      <td>46086.000000</td>\n",
              "      <td>45715.000000</td>\n",
              "      <td>30486.000000</td>\n",
              "      <td>46307.000000</td>\n",
              "      <td>47979.000000</td>\n",
              "      <td>36133.000000</td>\n",
              "      <td>35670.000000</td>\n",
              "      <td>21826.000000</td>\n",
              "      <td>41762.000000</td>\n",
              "      <td>51052.000000</td>\n",
              "      <td>44695.000000</td>\n",
              "    </tr>\n",
              "    <tr>\n",
              "      <th>mean</th>\n",
              "      <td>1.363255e+05</td>\n",
              "      <td>1633.995130</td>\n",
              "      <td>1610.990888</td>\n",
              "      <td>6.138200e+03</td>\n",
              "      <td>44.546169</td>\n",
              "      <td>44.541465</td>\n",
              "      <td>2509.232423</td>\n",
              "      <td>30.042849</td>\n",
              "      <td>29.171387</td>\n",
              "      <td>85.372714</td>\n",
              "      <td>0.591967</td>\n",
              "      <td>0.588009</td>\n",
              "      <td>1.905907e+06</td>\n",
              "      <td>2.581705e+04</td>\n",
              "      <td>66.336827</td>\n",
              "      <td>0.826141</td>\n",
              "      <td>2.488937e+04</td>\n",
              "      <td>0.805787</td>\n",
              "      <td>192.383357</td>\n",
              "      <td>0.064548</td>\n",
              "      <td>56.947631</td>\n",
              "      <td>8.695300e+07</td>\n",
              "      <td>361.309540</td>\n",
              "      <td>31.252106</td>\n",
              "      <td>9.215518</td>\n",
              "      <td>5.825576</td>\n",
              "      <td>20759.873465</td>\n",
              "      <td>12.286751</td>\n",
              "      <td>252.008369</td>\n",
              "      <td>8.055200</td>\n",
              "      <td>10.772976</td>\n",
              "      <td>32.639174</td>\n",
              "      <td>52.273566</td>\n",
              "      <td>3.098288</td>\n",
              "      <td>73.977683</td>\n",
              "      <td>0.723461</td>\n",
              "    </tr>\n",
              "    <tr>\n",
              "      <th>std</th>\n",
              "      <td>1.365615e+06</td>\n",
              "      <td>14742.358503</td>\n",
              "      <td>14422.555759</td>\n",
              "      <td>4.970171e+04</td>\n",
              "      <td>371.661458</td>\n",
              "      <td>360.945190</td>\n",
              "      <td>4961.512720</td>\n",
              "      <td>106.407273</td>\n",
              "      <td>72.906009</td>\n",
              "      <td>169.636207</td>\n",
              "      <td>2.937695</td>\n",
              "      <td>1.865053</td>\n",
              "      <td>8.657876e+06</td>\n",
              "      <td>1.051654e+05</td>\n",
              "      <td>132.322326</td>\n",
              "      <td>1.534724</td>\n",
              "      <td>9.695588e+04</td>\n",
              "      <td>1.387750</td>\n",
              "      <td>915.093742</td>\n",
              "      <td>0.087988</td>\n",
              "      <td>26.684086</td>\n",
              "      <td>6.070910e+08</td>\n",
              "      <td>1648.604689</td>\n",
              "      <td>9.036782</td>\n",
              "      <td>6.307452</td>\n",
              "      <td>4.304546</td>\n",
              "      <td>20372.636885</td>\n",
              "      <td>19.332899</td>\n",
              "      <td>117.420490</td>\n",
              "      <td>4.155891</td>\n",
              "      <td>10.475901</td>\n",
              "      <td>13.440016</td>\n",
              "      <td>31.625685</td>\n",
              "      <td>2.520225</td>\n",
              "      <td>7.387655</td>\n",
              "      <td>0.153074</td>\n",
              "    </tr>\n",
              "    <tr>\n",
              "      <th>min</th>\n",
              "      <td>1.000000e+00</td>\n",
              "      <td>-8261.000000</td>\n",
              "      <td>-552.000000</td>\n",
              "      <td>1.000000e+00</td>\n",
              "      <td>-1918.000000</td>\n",
              "      <td>-232.143000</td>\n",
              "      <td>0.001000</td>\n",
              "      <td>-2212.545000</td>\n",
              "      <td>-269.978000</td>\n",
              "      <td>0.000000</td>\n",
              "      <td>-67.901000</td>\n",
              "      <td>-9.678000</td>\n",
              "      <td>1.000000e+00</td>\n",
              "      <td>-3.743000e+03</td>\n",
              "      <td>0.000000</td>\n",
              "      <td>-0.398000</td>\n",
              "      <td>0.000000e+00</td>\n",
              "      <td>0.000000</td>\n",
              "      <td>1.535000</td>\n",
              "      <td>0.000000</td>\n",
              "      <td>0.000000</td>\n",
              "      <td>8.090000e+02</td>\n",
              "      <td>0.137000</td>\n",
              "      <td>15.100000</td>\n",
              "      <td>1.144000</td>\n",
              "      <td>0.526000</td>\n",
              "      <td>661.240000</td>\n",
              "      <td>0.100000</td>\n",
              "      <td>79.370000</td>\n",
              "      <td>0.990000</td>\n",
              "      <td>0.100000</td>\n",
              "      <td>7.700000</td>\n",
              "      <td>1.188000</td>\n",
              "      <td>0.100000</td>\n",
              "      <td>53.280000</td>\n",
              "      <td>0.354000</td>\n",
              "    </tr>\n",
              "    <tr>\n",
              "      <th>25%</th>\n",
              "      <td>1.440000e+02</td>\n",
              "      <td>0.000000</td>\n",
              "      <td>0.714000</td>\n",
              "      <td>1.100000e+01</td>\n",
              "      <td>0.000000</td>\n",
              "      <td>0.000000</td>\n",
              "      <td>72.480000</td>\n",
              "      <td>0.000000</td>\n",
              "      <td>0.202000</td>\n",
              "      <td>3.378500</td>\n",
              "      <td>0.000000</td>\n",
              "      <td>0.000000</td>\n",
              "      <td>5.366700e+04</td>\n",
              "      <td>1.008000e+03</td>\n",
              "      <td>3.338000</td>\n",
              "      <td>0.068000</td>\n",
              "      <td>1.091000e+03</td>\n",
              "      <td>0.069000</td>\n",
              "      <td>11.479500</td>\n",
              "      <td>0.009000</td>\n",
              "      <td>38.890000</td>\n",
              "      <td>1.399491e+06</td>\n",
              "      <td>37.728000</td>\n",
              "      <td>23.300000</td>\n",
              "      <td>3.552000</td>\n",
              "      <td>2.085000</td>\n",
              "      <td>5338.454000</td>\n",
              "      <td>0.500000</td>\n",
              "      <td>155.898000</td>\n",
              "      <td>5.310000</td>\n",
              "      <td>1.900000</td>\n",
              "      <td>21.400000</td>\n",
              "      <td>21.222000</td>\n",
              "      <td>1.300000</td>\n",
              "      <td>69.870000</td>\n",
              "      <td>0.601000</td>\n",
              "    </tr>\n",
              "    <tr>\n",
              "      <th>50%</th>\n",
              "      <td>1.724000e+03</td>\n",
              "      <td>12.000000</td>\n",
              "      <td>17.286000</td>\n",
              "      <td>7.200000e+01</td>\n",
              "      <td>0.000000</td>\n",
              "      <td>0.286000</td>\n",
              "      <td>479.937000</td>\n",
              "      <td>1.863000</td>\n",
              "      <td>3.431000</td>\n",
              "      <td>17.557000</td>\n",
              "      <td>0.000000</td>\n",
              "      <td>0.025000</td>\n",
              "      <td>2.299580e+05</td>\n",
              "      <td>3.486000e+03</td>\n",
              "      <td>17.078000</td>\n",
              "      <td>0.311000</td>\n",
              "      <td>3.874500e+03</td>\n",
              "      <td>0.325000</td>\n",
              "      <td>32.519000</td>\n",
              "      <td>0.030000</td>\n",
              "      <td>61.110000</td>\n",
              "      <td>8.278737e+06</td>\n",
              "      <td>88.125000</td>\n",
              "      <td>31.100000</td>\n",
              "      <td>6.981000</td>\n",
              "      <td>4.393000</td>\n",
              "      <td>14048.881000</td>\n",
              "      <td>2.000000</td>\n",
              "      <td>238.339000</td>\n",
              "      <td>7.110000</td>\n",
              "      <td>6.400000</td>\n",
              "      <td>31.400000</td>\n",
              "      <td>52.232000</td>\n",
              "      <td>2.500000</td>\n",
              "      <td>75.400000</td>\n",
              "      <td>0.754000</td>\n",
              "    </tr>\n",
              "    <tr>\n",
              "      <th>75%</th>\n",
              "      <td>1.705000e+04</td>\n",
              "      <td>194.000000</td>\n",
              "      <td>202.500000</td>\n",
              "      <td>6.140000e+02</td>\n",
              "      <td>3.000000</td>\n",
              "      <td>3.429000</td>\n",
              "      <td>2794.176000</td>\n",
              "      <td>21.600500</td>\n",
              "      <td>24.295000</td>\n",
              "      <td>71.529000</td>\n",
              "      <td>0.243000</td>\n",
              "      <td>0.345000</td>\n",
              "      <td>9.141365e+05</td>\n",
              "      <td>1.281300e+04</td>\n",
              "      <td>72.630000</td>\n",
              "      <td>0.970000</td>\n",
              "      <td>1.371450e+04</td>\n",
              "      <td>0.975000</td>\n",
              "      <td>105.000000</td>\n",
              "      <td>0.086000</td>\n",
              "      <td>78.700000</td>\n",
              "      <td>2.982597e+07</td>\n",
              "      <td>214.243000</td>\n",
              "      <td>39.700000</td>\n",
              "      <td>14.762000</td>\n",
              "      <td>9.395000</td>\n",
              "      <td>31400.840000</td>\n",
              "      <td>18.100000</td>\n",
              "      <td>318.991000</td>\n",
              "      <td>10.390000</td>\n",
              "      <td>19.600000</td>\n",
              "      <td>40.900000</td>\n",
              "      <td>83.741000</td>\n",
              "      <td>4.200000</td>\n",
              "      <td>79.380000</td>\n",
              "      <td>0.847000</td>\n",
              "    </tr>\n",
              "    <tr>\n",
              "      <th>max</th>\n",
              "      <td>4.177193e+07</td>\n",
              "      <td>437012.000000</td>\n",
              "      <td>390097.429000</td>\n",
              "      <td>1.138780e+06</td>\n",
              "      <td>10491.000000</td>\n",
              "      <td>7456.857000</td>\n",
              "      <td>49323.756000</td>\n",
              "      <td>8652.658000</td>\n",
              "      <td>2472.188000</td>\n",
              "      <td>1237.551000</td>\n",
              "      <td>215.382000</td>\n",
              "      <td>63.140000</td>\n",
              "      <td>1.600000e+08</td>\n",
              "      <td>1.492409e+06</td>\n",
              "      <td>1553.505000</td>\n",
              "      <td>25.971000</td>\n",
              "      <td>1.169107e+06</td>\n",
              "      <td>19.098000</td>\n",
              "      <td>45864.000000</td>\n",
              "      <td>0.651000</td>\n",
              "      <td>100.000000</td>\n",
              "      <td>7.794799e+09</td>\n",
              "      <td>19347.500000</td>\n",
              "      <td>48.200000</td>\n",
              "      <td>27.049000</td>\n",
              "      <td>18.493000</td>\n",
              "      <td>116935.600000</td>\n",
              "      <td>77.600000</td>\n",
              "      <td>724.417000</td>\n",
              "      <td>23.360000</td>\n",
              "      <td>44.000000</td>\n",
              "      <td>78.100000</td>\n",
              "      <td>98.999000</td>\n",
              "      <td>13.800000</td>\n",
              "      <td>86.750000</td>\n",
              "      <td>0.953000</td>\n",
              "    </tr>\n",
              "  </tbody>\n",
              "</table>\n",
              "</div>"
            ],
            "text/plain": [
              "        total_cases      new_cases  ...  life_expectancy  human_development_index\n",
              "count  4.840300e+04   51127.000000  ...     51052.000000             44695.000000\n",
              "mean   1.363255e+05    1633.995130  ...        73.977683                 0.723461\n",
              "std    1.365615e+06   14742.358503  ...         7.387655                 0.153074\n",
              "min    1.000000e+00   -8261.000000  ...        53.280000                 0.354000\n",
              "25%    1.440000e+02       0.000000  ...        69.870000                 0.601000\n",
              "50%    1.724000e+03      12.000000  ...        75.400000                 0.754000\n",
              "75%    1.705000e+04     194.000000  ...        79.380000                 0.847000\n",
              "max    4.177193e+07  437012.000000  ...        86.750000                 0.953000\n",
              "\n",
              "[8 rows x 36 columns]"
            ]
          },
          "metadata": {
            "tags": []
          },
          "execution_count": 45
        }
      ]
    },
    {
      "cell_type": "markdown",
      "metadata": {
        "id": "ojKf_WcOlnok"
      },
      "source": [
        "Find a country with the most total deaths per million people in June."
      ]
    },
    {
      "cell_type": "code",
      "metadata": {
        "id": "m7WucA7GmIKy",
        "outputId": "ceb95957-11ca-479c-9564-b4584be159d9",
        "colab": {
          "base_uri": "https://localhost:8080/",
          "height": 284
        }
      },
      "source": [
        "date_from = pd.Timestamp(date(2020,6,1))\n",
        "date_to = pd.Timestamp(date(2020,7,1))\n",
        "df['date'] =  pd.to_datetime(df['date'])\n",
        "dff = df[(df['date'] > date_from ) & (df['date'] < date_to)]\n",
        "dff = dff.loc[dff['total_deaths_per_million'].idxmax()]\n",
        "\n",
        "pd.DataFrame(dff[['iso_code', 'continent', 'location','total_cases','total_deaths','total_cases_per_million','total_deaths_per_million','population']])"
      ],
      "execution_count": 46,
      "outputs": [
        {
          "output_type": "execute_result",
          "data": {
            "text/html": [
              "<div>\n",
              "<style scoped>\n",
              "    .dataframe tbody tr th:only-of-type {\n",
              "        vertical-align: middle;\n",
              "    }\n",
              "\n",
              "    .dataframe tbody tr th {\n",
              "        vertical-align: top;\n",
              "    }\n",
              "\n",
              "    .dataframe thead th {\n",
              "        text-align: right;\n",
              "    }\n",
              "</style>\n",
              "<table border=\"1\" class=\"dataframe\">\n",
              "  <thead>\n",
              "    <tr style=\"text-align: right;\">\n",
              "      <th></th>\n",
              "      <th>42289</th>\n",
              "    </tr>\n",
              "  </thead>\n",
              "  <tbody>\n",
              "    <tr>\n",
              "      <th>iso_code</th>\n",
              "      <td>SMR</td>\n",
              "    </tr>\n",
              "    <tr>\n",
              "      <th>continent</th>\n",
              "      <td>Europe</td>\n",
              "    </tr>\n",
              "    <tr>\n",
              "      <th>location</th>\n",
              "      <td>San Marino</td>\n",
              "    </tr>\n",
              "    <tr>\n",
              "      <th>total_cases</th>\n",
              "      <td>687</td>\n",
              "    </tr>\n",
              "    <tr>\n",
              "      <th>total_deaths</th>\n",
              "      <td>42</td>\n",
              "    </tr>\n",
              "    <tr>\n",
              "      <th>total_cases_per_million</th>\n",
              "      <td>20242.8</td>\n",
              "    </tr>\n",
              "    <tr>\n",
              "      <th>total_deaths_per_million</th>\n",
              "      <td>1237.55</td>\n",
              "    </tr>\n",
              "    <tr>\n",
              "      <th>population</th>\n",
              "      <td>33938</td>\n",
              "    </tr>\n",
              "  </tbody>\n",
              "</table>\n",
              "</div>"
            ],
            "text/plain": [
              "                               42289\n",
              "iso_code                         SMR\n",
              "continent                     Europe\n",
              "location                  San Marino\n",
              "total_cases                      687\n",
              "total_deaths                      42\n",
              "total_cases_per_million      20242.8\n",
              "total_deaths_per_million     1237.55\n",
              "population                     33938"
            ]
          },
          "metadata": {
            "tags": []
          },
          "execution_count": 46
        }
      ]
    },
    {
      "cell_type": "markdown",
      "metadata": {
        "id": "p5bZHeiDtQp6"
      },
      "source": [
        "<a id='Q2'></a>\n",
        "# 2. What is the correlation between human development and total deaths among countries?"
      ]
    },
    {
      "cell_type": "code",
      "metadata": {
        "id": "ZRjXk_YctoBa"
      },
      "source": [
        "yesterday = date.today() - timedelta(1)\n",
        "dfff = df[(df['date'] == date.strftime(yesterday, '%Y-%m-%d 00:00:00'))]"
      ],
      "execution_count": 55,
      "outputs": []
    },
    {
      "cell_type": "code",
      "metadata": {
        "id": "1zEvOi-Ztrfd",
        "outputId": "f3b76572-5430-4132-a085-0ebd7d38601d",
        "colab": {
          "base_uri": "https://localhost:8080/",
          "height": 422
        }
      },
      "source": [
        "plt.figure(figsize=(6,6))\n",
        "x = dfff.human_development_index\n",
        "y = dfff.total_deaths\n",
        "plt.plot(x, y, '.')\n",
        "plt.xlabel('Human development index')\n",
        "plt.ylabel('Total deaths')\n",
        "\n",
        "w1, w0 = ma.polyfit(ma.masked_invalid(x), ma.masked_invalid(y), 1)\n",
        "x_all = np.linspace(x.min(), x.max(), 100)\n",
        "plt.plot(x_all, w0 + w1 * x_all, '-')\n",
        "\n",
        "plt.title('Correlation HDI and Total deaths')"
      ],
      "execution_count": 54,
      "outputs": [
        {
          "output_type": "execute_result",
          "data": {
            "text/plain": [
              "Text(0.5, 1.0, 'Correlation HDI and Total deaths')"
            ]
          },
          "metadata": {
            "tags": []
          },
          "execution_count": 54
        },
        {
          "output_type": "display_data",
          "data": {
            "image/png": "[encoded data removed]",
            "text/plain": [
              "<Figure size 432x432 with 1 Axes>"
            ]
          },
          "metadata": {
            "tags": [],
            "needs_background": "light"
          }
        }
      ]
    },
    {
      "cell_type": "code",
      "metadata": {
        "id": "2ExRjUkVucn0",
        "outputId": "5b713bb7-bc36-445f-a500-f3ad3d8bb6a6",
        "colab": {
          "base_uri": "https://localhost:8080/",
          "height": 34
        }
      },
      "source": [
        "ma.corrcoef(ma.masked_invalid(x), ma.masked_invalid(y))[0,1]"
      ],
      "execution_count": 57,
      "outputs": [
        {
          "output_type": "execute_result",
          "data": {
            "text/plain": [
              "0.15609727079402214"
            ]
          },
          "metadata": {
            "tags": []
          },
          "execution_count": 57
        }
      ]
    },
    {
      "cell_type": "code",
      "metadata": {
        "id": "ptPjnyMboq5K",
        "outputId": "df7258f8-d570-48b9-8d85-a10dfbb62eb4",
        "colab": {
          "base_uri": "https://localhost:8080/",
          "height": 422
        }
      },
      "source": [
        "plt.figure(figsize=(6,6))\n",
        "x = dfff.human_development_index\n",
        "y = dfff.total_deaths_per_million\n",
        "plt.plot(x, y, '.')\n",
        "plt.xlabel('Human development index')\n",
        "plt.ylabel('Total deaths per million people')\n",
        "\n",
        "w1, w0 = ma.polyfit(ma.masked_invalid(x), ma.masked_invalid(y), 1)\n",
        "x_all = np.linspace(x.min(), x.max(), 100)\n",
        "plt.plot(x_all, w0 + w1 * x_all, '-')\n",
        "\n",
        "plt.title('Correlation HDI and Total deaths per million people')"
      ],
      "execution_count": 58,
      "outputs": [
        {
          "output_type": "execute_result",
          "data": {
            "text/plain": [
              "Text(0.5, 1.0, 'Correlation HDI and Total deaths per million people')"
            ]
          },
          "metadata": {
            "tags": []
          },
          "execution_count": 58
        },
        {
          "output_type": "display_data",
          "data": {
            "image/png": "[encoded data removed]",
            "text/plain": [
              "<Figure size 432x432 with 1 Axes>"
            ]
          },
          "metadata": {
            "tags": [],
            "needs_background": "light"
          }
        }
      ]
    },
    {
      "cell_type": "code",
      "metadata": {
        "id": "9RScF6vAuiIR",
        "outputId": "e8ac4b11-45f2-4b2e-dddc-a12f958180d2",
        "colab": {
          "base_uri": "https://localhost:8080/",
          "height": 34
        }
      },
      "source": [
        "ma.corrcoef(ma.masked_invalid(x), ma.masked_invalid(y))[0,1]"
      ],
      "execution_count": 59,
      "outputs": [
        {
          "output_type": "execute_result",
          "data": {
            "text/plain": [
              "0.36798225921535566"
            ]
          },
          "metadata": {
            "tags": []
          },
          "execution_count": 59
        }
      ]
    },
    {
      "cell_type": "markdown",
      "metadata": {
        "id": "6-Mfkfp-uB8M"
      },
      "source": [
        "Correlation:"
      ]
    },
    {
      "cell_type": "code",
      "metadata": {
        "id": "MPYj89dPuFg6",
        "outputId": "ad1b3b5a-2933-4e2a-ac50-7bd6daef5a97",
        "colab": {
          "base_uri": "https://localhost:8080/",
          "height": 106
        }
      },
      "source": [
        "result1 = dfff['total_deaths'].corr(dfff['human_development_index'])\n",
        "result2 = dfff['total_deaths_per_million'].corr(dfff['human_development_index'])\n",
        "pd.DataFrame({\"Correlation using:\": [\"Total deaths only:\", \"Total deaths per million people:\"], \"Result\": [result1, result2]})"
      ],
      "execution_count": 56,
      "outputs": [
        {
          "output_type": "execute_result",
          "data": {
            "text/html": [
              "<div>\n",
              "<style scoped>\n",
              "    .dataframe tbody tr th:only-of-type {\n",
              "        vertical-align: middle;\n",
              "    }\n",
              "\n",
              "    .dataframe tbody tr th {\n",
              "        vertical-align: top;\n",
              "    }\n",
              "\n",
              "    .dataframe thead th {\n",
              "        text-align: right;\n",
              "    }\n",
              "</style>\n",
              "<table border=\"1\" class=\"dataframe\">\n",
              "  <thead>\n",
              "    <tr style=\"text-align: right;\">\n",
              "      <th></th>\n",
              "      <th>Correlation using:</th>\n",
              "      <th>Result</th>\n",
              "    </tr>\n",
              "  </thead>\n",
              "  <tbody>\n",
              "    <tr>\n",
              "      <th>0</th>\n",
              "      <td>Total deaths only:</td>\n",
              "      <td>0.156097</td>\n",
              "    </tr>\n",
              "    <tr>\n",
              "      <th>1</th>\n",
              "      <td>Total deaths per million people:</td>\n",
              "      <td>0.367982</td>\n",
              "    </tr>\n",
              "  </tbody>\n",
              "</table>\n",
              "</div>"
            ],
            "text/plain": [
              "                 Correlation using:    Result\n",
              "0                Total deaths only:  0.156097\n",
              "1  Total deaths per million people:  0.367982"
            ]
          },
          "metadata": {
            "tags": []
          },
          "execution_count": 56
        }
      ]
    },
    {
      "cell_type": "code",
      "metadata": {
        "id": "ue9xFvZousn8"
      },
      "source": [
        "There is a promiment correlation (coef. 0.16) between the HDI per capita and the total number of deaths per capita among countries.\n",
        "There is a promiment correlation (coef. 0.37) between the HDI per capita and the total number of deaths per million people per capita among countries."
      ],
      "execution_count": null,
      "outputs": []
    },
    {
      "cell_type": "markdown",
      "metadata": {
        "id": "mulR1Y2PvPfs"
      },
      "source": [
        "The same in loglog space:"
      ]
    },
    {
      "cell_type": "code",
      "metadata": {
        "id": "zvj_Ii98vRYm",
        "outputId": "abbb642a-9103-4b2b-b9c8-a5b4b5328e3c",
        "colab": {
          "base_uri": "https://localhost:8080/",
          "height": 426
        }
      },
      "source": [
        "plt.figure(figsize=(6,6))\n",
        "x = dfff.human_development_index\n",
        "y = dfff.total_deaths\n",
        "plt.loglog(x, y, '.')\n",
        "plt.xlabel('Human development index')\n",
        "plt.ylabel('Total deaths')\n",
        "\n",
        "\n",
        "w1, w0 = ma.polyfit(ma.log(ma.masked_invalid(x)), ma.log(ma.masked_invalid(y)), 1)\n",
        "x_all = np.linspace(np.log(x.min()), np.log(x.max()), 100)\n",
        "plt.plot(np.exp(x_all), np.exp(w0 + w1 * x_all), '-')\n",
        "plt.title('Correlation HDI and Total deaths')"
      ],
      "execution_count": 69,
      "outputs": [
        {
          "output_type": "execute_result",
          "data": {
            "text/plain": [
              "Text(0.5, 1.0, 'Correlation HDI and Total deaths')"
            ]
          },
          "metadata": {
            "tags": []
          },
          "execution_count": 69
        },
        {
          "output_type": "display_data",
          "data": {
            "image/png": "[encoded data removed]",
            "text/plain": [
              "<Figure size 432x432 with 1 Axes>"
            ]
          },
          "metadata": {
            "tags": [],
            "needs_background": "light"
          }
        }
      ]
    },
    {
      "cell_type": "code",
      "metadata": {
        "id": "69OkbPldv_BE",
        "outputId": "565742b9-58bb-4d10-cc3d-5d818dc590f9",
        "colab": {
          "base_uri": "https://localhost:8080/",
          "height": 34
        }
      },
      "source": [
        "ma.corrcoef(ma.log(ma.masked_invalid(x)), ma.log(ma.masked_invalid(y)))[0,1]"
      ],
      "execution_count": 70,
      "outputs": [
        {
          "output_type": "execute_result",
          "data": {
            "text/plain": [
              "0.28965229435325474"
            ]
          },
          "metadata": {
            "tags": []
          },
          "execution_count": 70
        }
      ]
    },
    {
      "cell_type": "code",
      "metadata": {
        "id": "XRd139XFwEgy",
        "outputId": "d9a5d6e0-9df4-4fe7-9da1-b8261b1e6a5a",
        "colab": {
          "base_uri": "https://localhost:8080/",
          "height": 426
        }
      },
      "source": [
        "plt.figure(figsize=(6,6))\n",
        "x = dfff.human_development_index\n",
        "y = dfff.total_deaths_per_million\n",
        "plt.loglog(x, y, '.')\n",
        "plt.xlabel('Human development index')\n",
        "plt.ylabel('Total deaths per million people')\n",
        "\n",
        "\n",
        "w1, w0 = ma.polyfit(ma.log(ma.masked_invalid(x)), ma.log(ma.masked_invalid(y)), 1)\n",
        "x_all = np.linspace(np.log(x.min()), np.log(x.max()), 100)\n",
        "plt.plot(np.exp(x_all), np.exp(w0 + w1 * x_all), '-')\n",
        "plt.title('Correlation HDI and Total deaths per million people')"
      ],
      "execution_count": 71,
      "outputs": [
        {
          "output_type": "execute_result",
          "data": {
            "text/plain": [
              "Text(0.5, 1.0, 'Correlation HDI and Total deaths per million people')"
            ]
          },
          "metadata": {
            "tags": []
          },
          "execution_count": 71
        },
        {
          "output_type": "display_data",
          "data": {
            "image/png": "[encoded data removed]",
            "text/plain": [
              "<Figure size 432x432 with 1 Axes>"
            ]
          },
          "metadata": {
            "tags": [],
            "needs_background": "light"
          }
        }
      ]
    },
    {
      "cell_type": "code",
      "metadata": {
        "id": "mB14Qt5UwSUK",
        "outputId": "8fd355c7-b932-4279-8c49-d5c84fec1d20",
        "colab": {
          "base_uri": "https://localhost:8080/",
          "height": 34
        }
      },
      "source": [
        "ma.corrcoef(ma.log(ma.masked_invalid(x)), ma.log(ma.masked_invalid(y)))[0,1]"
      ],
      "execution_count": 72,
      "outputs": [
        {
          "output_type": "execute_result",
          "data": {
            "text/plain": [
              "0.5353294475125274"
            ]
          },
          "metadata": {
            "tags": []
          },
          "execution_count": 72
        }
      ]
    },
    {
      "cell_type": "markdown",
      "metadata": {
        "id": "cGKjGkitwrjg"
      },
      "source": [
        "On logarithmic scales the correlation is even more evident:\n",
        "\n",
        "Correlation between HDI and Total deaths: coef. 0.29\n",
        "\n",
        "Correlation between HDI and Total deaths per million people: coef. 0.54"
      ]
    },
    {
      "cell_type": "markdown",
      "metadata": {
        "id": "AqDlAz1RxMly"
      },
      "source": [
        "A possible explanation could be that even though the countries with higher HDI per capita tend to have a better quality of life, higher literacy rate, and lifetime, their residents also have a more active social life (traveling, physical communication, being in a public most of the time)."
      ]
    },
    {
      "cell_type": "markdown",
      "metadata": {
        "id": "ePxuh67VhYr6"
      },
      "source": [
        "<a id='Q3'></a>\n",
        "# 3. What is the future prognosis of total deaths per million people, taking a history of total cases as input in Haiti?"
      ]
    },
    {
      "cell_type": "code",
      "metadata": {
        "id": "YAsAR_-nhbEc",
        "outputId": "877b2de4-7f65-4594-a58f-a221536c74ea",
        "colab": {
          "base_uri": "https://localhost:8080/",
          "height": 402
        }
      },
      "source": [
        "dfff = df[(df['location'] == 'Haiti' )]\n",
        "dfff = dfff[dfff.total_deaths_per_million > 0]\n",
        "dfff = dfff[dfff.total_cases > 0]\n",
        "dfff = dfff[['total_cases', 'total_deaths_per_million']] \n",
        "pd.DataFrame(dfff)"
      ],
      "execution_count": 178,
      "outputs": [
        {
          "output_type": "execute_result",
          "data": {
            "text/html": [
              "<div>\n",
              "<style scoped>\n",
              "    .dataframe tbody tr th:only-of-type {\n",
              "        vertical-align: middle;\n",
              "    }\n",
              "\n",
              "    .dataframe tbody tr th {\n",
              "        vertical-align: top;\n",
              "    }\n",
              "\n",
              "    .dataframe thead th {\n",
              "        text-align: right;\n",
              "    }\n",
              "</style>\n",
              "<table border=\"1\" class=\"dataframe\">\n",
              "  <thead>\n",
              "    <tr style=\"text-align: right;\">\n",
              "      <th></th>\n",
              "      <th>total_cases</th>\n",
              "      <th>total_deaths_per_million</th>\n",
              "    </tr>\n",
              "  </thead>\n",
              "  <tbody>\n",
              "    <tr>\n",
              "      <th>21236</th>\n",
              "      <td>24.0</td>\n",
              "      <td>0.088</td>\n",
              "    </tr>\n",
              "    <tr>\n",
              "      <th>21237</th>\n",
              "      <td>25.0</td>\n",
              "      <td>0.088</td>\n",
              "    </tr>\n",
              "    <tr>\n",
              "      <th>21238</th>\n",
              "      <td>27.0</td>\n",
              "      <td>0.088</td>\n",
              "    </tr>\n",
              "    <tr>\n",
              "      <th>21239</th>\n",
              "      <td>30.0</td>\n",
              "      <td>0.175</td>\n",
              "    </tr>\n",
              "    <tr>\n",
              "      <th>21240</th>\n",
              "      <td>31.0</td>\n",
              "      <td>0.175</td>\n",
              "    </tr>\n",
              "    <tr>\n",
              "      <th>...</th>\n",
              "      <td>...</td>\n",
              "      <td>...</td>\n",
              "    </tr>\n",
              "    <tr>\n",
              "      <th>21431</th>\n",
              "      <td>8925.0</td>\n",
              "      <td>20.259</td>\n",
              "    </tr>\n",
              "    <tr>\n",
              "      <th>21432</th>\n",
              "      <td>8976.0</td>\n",
              "      <td>20.259</td>\n",
              "    </tr>\n",
              "    <tr>\n",
              "      <th>21433</th>\n",
              "      <td>8976.0</td>\n",
              "      <td>20.259</td>\n",
              "    </tr>\n",
              "    <tr>\n",
              "      <th>21434</th>\n",
              "      <td>8979.0</td>\n",
              "      <td>20.259</td>\n",
              "    </tr>\n",
              "    <tr>\n",
              "      <th>21435</th>\n",
              "      <td>8979.0</td>\n",
              "      <td>20.259</td>\n",
              "    </tr>\n",
              "  </tbody>\n",
              "</table>\n",
              "<p>200 rows × 2 columns</p>\n",
              "</div>"
            ],
            "text/plain": [
              "       total_cases  total_deaths_per_million\n",
              "21236         24.0                     0.088\n",
              "21237         25.0                     0.088\n",
              "21238         27.0                     0.088\n",
              "21239         30.0                     0.175\n",
              "21240         31.0                     0.175\n",
              "...            ...                       ...\n",
              "21431       8925.0                    20.259\n",
              "21432       8976.0                    20.259\n",
              "21433       8976.0                    20.259\n",
              "21434       8979.0                    20.259\n",
              "21435       8979.0                    20.259\n",
              "\n",
              "[200 rows x 2 columns]"
            ]
          },
          "metadata": {
            "tags": []
          },
          "execution_count": 178
        }
      ]
    },
    {
      "cell_type": "code",
      "metadata": {
        "id": "LrnGyN_pAiPC",
        "outputId": "ee349069-3a52-4334-83fb-ef50ae98edd4",
        "colab": {
          "base_uri": "https://localhost:8080/",
          "height": 385
        }
      },
      "source": [
        "sns.displot(dfff['total_cases'], color=\"blue\")\n",
        "plt.title('Total Cases Histogram')\n",
        "plt.grid(True)\n",
        "plt.show()"
      ],
      "execution_count": 179,
      "outputs": [
        {
          "output_type": "display_data",
          "data": {
            "image/png": "[encoded data removed]",
            "text/plain": [
              "<Figure size 360x360 with 1 Axes>"
            ]
          },
          "metadata": {
            "tags": [],
            "needs_background": "light"
          }
        }
      ]
    },
    {
      "cell_type": "code",
      "metadata": {
        "id": "3_e9zc7TDd8S",
        "outputId": "dec23864-20f6-41eb-c95c-00ec602439f0",
        "colab": {
          "base_uri": "https://localhost:8080/",
          "height": 385
        }
      },
      "source": [
        "sns.displot(dfff['total_deaths_per_million'], color=\"blue\")\n",
        "plt.title('Total Deaths Histogram')\n",
        "plt.grid(True)\n",
        "plt.show()"
      ],
      "execution_count": 180,
      "outputs": [
        {
          "output_type": "display_data",
          "data": {
            "image/png": "[encoded data removed]",
            "text/plain": [
              "<Figure size 360x360 with 1 Axes>"
            ]
          },
          "metadata": {
            "tags": [],
            "needs_background": "light"
          }
        }
      ]
    },
    {
      "cell_type": "code",
      "metadata": {
        "id": "EPeRL9HzEfSp",
        "outputId": "b4d0b71d-bc82-4b2f-cc7f-d01418d0015d",
        "colab": {
          "base_uri": "https://localhost:8080/",
          "height": 336
        }
      },
      "source": [
        "dfff['total_deaths_per_million'].plot(figsize = (10,5), grid = True)\n",
        "plt.title('Total deaths per million per 200 records')\n",
        "plt.show()"
      ],
      "execution_count": 181,
      "outputs": [
        {
          "output_type": "display_data",
          "data": {
            "image/png": "[encoded data removed]",
            "text/plain": [
              "<Figure size 720x360 with 1 Axes>"
            ]
          },
          "metadata": {
            "tags": [],
            "needs_background": "light"
          }
        }
      ]
    },
    {
      "cell_type": "code",
      "metadata": {
        "id": "Fc0piK4wGmZD",
        "outputId": "d3cb7d31-7ab8-4839-8338-56382a649c74",
        "colab": {
          "base_uri": "https://localhost:8080/",
          "height": 757
        }
      },
      "source": [
        "def experiment(X_train_, y_train_, X_test_, y_test_):\n",
        "    pipe0 = Pipeline([('scaler', StandardScaler()), ('svc', LinearRegression())])\n",
        "    pipe0 = pipe0.fit(X_train_, y_train_)\n",
        "    score = pipe0.score(X_test_, y_test_)\n",
        "    y_test_['predicted'] = pipe0.predict(X_test_.values)\n",
        "    y_test_.plot(figsize=(14,7), title=f\"score: {score}\")\n",
        "\n",
        "experiment(dfff.iloc[:-30,:], dfff.iloc[:-30], dfff.iloc[-30:, :], dfff.iloc[-30:])"
      ],
      "execution_count": 186,
      "outputs": [
        {
          "output_type": "stream",
          "text": [
            "/usr/local/lib/python3.6/dist-packages/sklearn/base.py:434: FutureWarning:\n",
            "\n",
            "The default value of multioutput (not exposed in score method) will change from 'variance_weighted' to 'uniform_average' in 0.23 to keep consistent with 'metrics.r2_score'. To specify the default value manually and avoid the warning, please either call 'metrics.r2_score' directly or make a custom scorer with 'metrics.make_scorer' (the built-in scorer 'r2' uses multioutput='uniform_average').\n",
            "\n"
          ],
          "name": "stderr"
        },
        {
          "output_type": "error",
          "ename": "ValueError",
          "evalue": "ignored",
          "traceback": [
            "\u001b[0;31m---------------------------------------------------------------------------\u001b[0m",
            "\u001b[0;31mKeyError\u001b[0m                                  Traceback (most recent call last)",
            "\u001b[0;32m/usr/local/lib/python3.6/dist-packages/pandas/core/indexes/base.py\u001b[0m in \u001b[0;36mget_loc\u001b[0;34m(self, key, method, tolerance)\u001b[0m\n\u001b[1;32m   2890\u001b[0m             \u001b[0;32mtry\u001b[0m\u001b[0;34m:\u001b[0m\u001b[0;34m\u001b[0m\u001b[0;34m\u001b[0m\u001b[0m\n\u001b[0;32m-> 2891\u001b[0;31m                 \u001b[0;32mreturn\u001b[0m \u001b[0mself\u001b[0m\u001b[0;34m.\u001b[0m\u001b[0m_engine\u001b[0m\u001b[0;34m.\u001b[0m\u001b[0mget_loc\u001b[0m\u001b[0;34m(\u001b[0m\u001b[0mcasted_key\u001b[0m\u001b[0;34m)\u001b[0m\u001b[0;34m\u001b[0m\u001b[0;34m\u001b[0m\u001b[0m\n\u001b[0m\u001b[1;32m   2892\u001b[0m             \u001b[0;32mexcept\u001b[0m \u001b[0mKeyError\u001b[0m \u001b[0;32mas\u001b[0m \u001b[0merr\u001b[0m\u001b[0;34m:\u001b[0m\u001b[0;34m\u001b[0m\u001b[0;34m\u001b[0m\u001b[0m\n",
            "\u001b[0;32mpandas/_libs/index.pyx\u001b[0m in \u001b[0;36mpandas._libs.index.IndexEngine.get_loc\u001b[0;34m()\u001b[0m\n",
            "\u001b[0;32mpandas/_libs/index.pyx\u001b[0m in \u001b[0;36mpandas._libs.index.IndexEngine.get_loc\u001b[0;34m()\u001b[0m\n",
            "\u001b[0;32mpandas/_libs/hashtable_class_helper.pxi\u001b[0m in \u001b[0;36mpandas._libs.hashtable.PyObjectHashTable.get_item\u001b[0;34m()\u001b[0m\n",
            "\u001b[0;32mpandas/_libs/hashtable_class_helper.pxi\u001b[0m in \u001b[0;36mpandas._libs.hashtable.PyObjectHashTable.get_item\u001b[0;34m()\u001b[0m\n",
            "\u001b[0;31mKeyError\u001b[0m: 'predicted'",
            "\nThe above exception was the direct cause of the following exception:\n",
            "\u001b[0;31mKeyError\u001b[0m                                  Traceback (most recent call last)",
            "\u001b[0;32m/usr/local/lib/python3.6/dist-packages/pandas/core/generic.py\u001b[0m in \u001b[0;36m_set_item\u001b[0;34m(self, key, value)\u001b[0m\n\u001b[1;32m   3570\u001b[0m         \u001b[0;32mtry\u001b[0m\u001b[0;34m:\u001b[0m\u001b[0;34m\u001b[0m\u001b[0;34m\u001b[0m\u001b[0m\n\u001b[0;32m-> 3571\u001b[0;31m             \u001b[0mloc\u001b[0m \u001b[0;34m=\u001b[0m \u001b[0mself\u001b[0m\u001b[0;34m.\u001b[0m\u001b[0m_info_axis\u001b[0m\u001b[0;34m.\u001b[0m\u001b[0mget_loc\u001b[0m\u001b[0;34m(\u001b[0m\u001b[0mkey\u001b[0m\u001b[0;34m)\u001b[0m\u001b[0;34m\u001b[0m\u001b[0;34m\u001b[0m\u001b[0m\n\u001b[0m\u001b[1;32m   3572\u001b[0m         \u001b[0;32mexcept\u001b[0m \u001b[0mKeyError\u001b[0m\u001b[0;34m:\u001b[0m\u001b[0;34m\u001b[0m\u001b[0;34m\u001b[0m\u001b[0m\n",
            "\u001b[0;32m/usr/local/lib/python3.6/dist-packages/pandas/core/indexes/base.py\u001b[0m in \u001b[0;36mget_loc\u001b[0;34m(self, key, method, tolerance)\u001b[0m\n\u001b[1;32m   2892\u001b[0m             \u001b[0;32mexcept\u001b[0m \u001b[0mKeyError\u001b[0m \u001b[0;32mas\u001b[0m \u001b[0merr\u001b[0m\u001b[0;34m:\u001b[0m\u001b[0;34m\u001b[0m\u001b[0;34m\u001b[0m\u001b[0m\n\u001b[0;32m-> 2893\u001b[0;31m                 \u001b[0;32mraise\u001b[0m \u001b[0mKeyError\u001b[0m\u001b[0;34m(\u001b[0m\u001b[0mkey\u001b[0m\u001b[0;34m)\u001b[0m \u001b[0;32mfrom\u001b[0m \u001b[0merr\u001b[0m\u001b[0;34m\u001b[0m\u001b[0;34m\u001b[0m\u001b[0m\n\u001b[0m\u001b[1;32m   2894\u001b[0m \u001b[0;34m\u001b[0m\u001b[0m\n",
            "\u001b[0;31mKeyError\u001b[0m: 'predicted'",
            "\nDuring handling of the above exception, another exception occurred:\n",
            "\u001b[0;31mValueError\u001b[0m                                Traceback (most recent call last)",
            "\u001b[0;32m<ipython-input-186-4819a4016d2c>\u001b[0m in \u001b[0;36m<module>\u001b[0;34m()\u001b[0m\n\u001b[1;32m      6\u001b[0m     \u001b[0my_test_\u001b[0m\u001b[0;34m.\u001b[0m\u001b[0mplot\u001b[0m\u001b[0;34m(\u001b[0m\u001b[0mfigsize\u001b[0m\u001b[0;34m=\u001b[0m\u001b[0;34m(\u001b[0m\u001b[0;36m14\u001b[0m\u001b[0;34m,\u001b[0m\u001b[0;36m7\u001b[0m\u001b[0;34m)\u001b[0m\u001b[0;34m,\u001b[0m \u001b[0mtitle\u001b[0m\u001b[0;34m=\u001b[0m\u001b[0;34mf\"score: {score}\"\u001b[0m\u001b[0;34m)\u001b[0m\u001b[0;34m\u001b[0m\u001b[0;34m\u001b[0m\u001b[0m\n\u001b[1;32m      7\u001b[0m \u001b[0;34m\u001b[0m\u001b[0m\n\u001b[0;32m----> 8\u001b[0;31m \u001b[0mexperiment\u001b[0m\u001b[0;34m(\u001b[0m\u001b[0mdfff\u001b[0m\u001b[0;34m.\u001b[0m\u001b[0miloc\u001b[0m\u001b[0;34m[\u001b[0m\u001b[0;34m:\u001b[0m\u001b[0;34m-\u001b[0m\u001b[0;36m30\u001b[0m\u001b[0;34m,\u001b[0m\u001b[0;34m:\u001b[0m\u001b[0;34m]\u001b[0m\u001b[0;34m,\u001b[0m \u001b[0mdfff\u001b[0m\u001b[0;34m.\u001b[0m\u001b[0miloc\u001b[0m\u001b[0;34m[\u001b[0m\u001b[0;34m:\u001b[0m\u001b[0;34m-\u001b[0m\u001b[0;36m30\u001b[0m\u001b[0;34m]\u001b[0m\u001b[0;34m,\u001b[0m \u001b[0mdfff\u001b[0m\u001b[0;34m.\u001b[0m\u001b[0miloc\u001b[0m\u001b[0;34m[\u001b[0m\u001b[0;34m-\u001b[0m\u001b[0;36m30\u001b[0m\u001b[0;34m:\u001b[0m\u001b[0;34m,\u001b[0m \u001b[0;34m:\u001b[0m\u001b[0;34m]\u001b[0m\u001b[0;34m,\u001b[0m \u001b[0mdfff\u001b[0m\u001b[0;34m.\u001b[0m\u001b[0miloc\u001b[0m\u001b[0;34m[\u001b[0m\u001b[0;34m-\u001b[0m\u001b[0;36m30\u001b[0m\u001b[0;34m:\u001b[0m\u001b[0;34m]\u001b[0m\u001b[0;34m)\u001b[0m\u001b[0;34m\u001b[0m\u001b[0;34m\u001b[0m\u001b[0m\n\u001b[0m",
            "\u001b[0;32m<ipython-input-186-4819a4016d2c>\u001b[0m in \u001b[0;36mexperiment\u001b[0;34m(X_train_, y_train_, X_test_, y_test_)\u001b[0m\n\u001b[1;32m      3\u001b[0m     \u001b[0mpipe0\u001b[0m \u001b[0;34m=\u001b[0m \u001b[0mpipe0\u001b[0m\u001b[0;34m.\u001b[0m\u001b[0mfit\u001b[0m\u001b[0;34m(\u001b[0m\u001b[0mX_train_\u001b[0m\u001b[0;34m,\u001b[0m \u001b[0my_train_\u001b[0m\u001b[0;34m)\u001b[0m\u001b[0;34m\u001b[0m\u001b[0;34m\u001b[0m\u001b[0m\n\u001b[1;32m      4\u001b[0m     \u001b[0mscore\u001b[0m \u001b[0;34m=\u001b[0m \u001b[0mpipe0\u001b[0m\u001b[0;34m.\u001b[0m\u001b[0mscore\u001b[0m\u001b[0;34m(\u001b[0m\u001b[0mX_test_\u001b[0m\u001b[0;34m,\u001b[0m \u001b[0my_test_\u001b[0m\u001b[0;34m)\u001b[0m\u001b[0;34m\u001b[0m\u001b[0;34m\u001b[0m\u001b[0m\n\u001b[0;32m----> 5\u001b[0;31m     \u001b[0my_test_\u001b[0m\u001b[0;34m[\u001b[0m\u001b[0;34m'predicted'\u001b[0m\u001b[0;34m]\u001b[0m \u001b[0;34m=\u001b[0m \u001b[0mpipe0\u001b[0m\u001b[0;34m.\u001b[0m\u001b[0mpredict\u001b[0m\u001b[0;34m(\u001b[0m\u001b[0mX_test_\u001b[0m\u001b[0;34m.\u001b[0m\u001b[0mvalues\u001b[0m\u001b[0;34m)\u001b[0m\u001b[0;34m\u001b[0m\u001b[0;34m\u001b[0m\u001b[0m\n\u001b[0m\u001b[1;32m      6\u001b[0m     \u001b[0my_test_\u001b[0m\u001b[0;34m.\u001b[0m\u001b[0mplot\u001b[0m\u001b[0;34m(\u001b[0m\u001b[0mfigsize\u001b[0m\u001b[0;34m=\u001b[0m\u001b[0;34m(\u001b[0m\u001b[0;36m14\u001b[0m\u001b[0;34m,\u001b[0m\u001b[0;36m7\u001b[0m\u001b[0;34m)\u001b[0m\u001b[0;34m,\u001b[0m \u001b[0mtitle\u001b[0m\u001b[0;34m=\u001b[0m\u001b[0;34mf\"score: {score}\"\u001b[0m\u001b[0;34m)\u001b[0m\u001b[0;34m\u001b[0m\u001b[0;34m\u001b[0m\u001b[0m\n\u001b[1;32m      7\u001b[0m \u001b[0;34m\u001b[0m\u001b[0m\n",
            "\u001b[0;32m/usr/local/lib/python3.6/dist-packages/pandas/core/frame.py\u001b[0m in \u001b[0;36m__setitem__\u001b[0;34m(self, key, value)\u001b[0m\n\u001b[1;32m   3038\u001b[0m         \u001b[0;32melse\u001b[0m\u001b[0;34m:\u001b[0m\u001b[0;34m\u001b[0m\u001b[0;34m\u001b[0m\u001b[0m\n\u001b[1;32m   3039\u001b[0m             \u001b[0;31m# set column\u001b[0m\u001b[0;34m\u001b[0m\u001b[0;34m\u001b[0m\u001b[0;34m\u001b[0m\u001b[0m\n\u001b[0;32m-> 3040\u001b[0;31m             \u001b[0mself\u001b[0m\u001b[0;34m.\u001b[0m\u001b[0m_set_item\u001b[0m\u001b[0;34m(\u001b[0m\u001b[0mkey\u001b[0m\u001b[0;34m,\u001b[0m \u001b[0mvalue\u001b[0m\u001b[0;34m)\u001b[0m\u001b[0;34m\u001b[0m\u001b[0;34m\u001b[0m\u001b[0m\n\u001b[0m\u001b[1;32m   3041\u001b[0m \u001b[0;34m\u001b[0m\u001b[0m\n\u001b[1;32m   3042\u001b[0m     \u001b[0;32mdef\u001b[0m \u001b[0m_setitem_slice\u001b[0m\u001b[0;34m(\u001b[0m\u001b[0mself\u001b[0m\u001b[0;34m,\u001b[0m \u001b[0mkey\u001b[0m\u001b[0;34m:\u001b[0m \u001b[0mslice\u001b[0m\u001b[0;34m,\u001b[0m \u001b[0mvalue\u001b[0m\u001b[0;34m)\u001b[0m\u001b[0;34m:\u001b[0m\u001b[0;34m\u001b[0m\u001b[0;34m\u001b[0m\u001b[0m\n",
            "\u001b[0;32m/usr/local/lib/python3.6/dist-packages/pandas/core/frame.py\u001b[0m in \u001b[0;36m_set_item\u001b[0;34m(self, key, value)\u001b[0m\n\u001b[1;32m   3115\u001b[0m         \u001b[0mself\u001b[0m\u001b[0;34m.\u001b[0m\u001b[0m_ensure_valid_index\u001b[0m\u001b[0;34m(\u001b[0m\u001b[0mvalue\u001b[0m\u001b[0;34m)\u001b[0m\u001b[0;34m\u001b[0m\u001b[0;34m\u001b[0m\u001b[0m\n\u001b[1;32m   3116\u001b[0m         \u001b[0mvalue\u001b[0m \u001b[0;34m=\u001b[0m \u001b[0mself\u001b[0m\u001b[0;34m.\u001b[0m\u001b[0m_sanitize_column\u001b[0m\u001b[0;34m(\u001b[0m\u001b[0mkey\u001b[0m\u001b[0;34m,\u001b[0m \u001b[0mvalue\u001b[0m\u001b[0;34m)\u001b[0m\u001b[0;34m\u001b[0m\u001b[0;34m\u001b[0m\u001b[0m\n\u001b[0;32m-> 3117\u001b[0;31m         \u001b[0mNDFrame\u001b[0m\u001b[0;34m.\u001b[0m\u001b[0m_set_item\u001b[0m\u001b[0;34m(\u001b[0m\u001b[0mself\u001b[0m\u001b[0;34m,\u001b[0m \u001b[0mkey\u001b[0m\u001b[0;34m,\u001b[0m \u001b[0mvalue\u001b[0m\u001b[0;34m)\u001b[0m\u001b[0;34m\u001b[0m\u001b[0;34m\u001b[0m\u001b[0m\n\u001b[0m\u001b[1;32m   3118\u001b[0m \u001b[0;34m\u001b[0m\u001b[0m\n\u001b[1;32m   3119\u001b[0m         \u001b[0;31m# check if we are modifying a copy\u001b[0m\u001b[0;34m\u001b[0m\u001b[0;34m\u001b[0m\u001b[0;34m\u001b[0m\u001b[0m\n",
            "\u001b[0;32m/usr/local/lib/python3.6/dist-packages/pandas/core/generic.py\u001b[0m in \u001b[0;36m_set_item\u001b[0;34m(self, key, value)\u001b[0m\n\u001b[1;32m   3572\u001b[0m         \u001b[0;32mexcept\u001b[0m \u001b[0mKeyError\u001b[0m\u001b[0;34m:\u001b[0m\u001b[0;34m\u001b[0m\u001b[0;34m\u001b[0m\u001b[0m\n\u001b[1;32m   3573\u001b[0m             \u001b[0;31m# This item wasn't present, just insert at end\u001b[0m\u001b[0;34m\u001b[0m\u001b[0;34m\u001b[0m\u001b[0;34m\u001b[0m\u001b[0m\n\u001b[0;32m-> 3574\u001b[0;31m             \u001b[0mself\u001b[0m\u001b[0;34m.\u001b[0m\u001b[0m_mgr\u001b[0m\u001b[0;34m.\u001b[0m\u001b[0minsert\u001b[0m\u001b[0;34m(\u001b[0m\u001b[0mlen\u001b[0m\u001b[0;34m(\u001b[0m\u001b[0mself\u001b[0m\u001b[0;34m.\u001b[0m\u001b[0m_info_axis\u001b[0m\u001b[0;34m)\u001b[0m\u001b[0;34m,\u001b[0m \u001b[0mkey\u001b[0m\u001b[0;34m,\u001b[0m \u001b[0mvalue\u001b[0m\u001b[0;34m)\u001b[0m\u001b[0;34m\u001b[0m\u001b[0;34m\u001b[0m\u001b[0m\n\u001b[0m\u001b[1;32m   3575\u001b[0m             \u001b[0;32mreturn\u001b[0m\u001b[0;34m\u001b[0m\u001b[0;34m\u001b[0m\u001b[0m\n\u001b[1;32m   3576\u001b[0m \u001b[0;34m\u001b[0m\u001b[0m\n",
            "\u001b[0;32m/usr/local/lib/python3.6/dist-packages/pandas/core/internals/managers.py\u001b[0m in \u001b[0;36minsert\u001b[0;34m(self, loc, item, value, allow_duplicates)\u001b[0m\n\u001b[1;32m   1187\u001b[0m             \u001b[0mvalue\u001b[0m \u001b[0;34m=\u001b[0m \u001b[0m_safe_reshape\u001b[0m\u001b[0;34m(\u001b[0m\u001b[0mvalue\u001b[0m\u001b[0;34m,\u001b[0m \u001b[0;34m(\u001b[0m\u001b[0;36m1\u001b[0m\u001b[0;34m,\u001b[0m\u001b[0;34m)\u001b[0m \u001b[0;34m+\u001b[0m \u001b[0mvalue\u001b[0m\u001b[0;34m.\u001b[0m\u001b[0mshape\u001b[0m\u001b[0;34m)\u001b[0m\u001b[0;34m\u001b[0m\u001b[0;34m\u001b[0m\u001b[0m\n\u001b[1;32m   1188\u001b[0m \u001b[0;34m\u001b[0m\u001b[0m\n\u001b[0;32m-> 1189\u001b[0;31m         \u001b[0mblock\u001b[0m \u001b[0;34m=\u001b[0m \u001b[0mmake_block\u001b[0m\u001b[0;34m(\u001b[0m\u001b[0mvalues\u001b[0m\u001b[0;34m=\u001b[0m\u001b[0mvalue\u001b[0m\u001b[0;34m,\u001b[0m \u001b[0mndim\u001b[0m\u001b[0;34m=\u001b[0m\u001b[0mself\u001b[0m\u001b[0;34m.\u001b[0m\u001b[0mndim\u001b[0m\u001b[0;34m,\u001b[0m \u001b[0mplacement\u001b[0m\u001b[0;34m=\u001b[0m\u001b[0mslice\u001b[0m\u001b[0;34m(\u001b[0m\u001b[0mloc\u001b[0m\u001b[0;34m,\u001b[0m \u001b[0mloc\u001b[0m \u001b[0;34m+\u001b[0m \u001b[0;36m1\u001b[0m\u001b[0;34m)\u001b[0m\u001b[0;34m)\u001b[0m\u001b[0;34m\u001b[0m\u001b[0;34m\u001b[0m\u001b[0m\n\u001b[0m\u001b[1;32m   1190\u001b[0m \u001b[0;34m\u001b[0m\u001b[0m\n\u001b[1;32m   1191\u001b[0m         \u001b[0;32mfor\u001b[0m \u001b[0mblkno\u001b[0m\u001b[0;34m,\u001b[0m \u001b[0mcount\u001b[0m \u001b[0;32min\u001b[0m \u001b[0m_fast_count_smallints\u001b[0m\u001b[0;34m(\u001b[0m\u001b[0mself\u001b[0m\u001b[0;34m.\u001b[0m\u001b[0mblknos\u001b[0m\u001b[0;34m[\u001b[0m\u001b[0mloc\u001b[0m\u001b[0;34m:\u001b[0m\u001b[0;34m]\u001b[0m\u001b[0;34m)\u001b[0m\u001b[0;34m:\u001b[0m\u001b[0;34m\u001b[0m\u001b[0;34m\u001b[0m\u001b[0m\n",
            "\u001b[0;32m/usr/local/lib/python3.6/dist-packages/pandas/core/internals/blocks.py\u001b[0m in \u001b[0;36mmake_block\u001b[0;34m(values, placement, klass, ndim, dtype)\u001b[0m\n\u001b[1;32m   2717\u001b[0m         \u001b[0mvalues\u001b[0m \u001b[0;34m=\u001b[0m \u001b[0mDatetimeArray\u001b[0m\u001b[0;34m.\u001b[0m\u001b[0m_simple_new\u001b[0m\u001b[0;34m(\u001b[0m\u001b[0mvalues\u001b[0m\u001b[0;34m,\u001b[0m \u001b[0mdtype\u001b[0m\u001b[0;34m=\u001b[0m\u001b[0mdtype\u001b[0m\u001b[0;34m)\u001b[0m\u001b[0;34m\u001b[0m\u001b[0;34m\u001b[0m\u001b[0m\n\u001b[1;32m   2718\u001b[0m \u001b[0;34m\u001b[0m\u001b[0m\n\u001b[0;32m-> 2719\u001b[0;31m     \u001b[0;32mreturn\u001b[0m \u001b[0mklass\u001b[0m\u001b[0;34m(\u001b[0m\u001b[0mvalues\u001b[0m\u001b[0;34m,\u001b[0m \u001b[0mndim\u001b[0m\u001b[0;34m=\u001b[0m\u001b[0mndim\u001b[0m\u001b[0;34m,\u001b[0m \u001b[0mplacement\u001b[0m\u001b[0;34m=\u001b[0m\u001b[0mplacement\u001b[0m\u001b[0;34m)\u001b[0m\u001b[0;34m\u001b[0m\u001b[0;34m\u001b[0m\u001b[0m\n\u001b[0m\u001b[1;32m   2720\u001b[0m \u001b[0;34m\u001b[0m\u001b[0m\n\u001b[1;32m   2721\u001b[0m \u001b[0;34m\u001b[0m\u001b[0m\n",
            "\u001b[0;32m/usr/local/lib/python3.6/dist-packages/pandas/core/internals/blocks.py\u001b[0m in \u001b[0;36m__init__\u001b[0;34m(self, values, placement, ndim)\u001b[0m\n\u001b[1;32m    128\u001b[0m         \u001b[0;32mif\u001b[0m \u001b[0mself\u001b[0m\u001b[0;34m.\u001b[0m\u001b[0m_validate_ndim\u001b[0m \u001b[0;32mand\u001b[0m \u001b[0mself\u001b[0m\u001b[0;34m.\u001b[0m\u001b[0mndim\u001b[0m \u001b[0;32mand\u001b[0m \u001b[0mlen\u001b[0m\u001b[0;34m(\u001b[0m\u001b[0mself\u001b[0m\u001b[0;34m.\u001b[0m\u001b[0mmgr_locs\u001b[0m\u001b[0;34m)\u001b[0m \u001b[0;34m!=\u001b[0m \u001b[0mlen\u001b[0m\u001b[0;34m(\u001b[0m\u001b[0mself\u001b[0m\u001b[0;34m.\u001b[0m\u001b[0mvalues\u001b[0m\u001b[0;34m)\u001b[0m\u001b[0;34m:\u001b[0m\u001b[0;34m\u001b[0m\u001b[0;34m\u001b[0m\u001b[0m\n\u001b[1;32m    129\u001b[0m             raise ValueError(\n\u001b[0;32m--> 130\u001b[0;31m                 \u001b[0;34mf\"Wrong number of items passed {len(self.values)}, \"\u001b[0m\u001b[0;34m\u001b[0m\u001b[0;34m\u001b[0m\u001b[0m\n\u001b[0m\u001b[1;32m    131\u001b[0m                 \u001b[0;34mf\"placement implies {len(self.mgr_locs)}\"\u001b[0m\u001b[0;34m\u001b[0m\u001b[0;34m\u001b[0m\u001b[0m\n\u001b[1;32m    132\u001b[0m             )\n",
            "\u001b[0;31mValueError\u001b[0m: Wrong number of items passed 2, placement implies 1"
          ]
        }
      ]
    }
  ]
}