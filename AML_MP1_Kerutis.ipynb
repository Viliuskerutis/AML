{
  "nbformat": 4,
  "nbformat_minor": 0,
  "metadata": {
    "colab": {
      "name": "AML_MP1_Kerutis.ipynb",
      "provenance": [],
      "authorship_tag": "ABX9TyMiljx7El/crTwxz9PzXcAA",
      "include_colab_link": true
    },
    "kernelspec": {
      "name": "python3",
      "display_name": "Python 3"
    }
  },
  "cells": [
    {
      "cell_type": "markdown",
      "metadata": {
        "id": "view-in-github",
        "colab_type": "text"
      },
      "source": [
        "<a href=\"https://colab.research.google.com/github/Viliuskerutis/AML/blob/main/AML_MP1_Kerutis.ipynb\" target=\"_parent\"><img src=\"https://colab.research.google.com/assets/colab-badge.svg\" alt=\"Open In Colab\"/></a>"
      ]
    },
    {
      "cell_type": "markdown",
      "metadata": {
        "id": "c7riU5AFPyZa"
      },
      "source": [
        "Which country has the most deaths per million people in June?"
      ]
    },
    {
      "cell_type": "code",
      "metadata": {
        "id": "vEuBhNtSQGvg"
      },
      "source": [
        "import pandas as pd\n",
        "import numpy as np"
      ],
      "execution_count": 15,
      "outputs": []
    },
    {
      "cell_type": "code",
      "metadata": {
        "id": "H99yE-hKS976",
        "outputId": "012bde09-89f4-4258-9f8d-3b61838e1719",
        "colab": {
          "base_uri": "https://localhost:8080/",
          "height": 263
        }
      },
      "source": [
        "#df = pd.read_csv(r'C:/Users/kerut/Desktop/KTU/Magistras/Pirmas Kursas/Advanced Machine Learning/owid-covid-data.csv', index_col=0)\n",
        "df = pd.read_csv('https://raw.githubusercontent.com/Viliuskerutis/AML/main/owid-covid-data.csv', low_memory=False)\n",
        "print (df)"
      ],
      "execution_count": 27,
      "outputs": [
        {
          "output_type": "stream",
          "text": [
            "      iso_code continent  ... life_expectancy human_development_index\n",
            "0          AFG      Asia  ...           64.83                   0.498\n",
            "1          AFG      Asia  ...           64.83                   0.498\n",
            "2          AFG      Asia  ...           64.83                   0.498\n",
            "3          AFG      Asia  ...           64.83                   0.498\n",
            "4          AFG      Asia  ...           64.83                   0.498\n",
            "...        ...       ...  ...             ...                     ...\n",
            "49432      NaN       NaN  ...             NaN                     NaN\n",
            "49433      NaN       NaN  ...             NaN                     NaN\n",
            "49434      NaN       NaN  ...             NaN                     NaN\n",
            "49435      NaN       NaN  ...             NaN                     NaN\n",
            "49436      NaN       NaN  ...             NaN                     NaN\n",
            "\n",
            "[49437 rows x 41 columns]\n"
          ],
          "name": "stdout"
        }
      ]
    }
  ]
}