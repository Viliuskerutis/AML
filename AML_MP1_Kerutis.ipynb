{
  "nbformat": 4,
  "nbformat_minor": 0,
  "metadata": {
    "colab": {
      "name": "AML_MP1_Kerutis.ipynb",
      "provenance": [],
      "collapsed_sections": [],
      "authorship_tag": "ABX9TyOL5P2yjXFBxPOBsmU6htzV",
      "include_colab_link": true
    },
    "kernelspec": {
      "name": "python3",
      "display_name": "Python 3"
    }
  },
  "cells": [
    {
      "cell_type": "markdown",
      "metadata": {
        "id": "view-in-github",
        "colab_type": "text"
      },
      "source": [
        "<a href=\"https://colab.research.google.com/github/Viliuskerutis/AML/blob/main/AML_MP1_Kerutis.ipynb\" target=\"_parent\"><img src=\"https://colab.research.google.com/assets/colab-badge.svg\" alt=\"Open In Colab\"/></a>"
      ]
    },
    {
      "cell_type": "markdown",
      "metadata": {
        "id": "-d2ScW5hnFmp"
      },
      "source": [
        "# MP1 - Viral Data Analysis\n",
        "Date: 2020.10.11\n",
        "\n",
        "Author: © 2020 Vilius Kerutis\n",
        "\n",
        "This notebook is part of an individual project for [KTU IF](https://fi.ktu.edu/) [P176M010 Advanced Machine Learning](https://admissions.ktu.edu/programme/m-software-engineering/#P176M010) class led by [M. Lukoševičius](http://mantas.info/).\n",
        "\n",
        "Here I analyze open COVID-19 data from https://ourworldindata.org/ to answer the following questions:\n",
        "\n",
        "1. [Which country has the most deaths per million people in June?](#Q1)\n",
        "1. [What is the correlation between human development and total deaths among countries?](#Q2)\n",
        "1. [What is the future prognosis of total deaths per million people, taking a history of total cases as input in Haiti?](#Q3)\n",
        "\n",
        "This work is licensed under a <a rel=\"license\" href=\"http://creativecommons.org/licenses/by/4.0/\">Creative Commons Attribution 4.0 International license</a>. <a rel=\"license\" href=\"http://creativecommons.org/licenses/by/4.0/\"><img alt=\"Creative Commons licencija\" style=\"border-width:0\" src=\"https://i.creativecommons.org/l/by/4.0/80x15.png\" /></a>"
      ]
    },
    {
      "cell_type": "markdown",
      "metadata": {
        "id": "-uvH-bexou5t"
      },
      "source": [
        "## Load the data"
      ]
    },
    {
      "cell_type": "code",
      "metadata": {
        "id": "vEuBhNtSQGvg"
      },
      "source": [
        "import pandas as pd\n",
        "import numpy as np\n",
        "from datetime import date, timedelta\n",
        "import numpy.ma as ma\n",
        "import matplotlib.pyplot as plt\n",
        "import seaborn as sns\n",
        "from sklearn.preprocessing import StandardScaler\n",
        "from sklearn.linear_model import LinearRegression\n",
        "from sklearn.decomposition import PCA\n",
        "from sklearn.pipeline import Pipeline\n",
        "pd.options.mode.chained_assignment = None\n",
        "import requests"
      ],
      "execution_count": 212,
      "outputs": []
    },
    {
      "cell_type": "code",
      "metadata": {
        "id": "H99yE-hKS976",
        "outputId": "4696345e-0ea7-431f-d313-10e449b3ed80",
        "colab": {
          "base_uri": "https://localhost:8080/",
          "height": 272
        }
      },
      "source": [
        "#df = pd.read_csv('https://raw.githubusercontent.com/Viliuskerutis/AML/main/owid-covid-data.csv', low_memory=False)\n",
        "fname = 'owid-covid-data.csv'\n",
        "url = 'https://covid.ourworldindata.org/data/' + fname\n",
        "r = requests.get(url)\n",
        "open(fname, 'wb').write(r.content)\n",
        "df = pd.read_csv(url, parse_dates=[3])\n",
        "df.columns"
      ],
      "execution_count": 215,
      "outputs": [
        {
          "output_type": "execute_result",
          "data": {
            "text/plain": [
              "Index(['iso_code', 'continent', 'location', 'date', 'total_cases', 'new_cases',\n",
              "       'new_cases_smoothed', 'total_deaths', 'new_deaths',\n",
              "       'new_deaths_smoothed', 'total_cases_per_million',\n",
              "       'new_cases_per_million', 'new_cases_smoothed_per_million',\n",
              "       'total_deaths_per_million', 'new_deaths_per_million',\n",
              "       'new_deaths_smoothed_per_million', 'total_tests', 'new_tests',\n",
              "       'total_tests_per_thousand', 'new_tests_per_thousand',\n",
              "       'new_tests_smoothed', 'new_tests_smoothed_per_thousand',\n",
              "       'tests_per_case', 'positive_rate', 'tests_units', 'stringency_index',\n",
              "       'population', 'population_density', 'median_age', 'aged_65_older',\n",
              "       'aged_70_older', 'gdp_per_capita', 'extreme_poverty',\n",
              "       'cardiovasc_death_rate', 'diabetes_prevalence', 'female_smokers',\n",
              "       'male_smokers', 'handwashing_facilities', 'hospital_beds_per_thousand',\n",
              "       'life_expectancy', 'human_development_index'],\n",
              "      dtype='object')"
            ]
          },
          "metadata": {
            "tags": []
          },
          "execution_count": 215
        }
      ]
    },
    {
      "cell_type": "markdown",
      "metadata": {
        "id": "Ou4BTqEQlIex"
      },
      "source": [
        "Check the \"freshness\" of the data."
      ]
    },
    {
      "cell_type": "code",
      "metadata": {
        "id": "utjy0msGk3os",
        "outputId": "d6fe2a98-7161-4e0f-f49b-8d528b7de26e",
        "colab": {
          "base_uri": "https://localhost:8080/",
          "height": 34
        }
      },
      "source": [
        "df.date.max()"
      ],
      "execution_count": 216,
      "outputs": [
        {
          "output_type": "execute_result",
          "data": {
            "text/plain": [
              "Timestamp('2020-10-24 00:00:00')"
            ]
          },
          "metadata": {
            "tags": []
          },
          "execution_count": 216
        }
      ]
    },
    {
      "cell_type": "markdown",
      "metadata": {
        "id": "TZNU8LCtlKQp"
      },
      "source": [
        "All the different country codes:"
      ]
    },
    {
      "cell_type": "code",
      "metadata": {
        "id": "LABdikxHlOrl",
        "outputId": "dba7fe9d-451e-4f87-adb8-b520fba4c471",
        "colab": {
          "base_uri": "https://localhost:8080/",
          "height": 425
        }
      },
      "source": [
        "df.iso_code.unique()"
      ],
      "execution_count": 217,
      "outputs": [
        {
          "output_type": "execute_result",
          "data": {
            "text/plain": [
              "array(['AFG', 'ALB', 'DZA', 'AND', 'AGO', 'AIA', 'ATG', 'ARG', 'ARM',\n",
              "       'ABW', 'AUS', 'AUT', 'AZE', 'BHS', 'BHR', 'BGD', 'BRB', 'BLR',\n",
              "       'BEL', 'BLZ', 'BEN', 'BMU', 'BTN', 'BOL', 'BES', 'BIH', 'BWA',\n",
              "       'BRA', 'VGB', 'BRN', 'BGR', 'BFA', 'BDI', 'KHM', 'CMR', 'CAN',\n",
              "       'CPV', 'CYM', 'CAF', 'TCD', 'CHL', 'CHN', 'COL', 'COM', 'COG',\n",
              "       'CRI', 'CIV', 'HRV', 'CUB', 'CUW', 'CYP', 'CZE', 'COD', 'DNK',\n",
              "       'DJI', 'DMA', 'DOM', 'ECU', 'EGY', 'SLV', 'GNQ', 'ERI', 'EST',\n",
              "       'ETH', 'FRO', 'FLK', 'FJI', 'FIN', 'FRA', 'PYF', 'GAB', 'GMB',\n",
              "       'GEO', 'DEU', 'GHA', 'GIB', 'GRC', 'GRL', 'GRD', 'GUM', 'GTM',\n",
              "       'GGY', 'GIN', 'GNB', 'GUY', 'HTI', 'HND', 'HKG', 'HUN', 'ISL',\n",
              "       'IND', 'IDN', 'IRN', 'IRQ', 'IRL', 'IMN', 'ISR', 'ITA', 'JAM',\n",
              "       'JPN', 'JEY', 'JOR', 'KAZ', 'KEN', 'OWID_KOS', 'KWT', 'KGZ', 'LAO',\n",
              "       'LVA', 'LBN', 'LSO', 'LBR', 'LBY', 'LIE', 'LTU', 'LUX', 'MKD',\n",
              "       'MDG', 'MWI', 'MYS', 'MDV', 'MLI', 'MLT', 'MRT', 'MUS', 'MEX',\n",
              "       'MDA', 'MCO', 'MNG', 'MNE', 'MSR', 'MAR', 'MOZ', 'MMR', 'NAM',\n",
              "       'NPL', 'NLD', 'NCL', 'NZL', 'NIC', 'NER', 'NGA', 'MNP', 'NOR',\n",
              "       'OMN', 'PAK', 'PSE', 'PAN', 'PNG', 'PRY', 'PER', 'PHL', 'POL',\n",
              "       'PRT', 'PRI', 'QAT', 'ROU', 'RUS', 'RWA', 'KNA', 'LCA', 'VCT',\n",
              "       'SMR', 'STP', 'SAU', 'SEN', 'SRB', 'SYC', 'SLE', 'SGP', 'SXM',\n",
              "       'SVK', 'SVN', 'SLB', 'SOM', 'ZAF', 'KOR', 'SSD', 'ESP', 'LKA',\n",
              "       'SDN', 'SUR', 'SWZ', 'SWE', 'CHE', 'SYR', 'TWN', 'TJK', 'TZA',\n",
              "       'THA', 'TLS', 'TGO', 'TTO', 'TUN', 'TUR', 'TCA', 'UGA', 'UKR',\n",
              "       'ARE', 'GBR', 'USA', 'VIR', 'URY', 'UZB', 'VAT', 'VEN', 'VNM',\n",
              "       'ESH', 'YEM', 'ZMB', 'ZWE', 'OWID_WRL', nan], dtype=object)"
            ]
          },
          "metadata": {
            "tags": []
          },
          "execution_count": 217
        }
      ]
    },
    {
      "cell_type": "markdown",
      "metadata": {
        "id": "JC-HpCNjlStu"
      },
      "source": [
        "Column info."
      ]
    },
    {
      "cell_type": "code",
      "metadata": {
        "id": "0EUuFLiYlatI",
        "outputId": "da995d9d-5bc4-4559-c4af-8cd11a56f964",
        "colab": {
          "base_uri": "https://localhost:8080/",
          "height": 833
        }
      },
      "source": [
        "df.info()"
      ],
      "execution_count": 218,
      "outputs": [
        {
          "output_type": "stream",
          "text": [
            "<class 'pandas.core.frame.DataFrame'>\n",
            "RangeIndex: 52222 entries, 0 to 52221\n",
            "Data columns (total 41 columns):\n",
            " #   Column                           Non-Null Count  Dtype         \n",
            "---  ------                           --------------  -----         \n",
            " 0   iso_code                         51923 non-null  object        \n",
            " 1   continent                        51624 non-null  object        \n",
            " 2   location                         52222 non-null  object        \n",
            " 3   date                             52222 non-null  datetime64[ns]\n",
            " 4   total_cases                      48615 non-null  float64       \n",
            " 5   new_cases                        51338 non-null  float64       \n",
            " 6   new_cases_smoothed               50550 non-null  float64       \n",
            " 7   total_deaths                     39750 non-null  float64       \n",
            " 8   new_deaths                       51338 non-null  float64       \n",
            " 9   new_deaths_smoothed              50550 non-null  float64       \n",
            " 10  total_cases_per_million          48352 non-null  float64       \n",
            " 11  new_cases_per_million            51274 non-null  float64       \n",
            " 12  new_cases_smoothed_per_million   50485 non-null  float64       \n",
            " 13  total_deaths_per_million         39502 non-null  float64       \n",
            " 14  new_deaths_per_million           51274 non-null  float64       \n",
            " 15  new_deaths_smoothed_per_million  50485 non-null  float64       \n",
            " 16  total_tests                      19747 non-null  float64       \n",
            " 17  new_tests                        19405 non-null  float64       \n",
            " 18  total_tests_per_thousand         19747 non-null  float64       \n",
            " 19  new_tests_per_thousand           19405 non-null  float64       \n",
            " 20  new_tests_smoothed               21792 non-null  float64       \n",
            " 21  new_tests_smoothed_per_thousand  21792 non-null  float64       \n",
            " 22  tests_per_case                   20099 non-null  float64       \n",
            " 23  positive_rate                    20443 non-null  float64       \n",
            " 24  tests_units                      22743 non-null  object        \n",
            " 25  stringency_index                 43476 non-null  float64       \n",
            " 26  population                       51923 non-null  float64       \n",
            " 27  population_density               49519 non-null  float64       \n",
            " 28  median_age                       46514 non-null  float64       \n",
            " 29  aged_65_older                    45817 non-null  float64       \n",
            " 30  aged_70_older                    46272 non-null  float64       \n",
            " 31  gdp_per_capita                   45899 non-null  float64       \n",
            " 32  extreme_poverty                  30609 non-null  float64       \n",
            " 33  cardiovasc_death_rate            46494 non-null  float64       \n",
            " 34  diabetes_prevalence              48173 non-null  float64       \n",
            " 35  female_smokers                   36274 non-null  float64       \n",
            " 36  male_smokers                     35809 non-null  float64       \n",
            " 37  handwashing_facilities           21919 non-null  float64       \n",
            " 38  hospital_beds_per_thousand       41928 non-null  float64       \n",
            " 39  life_expectancy                  51260 non-null  float64       \n",
            " 40  human_development_index          44875 non-null  float64       \n",
            "dtypes: datetime64[ns](1), float64(36), object(4)\n",
            "memory usage: 16.3+ MB\n"
          ],
          "name": "stdout"
        }
      ]
    },
    {
      "cell_type": "code",
      "metadata": {
        "id": "rshKV-BGlgl1",
        "outputId": "6a30c101-838d-459e-8567-0f2d6bbd0596",
        "colab": {
          "base_uri": "https://localhost:8080/",
          "height": 317
        }
      },
      "source": [
        "df.describe()"
      ],
      "execution_count": 219,
      "outputs": [
        {
          "output_type": "execute_result",
          "data": {
            "text/html": [
              "<div>\n",
              "<style scoped>\n",
              "    .dataframe tbody tr th:only-of-type {\n",
              "        vertical-align: middle;\n",
              "    }\n",
              "\n",
              "    .dataframe tbody tr th {\n",
              "        vertical-align: top;\n",
              "    }\n",
              "\n",
              "    .dataframe thead th {\n",
              "        text-align: right;\n",
              "    }\n",
              "</style>\n",
              "<table border=\"1\" class=\"dataframe\">\n",
              "  <thead>\n",
              "    <tr style=\"text-align: right;\">\n",
              "      <th></th>\n",
              "      <th>total_cases</th>\n",
              "      <th>new_cases</th>\n",
              "      <th>new_cases_smoothed</th>\n",
              "      <th>total_deaths</th>\n",
              "      <th>new_deaths</th>\n",
              "      <th>new_deaths_smoothed</th>\n",
              "      <th>total_cases_per_million</th>\n",
              "      <th>new_cases_per_million</th>\n",
              "      <th>new_cases_smoothed_per_million</th>\n",
              "      <th>total_deaths_per_million</th>\n",
              "      <th>new_deaths_per_million</th>\n",
              "      <th>new_deaths_smoothed_per_million</th>\n",
              "      <th>total_tests</th>\n",
              "      <th>new_tests</th>\n",
              "      <th>total_tests_per_thousand</th>\n",
              "      <th>new_tests_per_thousand</th>\n",
              "      <th>new_tests_smoothed</th>\n",
              "      <th>new_tests_smoothed_per_thousand</th>\n",
              "      <th>tests_per_case</th>\n",
              "      <th>positive_rate</th>\n",
              "      <th>stringency_index</th>\n",
              "      <th>population</th>\n",
              "      <th>population_density</th>\n",
              "      <th>median_age</th>\n",
              "      <th>aged_65_older</th>\n",
              "      <th>aged_70_older</th>\n",
              "      <th>gdp_per_capita</th>\n",
              "      <th>extreme_poverty</th>\n",
              "      <th>cardiovasc_death_rate</th>\n",
              "      <th>diabetes_prevalence</th>\n",
              "      <th>female_smokers</th>\n",
              "      <th>male_smokers</th>\n",
              "      <th>handwashing_facilities</th>\n",
              "      <th>hospital_beds_per_thousand</th>\n",
              "      <th>life_expectancy</th>\n",
              "      <th>human_development_index</th>\n",
              "    </tr>\n",
              "  </thead>\n",
              "  <tbody>\n",
              "    <tr>\n",
              "      <th>count</th>\n",
              "      <td>4.861500e+04</td>\n",
              "      <td>51338.000000</td>\n",
              "      <td>50550.000000</td>\n",
              "      <td>3.975000e+04</td>\n",
              "      <td>51338.000000</td>\n",
              "      <td>50550.000000</td>\n",
              "      <td>48352.000000</td>\n",
              "      <td>51274.000000</td>\n",
              "      <td>50485.000000</td>\n",
              "      <td>39502.000000</td>\n",
              "      <td>51274.000000</td>\n",
              "      <td>50485.000000</td>\n",
              "      <td>1.974700e+04</td>\n",
              "      <td>1.940500e+04</td>\n",
              "      <td>19747.000000</td>\n",
              "      <td>19405.000000</td>\n",
              "      <td>2.179200e+04</td>\n",
              "      <td>21792.000000</td>\n",
              "      <td>20099.000000</td>\n",
              "      <td>20443.000000</td>\n",
              "      <td>43476.000000</td>\n",
              "      <td>5.192300e+04</td>\n",
              "      <td>49519.000000</td>\n",
              "      <td>46514.000000</td>\n",
              "      <td>45817.000000</td>\n",
              "      <td>46272.000000</td>\n",
              "      <td>45899.000000</td>\n",
              "      <td>30609.000000</td>\n",
              "      <td>46494.000000</td>\n",
              "      <td>48173.000000</td>\n",
              "      <td>36274.000000</td>\n",
              "      <td>35809.000000</td>\n",
              "      <td>21919.000000</td>\n",
              "      <td>41928.000000</td>\n",
              "      <td>51260.000000</td>\n",
              "      <td>44875.000000</td>\n",
              "    </tr>\n",
              "    <tr>\n",
              "      <th>mean</th>\n",
              "      <td>1.374720e+05</td>\n",
              "      <td>1647.029160</td>\n",
              "      <td>1620.609168</td>\n",
              "      <td>6.166195e+03</td>\n",
              "      <td>44.617398</td>\n",
              "      <td>44.582023</td>\n",
              "      <td>2530.651196</td>\n",
              "      <td>30.502269</td>\n",
              "      <td>29.467562</td>\n",
              "      <td>85.732276</td>\n",
              "      <td>0.594579</td>\n",
              "      <td>0.589742</td>\n",
              "      <td>1.905907e+06</td>\n",
              "      <td>2.581705e+04</td>\n",
              "      <td>66.336827</td>\n",
              "      <td>0.826141</td>\n",
              "      <td>2.488937e+04</td>\n",
              "      <td>0.805787</td>\n",
              "      <td>192.383357</td>\n",
              "      <td>0.064548</td>\n",
              "      <td>56.915738</td>\n",
              "      <td>8.689905e+07</td>\n",
              "      <td>361.164024</td>\n",
              "      <td>31.249086</td>\n",
              "      <td>9.213762</td>\n",
              "      <td>5.824350</td>\n",
              "      <td>20753.505689</td>\n",
              "      <td>12.293322</td>\n",
              "      <td>252.028997</td>\n",
              "      <td>8.055457</td>\n",
              "      <td>10.771577</td>\n",
              "      <td>32.639162</td>\n",
              "      <td>52.264742</td>\n",
              "      <td>3.097904</td>\n",
              "      <td>73.975616</td>\n",
              "      <td>0.723403</td>\n",
              "    </tr>\n",
              "    <tr>\n",
              "      <th>std</th>\n",
              "      <td>1.377259e+06</td>\n",
              "      <td>14887.148134</td>\n",
              "      <td>14515.855655</td>\n",
              "      <td>4.993555e+04</td>\n",
              "      <td>372.060319</td>\n",
              "      <td>361.132657</td>\n",
              "      <td>5000.689880</td>\n",
              "      <td>108.566336</td>\n",
              "      <td>73.862492</td>\n",
              "      <td>170.013082</td>\n",
              "      <td>2.953105</td>\n",
              "      <td>1.865523</td>\n",
              "      <td>8.657876e+06</td>\n",
              "      <td>1.051654e+05</td>\n",
              "      <td>132.322326</td>\n",
              "      <td>1.534724</td>\n",
              "      <td>9.695588e+04</td>\n",
              "      <td>1.387750</td>\n",
              "      <td>915.093742</td>\n",
              "      <td>0.087988</td>\n",
              "      <td>26.666508</td>\n",
              "      <td>6.068755e+08</td>\n",
              "      <td>1648.021201</td>\n",
              "      <td>9.036971</td>\n",
              "      <td>6.306955</td>\n",
              "      <td>4.304128</td>\n",
              "      <td>20369.724988</td>\n",
              "      <td>19.337209</td>\n",
              "      <td>117.417401</td>\n",
              "      <td>4.156446</td>\n",
              "      <td>10.475674</td>\n",
              "      <td>13.440685</td>\n",
              "      <td>31.626630</td>\n",
              "      <td>2.519943</td>\n",
              "      <td>7.388114</td>\n",
              "      <td>0.153083</td>\n",
              "    </tr>\n",
              "    <tr>\n",
              "      <th>min</th>\n",
              "      <td>1.000000e+00</td>\n",
              "      <td>-8261.000000</td>\n",
              "      <td>-552.000000</td>\n",
              "      <td>1.000000e+00</td>\n",
              "      <td>-1918.000000</td>\n",
              "      <td>-232.143000</td>\n",
              "      <td>0.001000</td>\n",
              "      <td>-2212.545000</td>\n",
              "      <td>-269.978000</td>\n",
              "      <td>0.000000</td>\n",
              "      <td>-67.901000</td>\n",
              "      <td>-9.678000</td>\n",
              "      <td>1.000000e+00</td>\n",
              "      <td>-3.743000e+03</td>\n",
              "      <td>0.000000</td>\n",
              "      <td>-0.398000</td>\n",
              "      <td>0.000000e+00</td>\n",
              "      <td>0.000000</td>\n",
              "      <td>1.535000</td>\n",
              "      <td>0.000000</td>\n",
              "      <td>0.000000</td>\n",
              "      <td>8.090000e+02</td>\n",
              "      <td>0.137000</td>\n",
              "      <td>15.100000</td>\n",
              "      <td>1.144000</td>\n",
              "      <td>0.526000</td>\n",
              "      <td>661.240000</td>\n",
              "      <td>0.100000</td>\n",
              "      <td>79.370000</td>\n",
              "      <td>0.990000</td>\n",
              "      <td>0.100000</td>\n",
              "      <td>7.700000</td>\n",
              "      <td>1.188000</td>\n",
              "      <td>0.100000</td>\n",
              "      <td>53.280000</td>\n",
              "      <td>0.354000</td>\n",
              "    </tr>\n",
              "    <tr>\n",
              "      <th>25%</th>\n",
              "      <td>1.450000e+02</td>\n",
              "      <td>0.000000</td>\n",
              "      <td>0.714000</td>\n",
              "      <td>1.100000e+01</td>\n",
              "      <td>0.000000</td>\n",
              "      <td>0.000000</td>\n",
              "      <td>73.557000</td>\n",
              "      <td>0.000000</td>\n",
              "      <td>0.205000</td>\n",
              "      <td>3.384250</td>\n",
              "      <td>0.000000</td>\n",
              "      <td>0.000000</td>\n",
              "      <td>5.366700e+04</td>\n",
              "      <td>1.008000e+03</td>\n",
              "      <td>3.338000</td>\n",
              "      <td>0.068000</td>\n",
              "      <td>1.091000e+03</td>\n",
              "      <td>0.069000</td>\n",
              "      <td>11.479500</td>\n",
              "      <td>0.009000</td>\n",
              "      <td>38.890000</td>\n",
              "      <td>1.399491e+06</td>\n",
              "      <td>37.728000</td>\n",
              "      <td>23.200000</td>\n",
              "      <td>3.552000</td>\n",
              "      <td>2.085000</td>\n",
              "      <td>5338.454000</td>\n",
              "      <td>0.500000</td>\n",
              "      <td>155.898000</td>\n",
              "      <td>5.310000</td>\n",
              "      <td>1.900000</td>\n",
              "      <td>21.400000</td>\n",
              "      <td>21.222000</td>\n",
              "      <td>1.300000</td>\n",
              "      <td>69.870000</td>\n",
              "      <td>0.601000</td>\n",
              "    </tr>\n",
              "    <tr>\n",
              "      <th>50%</th>\n",
              "      <td>1.745000e+03</td>\n",
              "      <td>12.000000</td>\n",
              "      <td>17.429000</td>\n",
              "      <td>7.200000e+01</td>\n",
              "      <td>0.000000</td>\n",
              "      <td>0.286000</td>\n",
              "      <td>486.958000</td>\n",
              "      <td>1.880000</td>\n",
              "      <td>3.454000</td>\n",
              "      <td>17.733000</td>\n",
              "      <td>0.000000</td>\n",
              "      <td>0.025000</td>\n",
              "      <td>2.299580e+05</td>\n",
              "      <td>3.486000e+03</td>\n",
              "      <td>17.078000</td>\n",
              "      <td>0.311000</td>\n",
              "      <td>3.874500e+03</td>\n",
              "      <td>0.325000</td>\n",
              "      <td>32.519000</td>\n",
              "      <td>0.030000</td>\n",
              "      <td>61.110000</td>\n",
              "      <td>8.278737e+06</td>\n",
              "      <td>88.125000</td>\n",
              "      <td>31.100000</td>\n",
              "      <td>6.981000</td>\n",
              "      <td>4.393000</td>\n",
              "      <td>14048.881000</td>\n",
              "      <td>2.000000</td>\n",
              "      <td>238.339000</td>\n",
              "      <td>7.110000</td>\n",
              "      <td>6.400000</td>\n",
              "      <td>31.400000</td>\n",
              "      <td>52.232000</td>\n",
              "      <td>2.500000</td>\n",
              "      <td>75.400000</td>\n",
              "      <td>0.754000</td>\n",
              "    </tr>\n",
              "    <tr>\n",
              "      <th>75%</th>\n",
              "      <td>1.724800e+04</td>\n",
              "      <td>195.750000</td>\n",
              "      <td>204.857000</td>\n",
              "      <td>6.160000e+02</td>\n",
              "      <td>3.000000</td>\n",
              "      <td>3.571000</td>\n",
              "      <td>2823.746250</td>\n",
              "      <td>21.867750</td>\n",
              "      <td>24.559000</td>\n",
              "      <td>72.256750</td>\n",
              "      <td>0.244000</td>\n",
              "      <td>0.347000</td>\n",
              "      <td>9.141365e+05</td>\n",
              "      <td>1.281300e+04</td>\n",
              "      <td>72.630000</td>\n",
              "      <td>0.970000</td>\n",
              "      <td>1.371450e+04</td>\n",
              "      <td>0.975000</td>\n",
              "      <td>105.000000</td>\n",
              "      <td>0.086000</td>\n",
              "      <td>78.700000</td>\n",
              "      <td>2.982597e+07</td>\n",
              "      <td>214.243000</td>\n",
              "      <td>39.700000</td>\n",
              "      <td>14.762000</td>\n",
              "      <td>9.395000</td>\n",
              "      <td>31400.840000</td>\n",
              "      <td>18.100000</td>\n",
              "      <td>318.991000</td>\n",
              "      <td>10.390000</td>\n",
              "      <td>19.600000</td>\n",
              "      <td>40.900000</td>\n",
              "      <td>83.741000</td>\n",
              "      <td>4.200000</td>\n",
              "      <td>79.380000</td>\n",
              "      <td>0.847000</td>\n",
              "    </tr>\n",
              "    <tr>\n",
              "      <th>max</th>\n",
              "      <td>4.227908e+07</td>\n",
              "      <td>468117.000000</td>\n",
              "      <td>405812.857000</td>\n",
              "      <td>1.145314e+06</td>\n",
              "      <td>10491.000000</td>\n",
              "      <td>7456.857000</td>\n",
              "      <td>52261.697000</td>\n",
              "      <td>8652.658000</td>\n",
              "      <td>2472.188000</td>\n",
              "      <td>1237.551000</td>\n",
              "      <td>215.382000</td>\n",
              "      <td>63.140000</td>\n",
              "      <td>1.600000e+08</td>\n",
              "      <td>1.492409e+06</td>\n",
              "      <td>1553.505000</td>\n",
              "      <td>25.971000</td>\n",
              "      <td>1.169107e+06</td>\n",
              "      <td>19.098000</td>\n",
              "      <td>45864.000000</td>\n",
              "      <td>0.651000</td>\n",
              "      <td>100.000000</td>\n",
              "      <td>7.794799e+09</td>\n",
              "      <td>19347.500000</td>\n",
              "      <td>48.200000</td>\n",
              "      <td>27.049000</td>\n",
              "      <td>18.493000</td>\n",
              "      <td>116935.600000</td>\n",
              "      <td>77.600000</td>\n",
              "      <td>724.417000</td>\n",
              "      <td>23.360000</td>\n",
              "      <td>44.000000</td>\n",
              "      <td>78.100000</td>\n",
              "      <td>98.999000</td>\n",
              "      <td>13.800000</td>\n",
              "      <td>86.750000</td>\n",
              "      <td>0.953000</td>\n",
              "    </tr>\n",
              "  </tbody>\n",
              "</table>\n",
              "</div>"
            ],
            "text/plain": [
              "        total_cases      new_cases  ...  life_expectancy  human_development_index\n",
              "count  4.861500e+04   51338.000000  ...     51260.000000             44875.000000\n",
              "mean   1.374720e+05    1647.029160  ...        73.975616                 0.723403\n",
              "std    1.377259e+06   14887.148134  ...         7.388114                 0.153083\n",
              "min    1.000000e+00   -8261.000000  ...        53.280000                 0.354000\n",
              "25%    1.450000e+02       0.000000  ...        69.870000                 0.601000\n",
              "50%    1.745000e+03      12.000000  ...        75.400000                 0.754000\n",
              "75%    1.724800e+04     195.750000  ...        79.380000                 0.847000\n",
              "max    4.227908e+07  468117.000000  ...        86.750000                 0.953000\n",
              "\n",
              "[8 rows x 36 columns]"
            ]
          },
          "metadata": {
            "tags": []
          },
          "execution_count": 219
        }
      ]
    },
    {
      "cell_type": "markdown",
      "metadata": {
        "id": "c7riU5AFPyZa"
      },
      "source": [
        "<a id='Q1'></a>\n",
        "# 1. Which country has the most deaths per million people in June?"
      ]
    },
    {
      "cell_type": "markdown",
      "metadata": {
        "id": "ojKf_WcOlnok"
      },
      "source": [
        "Find a country with the most total deaths per million people in June."
      ]
    },
    {
      "cell_type": "code",
      "metadata": {
        "id": "m7WucA7GmIKy",
        "outputId": "0e747f63-16d6-405d-b78a-806b0efe589c",
        "colab": {
          "base_uri": "https://localhost:8080/",
          "height": 297
        }
      },
      "source": [
        "date_from = pd.Timestamp(date(2020,6,1))\n",
        "date_to = pd.Timestamp(date(2020,7,1))\n",
        "df['date'] =  pd.to_datetime(df['date'])\n",
        "dff = df[(df['date'] > date_from ) & (df['date'] < date_to)]\n",
        "dff = dff.loc[dff['total_deaths_per_million'].idxmax()]\n",
        "\n",
        "pd.DataFrame(dff[['iso_code', 'continent', 'location','total_cases','total_deaths','total_cases_per_million','total_deaths_per_million','population']])"
      ],
      "execution_count": 220,
      "outputs": [
        {
          "output_type": "execute_result",
          "data": {
            "text/html": [
              "<div>\n",
              "<style scoped>\n",
              "    .dataframe tbody tr th:only-of-type {\n",
              "        vertical-align: middle;\n",
              "    }\n",
              "\n",
              "    .dataframe tbody tr th {\n",
              "        vertical-align: top;\n",
              "    }\n",
              "\n",
              "    .dataframe thead th {\n",
              "        text-align: right;\n",
              "    }\n",
              "</style>\n",
              "<table border=\"1\" class=\"dataframe\">\n",
              "  <thead>\n",
              "    <tr style=\"text-align: right;\">\n",
              "      <th></th>\n",
              "      <th>40144</th>\n",
              "    </tr>\n",
              "  </thead>\n",
              "  <tbody>\n",
              "    <tr>\n",
              "      <th>iso_code</th>\n",
              "      <td>SMR</td>\n",
              "    </tr>\n",
              "    <tr>\n",
              "      <th>continent</th>\n",
              "      <td>Europe</td>\n",
              "    </tr>\n",
              "    <tr>\n",
              "      <th>location</th>\n",
              "      <td>San Marino</td>\n",
              "    </tr>\n",
              "    <tr>\n",
              "      <th>total_cases</th>\n",
              "      <td>687</td>\n",
              "    </tr>\n",
              "    <tr>\n",
              "      <th>total_deaths</th>\n",
              "      <td>42</td>\n",
              "    </tr>\n",
              "    <tr>\n",
              "      <th>total_cases_per_million</th>\n",
              "      <td>20242.8</td>\n",
              "    </tr>\n",
              "    <tr>\n",
              "      <th>total_deaths_per_million</th>\n",
              "      <td>1237.55</td>\n",
              "    </tr>\n",
              "    <tr>\n",
              "      <th>population</th>\n",
              "      <td>33938</td>\n",
              "    </tr>\n",
              "  </tbody>\n",
              "</table>\n",
              "</div>"
            ],
            "text/plain": [
              "                               40144\n",
              "iso_code                         SMR\n",
              "continent                     Europe\n",
              "location                  San Marino\n",
              "total_cases                      687\n",
              "total_deaths                      42\n",
              "total_cases_per_million      20242.8\n",
              "total_deaths_per_million     1237.55\n",
              "population                     33938"
            ]
          },
          "metadata": {
            "tags": []
          },
          "execution_count": 220
        }
      ]
    },
    {
      "cell_type": "markdown",
      "metadata": {
        "id": "p5bZHeiDtQp6"
      },
      "source": [
        "<a id='Q2'></a>\n",
        "# 2. What is the correlation between human development and total deaths among countries?"
      ]
    },
    {
      "cell_type": "code",
      "metadata": {
        "id": "ZRjXk_YctoBa"
      },
      "source": [
        "yesterday = date.today() - timedelta(2)\n",
        "dfff = df[(df['date'] == date.strftime(yesterday, '%Y-%m-%d 00:00:00'))]"
      ],
      "execution_count": 221,
      "outputs": []
    },
    {
      "cell_type": "code",
      "metadata": {
        "id": "1zEvOi-Ztrfd",
        "outputId": "7afdba8f-2f8a-492a-fb20-2341bed3265e",
        "colab": {
          "base_uri": "https://localhost:8080/",
          "height": 421
        }
      },
      "source": [
        "plt.figure(figsize=(6,6))\n",
        "x = dfff.human_development_index\n",
        "y = dfff.total_deaths\n",
        "plt.plot(x, y, '.')\n",
        "plt.xlabel('Human development index')\n",
        "plt.ylabel('Total deaths')\n",
        "\n",
        "w1, w0 = ma.polyfit(ma.masked_invalid(x), ma.masked_invalid(y), 1)\n",
        "x_all = np.linspace(x.min(), x.max(), 100)\n",
        "plt.plot(x_all, w0 + w1 * x_all, '-')\n",
        "\n",
        "plt.title('Correlation HDI and Total deaths')"
      ],
      "execution_count": 222,
      "outputs": [
        {
          "output_type": "execute_result",
          "data": {
            "text/plain": [
              "Text(0.5, 1.0, 'Correlation HDI and Total deaths')"
            ]
          },
          "metadata": {
            "tags": []
          },
          "execution_count": 222
        },
        {
          "output_type": "display_data",
          "data": {
            "image/png": "[encoded data removed]",
            "text/plain": [
              "<Figure size 432x432 with 1 Axes>"
            ]
          },
          "metadata": {
            "tags": [],
            "needs_background": "light"
          }
        }
      ]
    },
    {
      "cell_type": "code",
      "metadata": {
        "id": "2ExRjUkVucn0",
        "outputId": "6908e23a-d65b-4468-bcfd-38a54c77e73a",
        "colab": {
          "base_uri": "https://localhost:8080/",
          "height": 34
        }
      },
      "source": [
        "ma.corrcoef(ma.masked_invalid(x), ma.masked_invalid(y))[0,1]"
      ],
      "execution_count": 223,
      "outputs": [
        {
          "output_type": "execute_result",
          "data": {
            "text/plain": [
              "0.16157722591252394"
            ]
          },
          "metadata": {
            "tags": []
          },
          "execution_count": 223
        }
      ]
    },
    {
      "cell_type": "code",
      "metadata": {
        "id": "ptPjnyMboq5K",
        "outputId": "d1802931-5b03-4f25-e788-f4cf88f09865",
        "colab": {
          "base_uri": "https://localhost:8080/",
          "height": 421
        }
      },
      "source": [
        "plt.figure(figsize=(6,6))\n",
        "x = dfff.human_development_index\n",
        "y = dfff.total_deaths_per_million\n",
        "plt.plot(x, y, '.')\n",
        "plt.xlabel('Human development index')\n",
        "plt.ylabel('Total deaths per million people')\n",
        "\n",
        "w1, w0 = ma.polyfit(ma.masked_invalid(x), ma.masked_invalid(y), 1)\n",
        "x_all = np.linspace(x.min(), x.max(), 100)\n",
        "plt.plot(x_all, w0 + w1 * x_all, '-')\n",
        "\n",
        "plt.title('Correlation HDI and Total deaths per million people')"
      ],
      "execution_count": 224,
      "outputs": [
        {
          "output_type": "execute_result",
          "data": {
            "text/plain": [
              "Text(0.5, 1.0, 'Correlation HDI and Total deaths per million people')"
            ]
          },
          "metadata": {
            "tags": []
          },
          "execution_count": 224
        },
        {
          "output_type": "display_data",
          "data": {
            "image/png": "[encoded data removed]",
            "text/plain": [
              "<Figure size 432x432 with 1 Axes>"
            ]
          },
          "metadata": {
            "tags": [],
            "needs_background": "light"
          }
        }
      ]
    },
    {
      "cell_type": "code",
      "metadata": {
        "id": "9RScF6vAuiIR",
        "outputId": "4b94ddcc-fdbc-431d-84d6-21a42c94c0df",
        "colab": {
          "base_uri": "https://localhost:8080/",
          "height": 34
        }
      },
      "source": [
        "ma.corrcoef(ma.masked_invalid(x), ma.masked_invalid(y))[0,1]"
      ],
      "execution_count": 225,
      "outputs": [
        {
          "output_type": "execute_result",
          "data": {
            "text/plain": [
              "0.3881924480921162"
            ]
          },
          "metadata": {
            "tags": []
          },
          "execution_count": 225
        }
      ]
    },
    {
      "cell_type": "markdown",
      "metadata": {
        "id": "6-Mfkfp-uB8M"
      },
      "source": [
        "Correlation:"
      ]
    },
    {
      "cell_type": "code",
      "metadata": {
        "id": "MPYj89dPuFg6",
        "outputId": "9be281dd-15d1-41fc-b7e3-6e3864ad7a60",
        "colab": {
          "base_uri": "https://localhost:8080/",
          "height": 111
        }
      },
      "source": [
        "result1 = dfff['total_deaths'].corr(dfff['human_development_index'])\n",
        "result2 = dfff['total_deaths_per_million'].corr(dfff['human_development_index'])\n",
        "pd.DataFrame({\"Correlation using:\": [\"Total deaths only:\", \"Total deaths per million people:\"], \"Result\": [result1, result2]})"
      ],
      "execution_count": 226,
      "outputs": [
        {
          "output_type": "execute_result",
          "data": {
            "text/html": [
              "<div>\n",
              "<style scoped>\n",
              "    .dataframe tbody tr th:only-of-type {\n",
              "        vertical-align: middle;\n",
              "    }\n",
              "\n",
              "    .dataframe tbody tr th {\n",
              "        vertical-align: top;\n",
              "    }\n",
              "\n",
              "    .dataframe thead th {\n",
              "        text-align: right;\n",
              "    }\n",
              "</style>\n",
              "<table border=\"1\" class=\"dataframe\">\n",
              "  <thead>\n",
              "    <tr style=\"text-align: right;\">\n",
              "      <th></th>\n",
              "      <th>Correlation using:</th>\n",
              "      <th>Result</th>\n",
              "    </tr>\n",
              "  </thead>\n",
              "  <tbody>\n",
              "    <tr>\n",
              "      <th>0</th>\n",
              "      <td>Total deaths only:</td>\n",
              "      <td>0.161577</td>\n",
              "    </tr>\n",
              "    <tr>\n",
              "      <th>1</th>\n",
              "      <td>Total deaths per million people:</td>\n",
              "      <td>0.388192</td>\n",
              "    </tr>\n",
              "  </tbody>\n",
              "</table>\n",
              "</div>"
            ],
            "text/plain": [
              "                 Correlation using:    Result\n",
              "0                Total deaths only:  0.161577\n",
              "1  Total deaths per million people:  0.388192"
            ]
          },
          "metadata": {
            "tags": []
          },
          "execution_count": 226
        }
      ]
    },
    {
      "cell_type": "markdown",
      "metadata": {
        "id": "oA7I0ipmlkLg"
      },
      "source": [
        "There is a promiment correlation (coef. 0.16) between the HDI per capita and the total number of deaths per capita among countries.\n",
        "There is a promiment correlation (coef. 0.37) between the HDI per capita and the total number of deaths per million people per capita among countries."
      ]
    },
    {
      "cell_type": "markdown",
      "metadata": {
        "id": "mulR1Y2PvPfs"
      },
      "source": [
        "The same in loglog space:"
      ]
    },
    {
      "cell_type": "code",
      "metadata": {
        "id": "zvj_Ii98vRYm",
        "outputId": "d5e60b12-29af-4dee-d98f-75ace0bb2b81",
        "colab": {
          "base_uri": "https://localhost:8080/",
          "height": 425
        }
      },
      "source": [
        "plt.figure(figsize=(6,6))\n",
        "x = dfff.human_development_index\n",
        "y = dfff.total_deaths\n",
        "plt.loglog(x, y, '.')\n",
        "plt.xlabel('Human development index')\n",
        "plt.ylabel('Total deaths')\n",
        "\n",
        "\n",
        "w1, w0 = ma.polyfit(ma.log(ma.masked_invalid(x)), ma.log(ma.masked_invalid(y)), 1)\n",
        "x_all = np.linspace(np.log(x.min()), np.log(x.max()), 100)\n",
        "plt.plot(np.exp(x_all), np.exp(w0 + w1 * x_all), '-')\n",
        "plt.title('Correlation HDI and Total deaths')"
      ],
      "execution_count": 227,
      "outputs": [
        {
          "output_type": "execute_result",
          "data": {
            "text/plain": [
              "Text(0.5, 1.0, 'Correlation HDI and Total deaths')"
            ]
          },
          "metadata": {
            "tags": []
          },
          "execution_count": 227
        },
        {
          "output_type": "display_data",
          "data": {
            "image/png": "[encoded data removed]",
            "text/plain": [
              "<Figure size 432x432 with 1 Axes>"
            ]
          },
          "metadata": {
            "tags": [],
            "needs_background": "light"
          }
        }
      ]
    },
    {
      "cell_type": "code",
      "metadata": {
        "id": "69OkbPldv_BE",
        "outputId": "7bfa2359-ff8a-47d5-d82c-011406ac5a2a",
        "colab": {
          "base_uri": "https://localhost:8080/",
          "height": 34
        }
      },
      "source": [
        "ma.corrcoef(ma.log(ma.masked_invalid(x)), ma.log(ma.masked_invalid(y)))[0,1]"
      ],
      "execution_count": 228,
      "outputs": [
        {
          "output_type": "execute_result",
          "data": {
            "text/plain": [
              "0.3028703245835867"
            ]
          },
          "metadata": {
            "tags": []
          },
          "execution_count": 228
        }
      ]
    },
    {
      "cell_type": "code",
      "metadata": {
        "id": "XRd139XFwEgy",
        "outputId": "2f9107cf-364b-4745-a380-fbe311c5a352",
        "colab": {
          "base_uri": "https://localhost:8080/",
          "height": 425
        }
      },
      "source": [
        "plt.figure(figsize=(6,6))\n",
        "x = dfff.human_development_index\n",
        "y = dfff.total_deaths_per_million\n",
        "plt.loglog(x, y, '.')\n",
        "plt.xlabel('Human development index')\n",
        "plt.ylabel('Total deaths per million people')\n",
        "\n",
        "\n",
        "w1, w0 = ma.polyfit(ma.log(ma.masked_invalid(x)), ma.log(ma.masked_invalid(y)), 1)\n",
        "x_all = np.linspace(np.log(x.min()), np.log(x.max()), 100)\n",
        "plt.plot(np.exp(x_all), np.exp(w0 + w1 * x_all), '-')\n",
        "plt.title('Correlation HDI and Total deaths per million people')"
      ],
      "execution_count": 229,
      "outputs": [
        {
          "output_type": "execute_result",
          "data": {
            "text/plain": [
              "Text(0.5, 1.0, 'Correlation HDI and Total deaths per million people')"
            ]
          },
          "metadata": {
            "tags": []
          },
          "execution_count": 229
        },
        {
          "output_type": "display_data",
          "data": {
            "image/png": "[encoded data removed]",
            "text/plain": [
              "<Figure size 432x432 with 1 Axes>"
            ]
          },
          "metadata": {
            "tags": [],
            "needs_background": "light"
          }
        }
      ]
    },
    {
      "cell_type": "code",
      "metadata": {
        "id": "mB14Qt5UwSUK",
        "outputId": "e8e59616-e3d3-4ea3-98a0-f42272deab07",
        "colab": {
          "base_uri": "https://localhost:8080/",
          "height": 34
        }
      },
      "source": [
        "ma.corrcoef(ma.log(ma.masked_invalid(x)), ma.log(ma.masked_invalid(y)))[0,1]"
      ],
      "execution_count": 230,
      "outputs": [
        {
          "output_type": "execute_result",
          "data": {
            "text/plain": [
              "0.5443423680674455"
            ]
          },
          "metadata": {
            "tags": []
          },
          "execution_count": 230
        }
      ]
    },
    {
      "cell_type": "markdown",
      "metadata": {
        "id": "cGKjGkitwrjg"
      },
      "source": [
        "On logarithmic scales the correlation is even more evident:\n",
        "\n",
        "Correlation between HDI and Total deaths: coef. 0.29\n",
        "\n",
        "Correlation between HDI and Total deaths per million people: coef. 0.54"
      ]
    },
    {
      "cell_type": "markdown",
      "metadata": {
        "id": "AqDlAz1RxMly"
      },
      "source": [
        "A possible explanation could be that even though the countries with higher HDI per capita tend to have a better quality of life, higher literacy rate, and lifetime, their residents also have a more active social life (traveling, physical communication, being in a public most of the time)."
      ]
    },
    {
      "cell_type": "markdown",
      "metadata": {
        "id": "ePxuh67VhYr6"
      },
      "source": [
        "<a id='Q3'></a>\n",
        "# 3. What is the future prognosis of total deaths per million people, taking a history of total cases as input in Haiti?"
      ]
    },
    {
      "cell_type": "markdown",
      "metadata": {
        "id": "qnkK9Gyxbbe5"
      },
      "source": [
        "Prepare datasets for future prognosis."
      ]
    },
    {
      "cell_type": "code",
      "metadata": {
        "id": "YAsAR_-nhbEc",
        "outputId": "160887f4-448e-461f-ce99-0c0d9ef43994",
        "colab": {
          "base_uri": "https://localhost:8080/",
          "height": 609
        }
      },
      "source": [
        "dfff = df[(df['location'] == 'Haiti' )]\n",
        "dfff = dfff[dfff.total_deaths_per_million > 0]\n",
        "dfff = dfff[dfff.total_cases > 0]\n",
        "dfff = dfff.dropna(axis=1, how='all')\n",
        "dfff.drop('iso_code', axis='columns', inplace=True)\n",
        "dfff.drop('continent', axis='columns', inplace=True)\n",
        "dfff.drop('location', axis='columns', inplace=True)\n",
        "dfr = dfff[['total_deaths_per_million']] \n",
        "\n",
        "pd.DataFrame(dfff)"
      ],
      "execution_count": 232,
      "outputs": [
        {
          "output_type": "execute_result",
          "data": {
            "text/html": [
              "<div>\n",
              "<style scoped>\n",
              "    .dataframe tbody tr th:only-of-type {\n",
              "        vertical-align: middle;\n",
              "    }\n",
              "\n",
              "    .dataframe tbody tr th {\n",
              "        vertical-align: top;\n",
              "    }\n",
              "\n",
              "    .dataframe thead th {\n",
              "        text-align: right;\n",
              "    }\n",
              "</style>\n",
              "<table border=\"1\" class=\"dataframe\">\n",
              "  <thead>\n",
              "    <tr style=\"text-align: right;\">\n",
              "      <th></th>\n",
              "      <th>date</th>\n",
              "      <th>total_cases</th>\n",
              "      <th>new_cases</th>\n",
              "      <th>new_cases_smoothed</th>\n",
              "      <th>total_deaths</th>\n",
              "      <th>new_deaths</th>\n",
              "      <th>new_deaths_smoothed</th>\n",
              "      <th>total_cases_per_million</th>\n",
              "      <th>new_cases_per_million</th>\n",
              "      <th>new_cases_smoothed_per_million</th>\n",
              "      <th>total_deaths_per_million</th>\n",
              "      <th>new_deaths_per_million</th>\n",
              "      <th>new_deaths_smoothed_per_million</th>\n",
              "      <th>stringency_index</th>\n",
              "      <th>population</th>\n",
              "      <th>population_density</th>\n",
              "      <th>median_age</th>\n",
              "      <th>aged_65_older</th>\n",
              "      <th>aged_70_older</th>\n",
              "      <th>gdp_per_capita</th>\n",
              "      <th>extreme_poverty</th>\n",
              "      <th>cardiovasc_death_rate</th>\n",
              "      <th>diabetes_prevalence</th>\n",
              "      <th>female_smokers</th>\n",
              "      <th>male_smokers</th>\n",
              "      <th>handwashing_facilities</th>\n",
              "      <th>hospital_beds_per_thousand</th>\n",
              "      <th>life_expectancy</th>\n",
              "      <th>human_development_index</th>\n",
              "    </tr>\n",
              "  </thead>\n",
              "  <tbody>\n",
              "    <tr>\n",
              "      <th>20839</th>\n",
              "      <td>2020-04-07</td>\n",
              "      <td>24.0</td>\n",
              "      <td>3.0</td>\n",
              "      <td>1.286</td>\n",
              "      <td>1.0</td>\n",
              "      <td>1.0</td>\n",
              "      <td>0.143</td>\n",
              "      <td>2.105</td>\n",
              "      <td>0.263</td>\n",
              "      <td>0.113</td>\n",
              "      <td>0.088</td>\n",
              "      <td>0.088</td>\n",
              "      <td>0.013</td>\n",
              "      <td>90.74</td>\n",
              "      <td>11402533.0</td>\n",
              "      <td>398.448</td>\n",
              "      <td>24.3</td>\n",
              "      <td>4.8</td>\n",
              "      <td>2.954</td>\n",
              "      <td>1653.173</td>\n",
              "      <td>23.5</td>\n",
              "      <td>430.548</td>\n",
              "      <td>6.65</td>\n",
              "      <td>2.9</td>\n",
              "      <td>23.1</td>\n",
              "      <td>22.863</td>\n",
              "      <td>0.7</td>\n",
              "      <td>64.0</td>\n",
              "      <td>0.498</td>\n",
              "    </tr>\n",
              "    <tr>\n",
              "      <th>20840</th>\n",
              "      <td>2020-04-08</td>\n",
              "      <td>25.0</td>\n",
              "      <td>1.0</td>\n",
              "      <td>1.429</td>\n",
              "      <td>1.0</td>\n",
              "      <td>0.0</td>\n",
              "      <td>0.143</td>\n",
              "      <td>2.192</td>\n",
              "      <td>0.088</td>\n",
              "      <td>0.125</td>\n",
              "      <td>0.088</td>\n",
              "      <td>0.000</td>\n",
              "      <td>0.013</td>\n",
              "      <td>90.74</td>\n",
              "      <td>11402533.0</td>\n",
              "      <td>398.448</td>\n",
              "      <td>24.3</td>\n",
              "      <td>4.8</td>\n",
              "      <td>2.954</td>\n",
              "      <td>1653.173</td>\n",
              "      <td>23.5</td>\n",
              "      <td>430.548</td>\n",
              "      <td>6.65</td>\n",
              "      <td>2.9</td>\n",
              "      <td>23.1</td>\n",
              "      <td>22.863</td>\n",
              "      <td>0.7</td>\n",
              "      <td>64.0</td>\n",
              "      <td>0.498</td>\n",
              "    </tr>\n",
              "    <tr>\n",
              "      <th>20841</th>\n",
              "      <td>2020-04-09</td>\n",
              "      <td>27.0</td>\n",
              "      <td>2.0</td>\n",
              "      <td>1.571</td>\n",
              "      <td>1.0</td>\n",
              "      <td>0.0</td>\n",
              "      <td>0.143</td>\n",
              "      <td>2.368</td>\n",
              "      <td>0.175</td>\n",
              "      <td>0.138</td>\n",
              "      <td>0.088</td>\n",
              "      <td>0.000</td>\n",
              "      <td>0.013</td>\n",
              "      <td>90.74</td>\n",
              "      <td>11402533.0</td>\n",
              "      <td>398.448</td>\n",
              "      <td>24.3</td>\n",
              "      <td>4.8</td>\n",
              "      <td>2.954</td>\n",
              "      <td>1653.173</td>\n",
              "      <td>23.5</td>\n",
              "      <td>430.548</td>\n",
              "      <td>6.65</td>\n",
              "      <td>2.9</td>\n",
              "      <td>23.1</td>\n",
              "      <td>22.863</td>\n",
              "      <td>0.7</td>\n",
              "      <td>64.0</td>\n",
              "      <td>0.498</td>\n",
              "    </tr>\n",
              "    <tr>\n",
              "      <th>20842</th>\n",
              "      <td>2020-04-10</td>\n",
              "      <td>30.0</td>\n",
              "      <td>3.0</td>\n",
              "      <td>1.714</td>\n",
              "      <td>2.0</td>\n",
              "      <td>1.0</td>\n",
              "      <td>0.286</td>\n",
              "      <td>2.631</td>\n",
              "      <td>0.263</td>\n",
              "      <td>0.150</td>\n",
              "      <td>0.175</td>\n",
              "      <td>0.088</td>\n",
              "      <td>0.025</td>\n",
              "      <td>90.74</td>\n",
              "      <td>11402533.0</td>\n",
              "      <td>398.448</td>\n",
              "      <td>24.3</td>\n",
              "      <td>4.8</td>\n",
              "      <td>2.954</td>\n",
              "      <td>1653.173</td>\n",
              "      <td>23.5</td>\n",
              "      <td>430.548</td>\n",
              "      <td>6.65</td>\n",
              "      <td>2.9</td>\n",
              "      <td>23.1</td>\n",
              "      <td>22.863</td>\n",
              "      <td>0.7</td>\n",
              "      <td>64.0</td>\n",
              "      <td>0.498</td>\n",
              "    </tr>\n",
              "    <tr>\n",
              "      <th>20843</th>\n",
              "      <td>2020-04-11</td>\n",
              "      <td>31.0</td>\n",
              "      <td>1.0</td>\n",
              "      <td>1.857</td>\n",
              "      <td>2.0</td>\n",
              "      <td>0.0</td>\n",
              "      <td>0.286</td>\n",
              "      <td>2.719</td>\n",
              "      <td>0.088</td>\n",
              "      <td>0.163</td>\n",
              "      <td>0.175</td>\n",
              "      <td>0.000</td>\n",
              "      <td>0.025</td>\n",
              "      <td>90.74</td>\n",
              "      <td>11402533.0</td>\n",
              "      <td>398.448</td>\n",
              "      <td>24.3</td>\n",
              "      <td>4.8</td>\n",
              "      <td>2.954</td>\n",
              "      <td>1653.173</td>\n",
              "      <td>23.5</td>\n",
              "      <td>430.548</td>\n",
              "      <td>6.65</td>\n",
              "      <td>2.9</td>\n",
              "      <td>23.1</td>\n",
              "      <td>22.863</td>\n",
              "      <td>0.7</td>\n",
              "      <td>64.0</td>\n",
              "      <td>0.498</td>\n",
              "    </tr>\n",
              "    <tr>\n",
              "      <th>...</th>\n",
              "      <td>...</td>\n",
              "      <td>...</td>\n",
              "      <td>...</td>\n",
              "      <td>...</td>\n",
              "      <td>...</td>\n",
              "      <td>...</td>\n",
              "      <td>...</td>\n",
              "      <td>...</td>\n",
              "      <td>...</td>\n",
              "      <td>...</td>\n",
              "      <td>...</td>\n",
              "      <td>...</td>\n",
              "      <td>...</td>\n",
              "      <td>...</td>\n",
              "      <td>...</td>\n",
              "      <td>...</td>\n",
              "      <td>...</td>\n",
              "      <td>...</td>\n",
              "      <td>...</td>\n",
              "      <td>...</td>\n",
              "      <td>...</td>\n",
              "      <td>...</td>\n",
              "      <td>...</td>\n",
              "      <td>...</td>\n",
              "      <td>...</td>\n",
              "      <td>...</td>\n",
              "      <td>...</td>\n",
              "      <td>...</td>\n",
              "      <td>...</td>\n",
              "    </tr>\n",
              "    <tr>\n",
              "      <th>21035</th>\n",
              "      <td>2020-10-20</td>\n",
              "      <td>8976.0</td>\n",
              "      <td>51.0</td>\n",
              "      <td>13.429</td>\n",
              "      <td>231.0</td>\n",
              "      <td>0.0</td>\n",
              "      <td>0.143</td>\n",
              "      <td>787.194</td>\n",
              "      <td>4.473</td>\n",
              "      <td>1.178</td>\n",
              "      <td>20.259</td>\n",
              "      <td>0.000</td>\n",
              "      <td>0.013</td>\n",
              "      <td>43.52</td>\n",
              "      <td>11402533.0</td>\n",
              "      <td>398.448</td>\n",
              "      <td>24.3</td>\n",
              "      <td>4.8</td>\n",
              "      <td>2.954</td>\n",
              "      <td>1653.173</td>\n",
              "      <td>23.5</td>\n",
              "      <td>430.548</td>\n",
              "      <td>6.65</td>\n",
              "      <td>2.9</td>\n",
              "      <td>23.1</td>\n",
              "      <td>22.863</td>\n",
              "      <td>0.7</td>\n",
              "      <td>64.0</td>\n",
              "      <td>0.498</td>\n",
              "    </tr>\n",
              "    <tr>\n",
              "      <th>21036</th>\n",
              "      <td>2020-10-21</td>\n",
              "      <td>8976.0</td>\n",
              "      <td>0.0</td>\n",
              "      <td>12.714</td>\n",
              "      <td>231.0</td>\n",
              "      <td>0.0</td>\n",
              "      <td>0.143</td>\n",
              "      <td>787.194</td>\n",
              "      <td>0.000</td>\n",
              "      <td>1.115</td>\n",
              "      <td>20.259</td>\n",
              "      <td>0.000</td>\n",
              "      <td>0.013</td>\n",
              "      <td>43.52</td>\n",
              "      <td>11402533.0</td>\n",
              "      <td>398.448</td>\n",
              "      <td>24.3</td>\n",
              "      <td>4.8</td>\n",
              "      <td>2.954</td>\n",
              "      <td>1653.173</td>\n",
              "      <td>23.5</td>\n",
              "      <td>430.548</td>\n",
              "      <td>6.65</td>\n",
              "      <td>2.9</td>\n",
              "      <td>23.1</td>\n",
              "      <td>22.863</td>\n",
              "      <td>0.7</td>\n",
              "      <td>64.0</td>\n",
              "      <td>0.498</td>\n",
              "    </tr>\n",
              "    <tr>\n",
              "      <th>21037</th>\n",
              "      <td>2020-10-22</td>\n",
              "      <td>8979.0</td>\n",
              "      <td>3.0</td>\n",
              "      <td>10.143</td>\n",
              "      <td>231.0</td>\n",
              "      <td>0.0</td>\n",
              "      <td>0.000</td>\n",
              "      <td>787.457</td>\n",
              "      <td>0.263</td>\n",
              "      <td>0.890</td>\n",
              "      <td>20.259</td>\n",
              "      <td>0.000</td>\n",
              "      <td>0.000</td>\n",
              "      <td>NaN</td>\n",
              "      <td>11402533.0</td>\n",
              "      <td>398.448</td>\n",
              "      <td>24.3</td>\n",
              "      <td>4.8</td>\n",
              "      <td>2.954</td>\n",
              "      <td>1653.173</td>\n",
              "      <td>23.5</td>\n",
              "      <td>430.548</td>\n",
              "      <td>6.65</td>\n",
              "      <td>2.9</td>\n",
              "      <td>23.1</td>\n",
              "      <td>22.863</td>\n",
              "      <td>0.7</td>\n",
              "      <td>64.0</td>\n",
              "      <td>0.498</td>\n",
              "    </tr>\n",
              "    <tr>\n",
              "      <th>21038</th>\n",
              "      <td>2020-10-23</td>\n",
              "      <td>8979.0</td>\n",
              "      <td>0.0</td>\n",
              "      <td>7.714</td>\n",
              "      <td>231.0</td>\n",
              "      <td>0.0</td>\n",
              "      <td>0.000</td>\n",
              "      <td>787.457</td>\n",
              "      <td>0.000</td>\n",
              "      <td>0.677</td>\n",
              "      <td>20.259</td>\n",
              "      <td>0.000</td>\n",
              "      <td>0.000</td>\n",
              "      <td>NaN</td>\n",
              "      <td>11402533.0</td>\n",
              "      <td>398.448</td>\n",
              "      <td>24.3</td>\n",
              "      <td>4.8</td>\n",
              "      <td>2.954</td>\n",
              "      <td>1653.173</td>\n",
              "      <td>23.5</td>\n",
              "      <td>430.548</td>\n",
              "      <td>6.65</td>\n",
              "      <td>2.9</td>\n",
              "      <td>23.1</td>\n",
              "      <td>22.863</td>\n",
              "      <td>0.7</td>\n",
              "      <td>64.0</td>\n",
              "      <td>0.498</td>\n",
              "    </tr>\n",
              "    <tr>\n",
              "      <th>21039</th>\n",
              "      <td>2020-10-24</td>\n",
              "      <td>9015.0</td>\n",
              "      <td>36.0</td>\n",
              "      <td>12.857</td>\n",
              "      <td>231.0</td>\n",
              "      <td>0.0</td>\n",
              "      <td>0.000</td>\n",
              "      <td>790.614</td>\n",
              "      <td>3.157</td>\n",
              "      <td>1.128</td>\n",
              "      <td>20.259</td>\n",
              "      <td>0.000</td>\n",
              "      <td>0.000</td>\n",
              "      <td>NaN</td>\n",
              "      <td>11402533.0</td>\n",
              "      <td>398.448</td>\n",
              "      <td>24.3</td>\n",
              "      <td>4.8</td>\n",
              "      <td>2.954</td>\n",
              "      <td>1653.173</td>\n",
              "      <td>23.5</td>\n",
              "      <td>430.548</td>\n",
              "      <td>6.65</td>\n",
              "      <td>2.9</td>\n",
              "      <td>23.1</td>\n",
              "      <td>22.863</td>\n",
              "      <td>0.7</td>\n",
              "      <td>64.0</td>\n",
              "      <td>0.498</td>\n",
              "    </tr>\n",
              "  </tbody>\n",
              "</table>\n",
              "<p>201 rows × 29 columns</p>\n",
              "</div>"
            ],
            "text/plain": [
              "            date  total_cases  ...  life_expectancy  human_development_index\n",
              "20839 2020-04-07         24.0  ...             64.0                    0.498\n",
              "20840 2020-04-08         25.0  ...             64.0                    0.498\n",
              "20841 2020-04-09         27.0  ...             64.0                    0.498\n",
              "20842 2020-04-10         30.0  ...             64.0                    0.498\n",
              "20843 2020-04-11         31.0  ...             64.0                    0.498\n",
              "...          ...          ...  ...              ...                      ...\n",
              "21035 2020-10-20       8976.0  ...             64.0                    0.498\n",
              "21036 2020-10-21       8976.0  ...             64.0                    0.498\n",
              "21037 2020-10-22       8979.0  ...             64.0                    0.498\n",
              "21038 2020-10-23       8979.0  ...             64.0                    0.498\n",
              "21039 2020-10-24       9015.0  ...             64.0                    0.498\n",
              "\n",
              "[201 rows x 29 columns]"
            ]
          },
          "metadata": {
            "tags": []
          },
          "execution_count": 232
        }
      ]
    },
    {
      "cell_type": "code",
      "metadata": {
        "id": "INJYx-ZmI1me",
        "outputId": "815710cf-fbc1-4b6d-b9c0-ac261e29a57a",
        "colab": {
          "base_uri": "https://localhost:8080/",
          "height": 419
        }
      },
      "source": [
        "pd.DataFrame(dfr)"
      ],
      "execution_count": 233,
      "outputs": [
        {
          "output_type": "execute_result",
          "data": {
            "text/html": [
              "<div>\n",
              "<style scoped>\n",
              "    .dataframe tbody tr th:only-of-type {\n",
              "        vertical-align: middle;\n",
              "    }\n",
              "\n",
              "    .dataframe tbody tr th {\n",
              "        vertical-align: top;\n",
              "    }\n",
              "\n",
              "    .dataframe thead th {\n",
              "        text-align: right;\n",
              "    }\n",
              "</style>\n",
              "<table border=\"1\" class=\"dataframe\">\n",
              "  <thead>\n",
              "    <tr style=\"text-align: right;\">\n",
              "      <th></th>\n",
              "      <th>total_deaths_per_million</th>\n",
              "    </tr>\n",
              "  </thead>\n",
              "  <tbody>\n",
              "    <tr>\n",
              "      <th>20839</th>\n",
              "      <td>0.088</td>\n",
              "    </tr>\n",
              "    <tr>\n",
              "      <th>20840</th>\n",
              "      <td>0.088</td>\n",
              "    </tr>\n",
              "    <tr>\n",
              "      <th>20841</th>\n",
              "      <td>0.088</td>\n",
              "    </tr>\n",
              "    <tr>\n",
              "      <th>20842</th>\n",
              "      <td>0.175</td>\n",
              "    </tr>\n",
              "    <tr>\n",
              "      <th>20843</th>\n",
              "      <td>0.175</td>\n",
              "    </tr>\n",
              "    <tr>\n",
              "      <th>...</th>\n",
              "      <td>...</td>\n",
              "    </tr>\n",
              "    <tr>\n",
              "      <th>21035</th>\n",
              "      <td>20.259</td>\n",
              "    </tr>\n",
              "    <tr>\n",
              "      <th>21036</th>\n",
              "      <td>20.259</td>\n",
              "    </tr>\n",
              "    <tr>\n",
              "      <th>21037</th>\n",
              "      <td>20.259</td>\n",
              "    </tr>\n",
              "    <tr>\n",
              "      <th>21038</th>\n",
              "      <td>20.259</td>\n",
              "    </tr>\n",
              "    <tr>\n",
              "      <th>21039</th>\n",
              "      <td>20.259</td>\n",
              "    </tr>\n",
              "  </tbody>\n",
              "</table>\n",
              "<p>201 rows × 1 columns</p>\n",
              "</div>"
            ],
            "text/plain": [
              "       total_deaths_per_million\n",
              "20839                     0.088\n",
              "20840                     0.088\n",
              "20841                     0.088\n",
              "20842                     0.175\n",
              "20843                     0.175\n",
              "...                         ...\n",
              "21035                    20.259\n",
              "21036                    20.259\n",
              "21037                    20.259\n",
              "21038                    20.259\n",
              "21039                    20.259\n",
              "\n",
              "[201 rows x 1 columns]"
            ]
          },
          "metadata": {
            "tags": []
          },
          "execution_count": 233
        }
      ]
    },
    {
      "cell_type": "code",
      "metadata": {
        "id": "LrnGyN_pAiPC",
        "outputId": "04e39904-05e5-4479-8e97-3ad9c34ddfa1",
        "colab": {
          "base_uri": "https://localhost:8080/",
          "height": 385
        }
      },
      "source": [
        "sns.displot(dfff['total_cases'], color=\"blue\")\n",
        "plt.title('Total Cases Histogram')\n",
        "plt.grid(True)\n",
        "plt.show()"
      ],
      "execution_count": 234,
      "outputs": [
        {
          "output_type": "display_data",
          "data": {
            "image/png": "[encoded data removed]",
            "text/plain": [
              "<Figure size 360x360 with 1 Axes>"
            ]
          },
          "metadata": {
            "tags": [],
            "needs_background": "light"
          }
        }
      ]
    },
    {
      "cell_type": "code",
      "metadata": {
        "id": "3_e9zc7TDd8S",
        "outputId": "f6c37b29-f4f8-4f77-e72f-70b5c7023dde",
        "colab": {
          "base_uri": "https://localhost:8080/",
          "height": 385
        }
      },
      "source": [
        "sns.displot(dfff['total_deaths_per_million'], color=\"blue\")\n",
        "plt.title('Total Deaths Histogram')\n",
        "plt.grid(True)\n",
        "plt.show()"
      ],
      "execution_count": 235,
      "outputs": [
        {
          "output_type": "display_data",
          "data": {
            "image/png": "[encoded data removed]",
            "text/plain": [
              "<Figure size 360x360 with 1 Axes>"
            ]
          },
          "metadata": {
            "tags": [],
            "needs_background": "light"
          }
        }
      ]
    },
    {
      "cell_type": "code",
      "metadata": {
        "id": "EPeRL9HzEfSp",
        "outputId": "38fffa3f-f246-4ca2-9775-9fa2925c347f",
        "colab": {
          "base_uri": "https://localhost:8080/",
          "height": 336
        }
      },
      "source": [
        "dfff['total_deaths_per_million'].plot(figsize = (10,5), grid = True)\n",
        "plt.title('Total deaths per million per 200 records')\n",
        "plt.show()"
      ],
      "execution_count": 236,
      "outputs": [
        {
          "output_type": "display_data",
          "data": {
            "image/png": "[encoded data removed]",
            "text/plain": [
              "<Figure size 720x360 with 1 Axes>"
            ]
          },
          "metadata": {
            "tags": [],
            "needs_background": "light"
          }
        }
      ]
    },
    {
      "cell_type": "code",
      "metadata": {
        "id": "Fc0piK4wGmZD",
        "outputId": "25029dcb-7188-4fa1-d55a-612d53fdedf9",
        "colab": {
          "base_uri": "https://localhost:8080/",
          "height": 444
        }
      },
      "source": [
        "def experiment(X_train_, y_train_, X_test_, y_test_):\n",
        "    pipe0 = Pipeline([('scaler', StandardScaler()), ('svc', LinearRegression())])\n",
        "    pipe0 = pipe0.fit(X_train_, y_train_)\n",
        "    score = pipe0.score(X_test_, y_test_)\n",
        "    y_test_['predicted'] = pipe0.predict(X_test_.values)\n",
        "    y_test_.plot(figsize=(14,7), title=f\"score: {score}\")\n",
        "    pd.DataFrame(y_test_)\n",
        "    return pipe0\n",
        "\n",
        "x_train = dfff.iloc[150:, [1]]\n",
        "y_train = dfr.iloc[150:]\n",
        "x_test = dfff.iloc[:150, [1]]\n",
        "y_test = dfr.iloc[:150]\n",
        "\n",
        "pipe = experiment(x_train, y_train, x_test, y_test)"
      ],
      "execution_count": 237,
      "outputs": [
        {
          "output_type": "display_data",
          "data": {
            "image/png": "[encoded data removed]",
            "text/plain": [
              "<Figure size 1008x504 with 1 Axes>"
            ]
          },
          "metadata": {
            "tags": [],
            "needs_background": "light"
          }
        }
      ]
    },
    {
      "cell_type": "code",
      "metadata": {
        "id": "vorRLQ9gshtz",
        "outputId": "5b054a53-6471-4032-9729-6c1a597bc0d0",
        "colab": {
          "base_uri": "https://localhost:8080/",
          "height": 462
        }
      },
      "source": [
        "data = np.array([[10000],[20000],[25000],[30000],[35000],[40000]])\n",
        "future_prognosis = pipe.predict(data)\n",
        "future_prognosis\n",
        "plt.figure(figsize=(14,7))\n",
        "plt.grid(which='both')\n",
        "plt.plot(data,future_prognosis)\n",
        "plt.title('Future prognosis of total deaths per million people in Haiti')\n",
        "plt.xlabel('Total cases')\n",
        "plt.xscale('log')\n",
        "plt.ylabel('Total deaths per million')\n",
        "plt.show()"
      ],
      "execution_count": 238,
      "outputs": [
        {
          "output_type": "display_data",
          "data": {
            "image/png": "[encoded data removed]",
            "text/plain": [
              "<Figure size 1008x504 with 1 Axes>"
            ]
          },
          "metadata": {
            "tags": [],
            "needs_background": "light"
          }
        }
      ]
    }
  ]
}