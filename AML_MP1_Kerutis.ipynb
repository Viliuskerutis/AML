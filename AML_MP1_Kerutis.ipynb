{
  "nbformat": 4,
  "nbformat_minor": 0,
  "metadata": {
    "colab": {
      "name": "AML_MP1_Kerutis.ipynb",
      "provenance": [],
      "collapsed_sections": [],
      "authorship_tag": "ABX9TyPGriPRotZVg8P7x8J96obn",
      "include_colab_link": true
    },
    "kernelspec": {
      "name": "python3",
      "display_name": "Python 3"
    }
  },
  "cells": [
    {
      "cell_type": "markdown",
      "metadata": {
        "id": "view-in-github",
        "colab_type": "text"
      },
      "source": [
        "<a href=\"https://colab.research.google.com/github/Viliuskerutis/AML/blob/main/AML_MP1_Kerutis.ipynb\" target=\"_parent\"><img src=\"https://colab.research.google.com/assets/colab-badge.svg\" alt=\"Open In Colab\"/></a>"
      ]
    },
    {
      "cell_type": "markdown",
      "metadata": {
        "id": "-d2ScW5hnFmp"
      },
      "source": [
        "# MP1 - Viral Data Analysis\n",
        "Date: 2020.10.11\n",
        "\n",
        "Author: © 2020 Vilius Kerutis\n",
        "\n",
        "This notebook is part of an individual project for [KTU IF](https://fi.ktu.edu/) [P176M010 Advanced Machine Learning](https://admissions.ktu.edu/programme/m-software-engineering/#P176M010) class led by [M. Lukoševičius](http://mantas.info/).\n",
        "\n",
        "Here I analyze open COVID-19 data from https://ourworldindata.org/ to answer the following questions:\n",
        "\n",
        "1. [Which country has the most deaths per million people in June?](#Q1)\n",
        "1. [What is the correlation between human development and total deaths among countries?](#Q2)\n",
        "1. [What is the future prognosis of total deaths per million people, taking a history of total cases as input in Haiti?](#Q3)\n",
        "\n",
        "This work is licensed under a <a rel=\"license\" href=\"http://creativecommons.org/licenses/by/4.0/\">Creative Commons Attribution 4.0 International license</a>. <a rel=\"license\" href=\"http://creativecommons.org/licenses/by/4.0/\"><img alt=\"Creative Commons licencija\" style=\"border-width:0\" src=\"https://i.creativecommons.org/l/by/4.0/80x15.png\" /></a>"
      ]
    },
    {
      "cell_type": "markdown",
      "metadata": {
        "id": "-uvH-bexou5t"
      },
      "source": [
        "## Load the data"
      ]
    },
    {
      "cell_type": "code",
      "metadata": {
        "id": "vEuBhNtSQGvg"
      },
      "source": [
        "import pandas as pd\n",
        "import numpy as np\n",
        "from datetime import date, timedelta\n",
        "import numpy.ma as ma\n",
        "import matplotlib.pyplot as plt\n",
        "import seaborn as sns\n",
        "from sklearn.preprocessing import StandardScaler\n",
        "from sklearn.linear_model import LinearRegression\n",
        "from sklearn.decomposition import PCA\n",
        "from sklearn.pipeline import Pipeline\n",
        "pd.options.mode.chained_assignment = None"
      ],
      "execution_count": 210,
      "outputs": []
    },
    {
      "cell_type": "markdown",
      "metadata": {
        "id": "c7riU5AFPyZa"
      },
      "source": [
        "<a id='Q1'></a>\n",
        "# 1. Which country has the most deaths per million people in June?"
      ]
    },
    {
      "cell_type": "code",
      "metadata": {
        "id": "H99yE-hKS976",
        "outputId": "4f8b32df-b4fa-4cf4-c471-a17adcde224a",
        "colab": {
          "base_uri": "https://localhost:8080/",
          "height": 272
        }
      },
      "source": [
        "df = pd.read_csv('https://raw.githubusercontent.com/Viliuskerutis/AML/main/owid-covid-data.csv', low_memory=False)\n",
        "df.columns"
      ],
      "execution_count": 2,
      "outputs": [
        {
          "output_type": "execute_result",
          "data": {
            "text/plain": [
              "Index(['iso_code', 'continent', 'location', 'date', 'total_cases', 'new_cases',\n",
              "       'new_cases_smoothed', 'total_deaths', 'new_deaths',\n",
              "       'new_deaths_smoothed', 'total_cases_per_million',\n",
              "       'new_cases_per_million', 'new_cases_smoothed_per_million',\n",
              "       'total_deaths_per_million', 'new_deaths_per_million',\n",
              "       'new_deaths_smoothed_per_million', 'total_tests', 'new_tests',\n",
              "       'total_tests_per_thousand', 'new_tests_per_thousand',\n",
              "       'new_tests_smoothed', 'new_tests_smoothed_per_thousand',\n",
              "       'tests_per_case', 'positive_rate', 'tests_units', 'stringency_index',\n",
              "       'population', 'population_density', 'median_age', 'aged_65_older',\n",
              "       'aged_70_older', 'gdp_per_capita', 'extreme_poverty',\n",
              "       'cardiovasc_death_rate', 'diabetes_prevalence', 'female_smokers',\n",
              "       'male_smokers', 'handwashing_facilities', 'hospital_beds_per_thousand',\n",
              "       'life_expectancy', 'human_development_index'],\n",
              "      dtype='object')"
            ]
          },
          "metadata": {
            "tags": []
          },
          "execution_count": 2
        }
      ]
    },
    {
      "cell_type": "markdown",
      "metadata": {
        "id": "Ou4BTqEQlIex"
      },
      "source": [
        "Check the \"freshness\" of the data."
      ]
    },
    {
      "cell_type": "code",
      "metadata": {
        "id": "utjy0msGk3os",
        "outputId": "beb4b70a-65d9-443b-d1b7-1b08eadc51f0",
        "colab": {
          "base_uri": "https://localhost:8080/",
          "height": 35
        }
      },
      "source": [
        "df.date.max()"
      ],
      "execution_count": 3,
      "outputs": [
        {
          "output_type": "execute_result",
          "data": {
            "application/vnd.google.colaboratory.intrinsic+json": {
              "type": "string"
            },
            "text/plain": [
              "'2020-10-23'"
            ]
          },
          "metadata": {
            "tags": []
          },
          "execution_count": 3
        }
      ]
    },
    {
      "cell_type": "markdown",
      "metadata": {
        "id": "TZNU8LCtlKQp"
      },
      "source": [
        "All the different country codes:"
      ]
    },
    {
      "cell_type": "code",
      "metadata": {
        "id": "LABdikxHlOrl",
        "outputId": "d1bb9c8d-d905-45c3-c1d2-da4a2e93efc7",
        "colab": {
          "base_uri": "https://localhost:8080/",
          "height": 425
        }
      },
      "source": [
        "df.iso_code.unique()"
      ],
      "execution_count": 4,
      "outputs": [
        {
          "output_type": "execute_result",
          "data": {
            "text/plain": [
              "array(['ABW', 'AFG', 'AGO', 'AIA', 'ALB', 'AND', 'ARE', 'ARG', 'ARM',\n",
              "       'ATG', 'AUS', 'AUT', 'AZE', 'BDI', 'BEL', 'BEN', 'BES', 'BFA',\n",
              "       'BGD', 'BGR', 'BHR', 'BHS', 'BIH', 'BLR', 'BLZ', 'BMU', 'BOL',\n",
              "       'BRA', 'BRB', 'BRN', 'BTN', 'BWA', 'CAF', 'CAN', 'CHE', 'CHL',\n",
              "       'CHN', 'CIV', 'CMR', 'COD', 'COG', 'COL', 'COM', 'CPV', 'CRI',\n",
              "       'CUB', 'CUW', 'CYM', 'CYP', 'CZE', 'DEU', 'DJI', 'DMA', 'DNK',\n",
              "       'DOM', 'DZA', 'ECU', 'EGY', 'ERI', 'ESH', 'ESP', 'EST', 'ETH',\n",
              "       'FIN', 'FJI', 'FLK', 'FRA', 'FRO', 'GAB', 'GBR', 'GEO', 'GGY',\n",
              "       'GHA', 'GIB', 'GIN', 'GMB', 'GNB', 'GNQ', 'GRC', 'GRD', 'GRL',\n",
              "       'GTM', 'GUM', 'GUY', 'HKG', 'HND', 'HRV', 'HTI', 'HUN', 'IDN',\n",
              "       'IMN', 'IND', 'IRL', 'IRN', 'IRQ', 'ISL', 'ISR', 'ITA', 'JAM',\n",
              "       'JEY', 'JOR', 'JPN', 'KAZ', 'KEN', 'KGZ', 'KHM', 'KNA', 'KOR',\n",
              "       'KWT', 'LAO', 'LBN', 'LBR', 'LBY', 'LCA', 'LIE', 'LKA', 'LSO',\n",
              "       'LTU', 'LUX', 'LVA', 'MAR', 'MCO', 'MDA', 'MDG', 'MDV', 'MEX',\n",
              "       'MKD', 'MLI', 'MLT', 'MMR', 'MNE', 'MNG', 'MNP', 'MOZ', 'MRT',\n",
              "       'MSR', 'MUS', 'MWI', 'MYS', 'NAM', 'NCL', 'NER', 'NGA', 'NIC',\n",
              "       'NLD', 'NOR', 'NPL', 'NZL', 'OMN', 'PAK', 'PAN', 'PER', 'PHL',\n",
              "       'PNG', 'POL', 'PRI', 'PRT', 'PRY', 'PSE', 'PYF', 'QAT', 'ROU',\n",
              "       'RUS', 'RWA', 'SAU', 'SDN', 'SEN', 'SGP', 'SLB', 'SLE', 'SLV',\n",
              "       'SMR', 'SOM', 'SRB', 'SSD', 'STP', 'SUR', 'SVK', 'SVN', 'SWE',\n",
              "       'SWZ', 'SXM', 'SYC', 'SYR', 'TCA', 'TCD', 'TGO', 'THA', 'TJK',\n",
              "       'TLS', 'TTO', 'TUN', 'TUR', 'TWN', 'TZA', 'UGA', 'UKR', 'URY',\n",
              "       'USA', 'UZB', 'VAT', 'VCT', 'VEN', 'VGB', 'VIR', 'VNM', 'OWID_KOS',\n",
              "       'YEM', 'ZAF', 'ZMB', 'ZWE', 'OWID_WRL', nan], dtype=object)"
            ]
          },
          "metadata": {
            "tags": []
          },
          "execution_count": 4
        }
      ]
    },
    {
      "cell_type": "markdown",
      "metadata": {
        "id": "JC-HpCNjlStu"
      },
      "source": [
        "Column info."
      ]
    },
    {
      "cell_type": "code",
      "metadata": {
        "id": "0EUuFLiYlatI",
        "outputId": "3d0ce777-7a66-4922-bb9b-aaaabe0a13c7",
        "colab": {
          "base_uri": "https://localhost:8080/",
          "height": 833
        }
      },
      "source": [
        "df.info()"
      ],
      "execution_count": 5,
      "outputs": [
        {
          "output_type": "stream",
          "text": [
            "<class 'pandas.core.frame.DataFrame'>\n",
            "RangeIndex: 52010 entries, 0 to 52009\n",
            "Data columns (total 41 columns):\n",
            " #   Column                           Non-Null Count  Dtype  \n",
            "---  ------                           --------------  -----  \n",
            " 0   iso_code                         51712 non-null  object \n",
            " 1   continent                        51414 non-null  object \n",
            " 2   location                         52010 non-null  object \n",
            " 3   date                             52010 non-null  object \n",
            " 4   total_cases                      48403 non-null  float64\n",
            " 5   new_cases                        51127 non-null  float64\n",
            " 6   new_cases_smoothed               50339 non-null  float64\n",
            " 7   total_deaths                     39558 non-null  float64\n",
            " 8   new_deaths                       51127 non-null  float64\n",
            " 9   new_deaths_smoothed              50339 non-null  float64\n",
            " 10  total_cases_per_million          48141 non-null  float64\n",
            " 11  new_cases_per_million            51063 non-null  float64\n",
            " 12  new_cases_smoothed_per_million   50274 non-null  float64\n",
            " 13  total_deaths_per_million         39311 non-null  float64\n",
            " 14  new_deaths_per_million           51063 non-null  float64\n",
            " 15  new_deaths_smoothed_per_million  50274 non-null  float64\n",
            " 16  total_tests                      19747 non-null  float64\n",
            " 17  new_tests                        19405 non-null  float64\n",
            " 18  total_tests_per_thousand         19747 non-null  float64\n",
            " 19  new_tests_per_thousand           19405 non-null  float64\n",
            " 20  new_tests_smoothed               21792 non-null  float64\n",
            " 21  new_tests_smoothed_per_thousand  21792 non-null  float64\n",
            " 22  tests_per_case                   20099 non-null  float64\n",
            " 23  positive_rate                    20443 non-null  float64\n",
            " 24  tests_units                      22743 non-null  object \n",
            " 25  stringency_index                 43401 non-null  float64\n",
            " 26  population                       51712 non-null  float64\n",
            " 27  population_density               49319 non-null  float64\n",
            " 28  median_age                       46327 non-null  float64\n",
            " 29  aged_65_older                    45633 non-null  float64\n",
            " 30  aged_70_older                    46086 non-null  float64\n",
            " 31  gdp_per_capita                   45715 non-null  float64\n",
            " 32  extreme_poverty                  30486 non-null  float64\n",
            " 33  cardiovasc_death_rate            46307 non-null  float64\n",
            " 34  diabetes_prevalence              47979 non-null  float64\n",
            " 35  female_smokers                   36133 non-null  float64\n",
            " 36  male_smokers                     35670 non-null  float64\n",
            " 37  handwashing_facilities           21826 non-null  float64\n",
            " 38  hospital_beds_per_thousand       41762 non-null  float64\n",
            " 39  life_expectancy                  51052 non-null  float64\n",
            " 40  human_development_index          44695 non-null  float64\n",
            "dtypes: float64(36), object(5)\n",
            "memory usage: 16.3+ MB\n"
          ],
          "name": "stdout"
        }
      ]
    },
    {
      "cell_type": "code",
      "metadata": {
        "id": "rshKV-BGlgl1",
        "outputId": "155cd8e3-1b54-41fe-ab02-9fc78bae1a8d",
        "colab": {
          "base_uri": "https://localhost:8080/",
          "height": 317
        }
      },
      "source": [
        "df.describe()"
      ],
      "execution_count": 6,
      "outputs": [
        {
          "output_type": "execute_result",
          "data": {
            "text/html": [
              "<div>\n",
              "<style scoped>\n",
              "    .dataframe tbody tr th:only-of-type {\n",
              "        vertical-align: middle;\n",
              "    }\n",
              "\n",
              "    .dataframe tbody tr th {\n",
              "        vertical-align: top;\n",
              "    }\n",
              "\n",
              "    .dataframe thead th {\n",
              "        text-align: right;\n",
              "    }\n",
              "</style>\n",
              "<table border=\"1\" class=\"dataframe\">\n",
              "  <thead>\n",
              "    <tr style=\"text-align: right;\">\n",
              "      <th></th>\n",
              "      <th>total_cases</th>\n",
              "      <th>new_cases</th>\n",
              "      <th>new_cases_smoothed</th>\n",
              "      <th>total_deaths</th>\n",
              "      <th>new_deaths</th>\n",
              "      <th>new_deaths_smoothed</th>\n",
              "      <th>total_cases_per_million</th>\n",
              "      <th>new_cases_per_million</th>\n",
              "      <th>new_cases_smoothed_per_million</th>\n",
              "      <th>total_deaths_per_million</th>\n",
              "      <th>new_deaths_per_million</th>\n",
              "      <th>new_deaths_smoothed_per_million</th>\n",
              "      <th>total_tests</th>\n",
              "      <th>new_tests</th>\n",
              "      <th>total_tests_per_thousand</th>\n",
              "      <th>new_tests_per_thousand</th>\n",
              "      <th>new_tests_smoothed</th>\n",
              "      <th>new_tests_smoothed_per_thousand</th>\n",
              "      <th>tests_per_case</th>\n",
              "      <th>positive_rate</th>\n",
              "      <th>stringency_index</th>\n",
              "      <th>population</th>\n",
              "      <th>population_density</th>\n",
              "      <th>median_age</th>\n",
              "      <th>aged_65_older</th>\n",
              "      <th>aged_70_older</th>\n",
              "      <th>gdp_per_capita</th>\n",
              "      <th>extreme_poverty</th>\n",
              "      <th>cardiovasc_death_rate</th>\n",
              "      <th>diabetes_prevalence</th>\n",
              "      <th>female_smokers</th>\n",
              "      <th>male_smokers</th>\n",
              "      <th>handwashing_facilities</th>\n",
              "      <th>hospital_beds_per_thousand</th>\n",
              "      <th>life_expectancy</th>\n",
              "      <th>human_development_index</th>\n",
              "    </tr>\n",
              "  </thead>\n",
              "  <tbody>\n",
              "    <tr>\n",
              "      <th>count</th>\n",
              "      <td>4.840300e+04</td>\n",
              "      <td>51127.000000</td>\n",
              "      <td>50339.000000</td>\n",
              "      <td>3.955800e+04</td>\n",
              "      <td>51127.000000</td>\n",
              "      <td>50339.000000</td>\n",
              "      <td>48141.000000</td>\n",
              "      <td>51063.000000</td>\n",
              "      <td>50274.000000</td>\n",
              "      <td>39311.000000</td>\n",
              "      <td>51063.000000</td>\n",
              "      <td>50274.000000</td>\n",
              "      <td>1.974700e+04</td>\n",
              "      <td>1.940500e+04</td>\n",
              "      <td>19747.000000</td>\n",
              "      <td>19405.000000</td>\n",
              "      <td>2.179200e+04</td>\n",
              "      <td>21792.000000</td>\n",
              "      <td>20099.000000</td>\n",
              "      <td>20443.000000</td>\n",
              "      <td>43401.000000</td>\n",
              "      <td>5.171200e+04</td>\n",
              "      <td>49319.000000</td>\n",
              "      <td>46327.000000</td>\n",
              "      <td>45633.000000</td>\n",
              "      <td>46086.000000</td>\n",
              "      <td>45715.000000</td>\n",
              "      <td>30486.000000</td>\n",
              "      <td>46307.000000</td>\n",
              "      <td>47979.000000</td>\n",
              "      <td>36133.000000</td>\n",
              "      <td>35670.000000</td>\n",
              "      <td>21826.000000</td>\n",
              "      <td>41762.000000</td>\n",
              "      <td>51052.000000</td>\n",
              "      <td>44695.000000</td>\n",
              "    </tr>\n",
              "    <tr>\n",
              "      <th>mean</th>\n",
              "      <td>1.363255e+05</td>\n",
              "      <td>1633.995130</td>\n",
              "      <td>1610.990888</td>\n",
              "      <td>6.138200e+03</td>\n",
              "      <td>44.546169</td>\n",
              "      <td>44.541465</td>\n",
              "      <td>2509.232423</td>\n",
              "      <td>30.042849</td>\n",
              "      <td>29.171387</td>\n",
              "      <td>85.372714</td>\n",
              "      <td>0.591967</td>\n",
              "      <td>0.588009</td>\n",
              "      <td>1.905907e+06</td>\n",
              "      <td>2.581705e+04</td>\n",
              "      <td>66.336827</td>\n",
              "      <td>0.826141</td>\n",
              "      <td>2.488937e+04</td>\n",
              "      <td>0.805787</td>\n",
              "      <td>192.383357</td>\n",
              "      <td>0.064548</td>\n",
              "      <td>56.947631</td>\n",
              "      <td>8.695300e+07</td>\n",
              "      <td>361.309540</td>\n",
              "      <td>31.252106</td>\n",
              "      <td>9.215518</td>\n",
              "      <td>5.825576</td>\n",
              "      <td>20759.873465</td>\n",
              "      <td>12.286751</td>\n",
              "      <td>252.008369</td>\n",
              "      <td>8.055200</td>\n",
              "      <td>10.772976</td>\n",
              "      <td>32.639174</td>\n",
              "      <td>52.273566</td>\n",
              "      <td>3.098288</td>\n",
              "      <td>73.977683</td>\n",
              "      <td>0.723461</td>\n",
              "    </tr>\n",
              "    <tr>\n",
              "      <th>std</th>\n",
              "      <td>1.365615e+06</td>\n",
              "      <td>14742.358503</td>\n",
              "      <td>14422.555759</td>\n",
              "      <td>4.970171e+04</td>\n",
              "      <td>371.661458</td>\n",
              "      <td>360.945190</td>\n",
              "      <td>4961.512720</td>\n",
              "      <td>106.407273</td>\n",
              "      <td>72.906009</td>\n",
              "      <td>169.636207</td>\n",
              "      <td>2.937695</td>\n",
              "      <td>1.865053</td>\n",
              "      <td>8.657876e+06</td>\n",
              "      <td>1.051654e+05</td>\n",
              "      <td>132.322326</td>\n",
              "      <td>1.534724</td>\n",
              "      <td>9.695588e+04</td>\n",
              "      <td>1.387750</td>\n",
              "      <td>915.093742</td>\n",
              "      <td>0.087988</td>\n",
              "      <td>26.684086</td>\n",
              "      <td>6.070910e+08</td>\n",
              "      <td>1648.604689</td>\n",
              "      <td>9.036782</td>\n",
              "      <td>6.307452</td>\n",
              "      <td>4.304546</td>\n",
              "      <td>20372.636885</td>\n",
              "      <td>19.332899</td>\n",
              "      <td>117.420490</td>\n",
              "      <td>4.155891</td>\n",
              "      <td>10.475901</td>\n",
              "      <td>13.440016</td>\n",
              "      <td>31.625685</td>\n",
              "      <td>2.520225</td>\n",
              "      <td>7.387655</td>\n",
              "      <td>0.153074</td>\n",
              "    </tr>\n",
              "    <tr>\n",
              "      <th>min</th>\n",
              "      <td>1.000000e+00</td>\n",
              "      <td>-8261.000000</td>\n",
              "      <td>-552.000000</td>\n",
              "      <td>1.000000e+00</td>\n",
              "      <td>-1918.000000</td>\n",
              "      <td>-232.143000</td>\n",
              "      <td>0.001000</td>\n",
              "      <td>-2212.545000</td>\n",
              "      <td>-269.978000</td>\n",
              "      <td>0.000000</td>\n",
              "      <td>-67.901000</td>\n",
              "      <td>-9.678000</td>\n",
              "      <td>1.000000e+00</td>\n",
              "      <td>-3.743000e+03</td>\n",
              "      <td>0.000000</td>\n",
              "      <td>-0.398000</td>\n",
              "      <td>0.000000e+00</td>\n",
              "      <td>0.000000</td>\n",
              "      <td>1.535000</td>\n",
              "      <td>0.000000</td>\n",
              "      <td>0.000000</td>\n",
              "      <td>8.090000e+02</td>\n",
              "      <td>0.137000</td>\n",
              "      <td>15.100000</td>\n",
              "      <td>1.144000</td>\n",
              "      <td>0.526000</td>\n",
              "      <td>661.240000</td>\n",
              "      <td>0.100000</td>\n",
              "      <td>79.370000</td>\n",
              "      <td>0.990000</td>\n",
              "      <td>0.100000</td>\n",
              "      <td>7.700000</td>\n",
              "      <td>1.188000</td>\n",
              "      <td>0.100000</td>\n",
              "      <td>53.280000</td>\n",
              "      <td>0.354000</td>\n",
              "    </tr>\n",
              "    <tr>\n",
              "      <th>25%</th>\n",
              "      <td>1.440000e+02</td>\n",
              "      <td>0.000000</td>\n",
              "      <td>0.714000</td>\n",
              "      <td>1.100000e+01</td>\n",
              "      <td>0.000000</td>\n",
              "      <td>0.000000</td>\n",
              "      <td>72.480000</td>\n",
              "      <td>0.000000</td>\n",
              "      <td>0.202000</td>\n",
              "      <td>3.378500</td>\n",
              "      <td>0.000000</td>\n",
              "      <td>0.000000</td>\n",
              "      <td>5.366700e+04</td>\n",
              "      <td>1.008000e+03</td>\n",
              "      <td>3.338000</td>\n",
              "      <td>0.068000</td>\n",
              "      <td>1.091000e+03</td>\n",
              "      <td>0.069000</td>\n",
              "      <td>11.479500</td>\n",
              "      <td>0.009000</td>\n",
              "      <td>38.890000</td>\n",
              "      <td>1.399491e+06</td>\n",
              "      <td>37.728000</td>\n",
              "      <td>23.300000</td>\n",
              "      <td>3.552000</td>\n",
              "      <td>2.085000</td>\n",
              "      <td>5338.454000</td>\n",
              "      <td>0.500000</td>\n",
              "      <td>155.898000</td>\n",
              "      <td>5.310000</td>\n",
              "      <td>1.900000</td>\n",
              "      <td>21.400000</td>\n",
              "      <td>21.222000</td>\n",
              "      <td>1.300000</td>\n",
              "      <td>69.870000</td>\n",
              "      <td>0.601000</td>\n",
              "    </tr>\n",
              "    <tr>\n",
              "      <th>50%</th>\n",
              "      <td>1.724000e+03</td>\n",
              "      <td>12.000000</td>\n",
              "      <td>17.286000</td>\n",
              "      <td>7.200000e+01</td>\n",
              "      <td>0.000000</td>\n",
              "      <td>0.286000</td>\n",
              "      <td>479.937000</td>\n",
              "      <td>1.863000</td>\n",
              "      <td>3.431000</td>\n",
              "      <td>17.557000</td>\n",
              "      <td>0.000000</td>\n",
              "      <td>0.025000</td>\n",
              "      <td>2.299580e+05</td>\n",
              "      <td>3.486000e+03</td>\n",
              "      <td>17.078000</td>\n",
              "      <td>0.311000</td>\n",
              "      <td>3.874500e+03</td>\n",
              "      <td>0.325000</td>\n",
              "      <td>32.519000</td>\n",
              "      <td>0.030000</td>\n",
              "      <td>61.110000</td>\n",
              "      <td>8.278737e+06</td>\n",
              "      <td>88.125000</td>\n",
              "      <td>31.100000</td>\n",
              "      <td>6.981000</td>\n",
              "      <td>4.393000</td>\n",
              "      <td>14048.881000</td>\n",
              "      <td>2.000000</td>\n",
              "      <td>238.339000</td>\n",
              "      <td>7.110000</td>\n",
              "      <td>6.400000</td>\n",
              "      <td>31.400000</td>\n",
              "      <td>52.232000</td>\n",
              "      <td>2.500000</td>\n",
              "      <td>75.400000</td>\n",
              "      <td>0.754000</td>\n",
              "    </tr>\n",
              "    <tr>\n",
              "      <th>75%</th>\n",
              "      <td>1.705000e+04</td>\n",
              "      <td>194.000000</td>\n",
              "      <td>202.500000</td>\n",
              "      <td>6.140000e+02</td>\n",
              "      <td>3.000000</td>\n",
              "      <td>3.429000</td>\n",
              "      <td>2794.176000</td>\n",
              "      <td>21.600500</td>\n",
              "      <td>24.295000</td>\n",
              "      <td>71.529000</td>\n",
              "      <td>0.243000</td>\n",
              "      <td>0.345000</td>\n",
              "      <td>9.141365e+05</td>\n",
              "      <td>1.281300e+04</td>\n",
              "      <td>72.630000</td>\n",
              "      <td>0.970000</td>\n",
              "      <td>1.371450e+04</td>\n",
              "      <td>0.975000</td>\n",
              "      <td>105.000000</td>\n",
              "      <td>0.086000</td>\n",
              "      <td>78.700000</td>\n",
              "      <td>2.982597e+07</td>\n",
              "      <td>214.243000</td>\n",
              "      <td>39.700000</td>\n",
              "      <td>14.762000</td>\n",
              "      <td>9.395000</td>\n",
              "      <td>31400.840000</td>\n",
              "      <td>18.100000</td>\n",
              "      <td>318.991000</td>\n",
              "      <td>10.390000</td>\n",
              "      <td>19.600000</td>\n",
              "      <td>40.900000</td>\n",
              "      <td>83.741000</td>\n",
              "      <td>4.200000</td>\n",
              "      <td>79.380000</td>\n",
              "      <td>0.847000</td>\n",
              "    </tr>\n",
              "    <tr>\n",
              "      <th>max</th>\n",
              "      <td>4.177193e+07</td>\n",
              "      <td>437012.000000</td>\n",
              "      <td>390097.429000</td>\n",
              "      <td>1.138780e+06</td>\n",
              "      <td>10491.000000</td>\n",
              "      <td>7456.857000</td>\n",
              "      <td>49323.756000</td>\n",
              "      <td>8652.658000</td>\n",
              "      <td>2472.188000</td>\n",
              "      <td>1237.551000</td>\n",
              "      <td>215.382000</td>\n",
              "      <td>63.140000</td>\n",
              "      <td>1.600000e+08</td>\n",
              "      <td>1.492409e+06</td>\n",
              "      <td>1553.505000</td>\n",
              "      <td>25.971000</td>\n",
              "      <td>1.169107e+06</td>\n",
              "      <td>19.098000</td>\n",
              "      <td>45864.000000</td>\n",
              "      <td>0.651000</td>\n",
              "      <td>100.000000</td>\n",
              "      <td>7.794799e+09</td>\n",
              "      <td>19347.500000</td>\n",
              "      <td>48.200000</td>\n",
              "      <td>27.049000</td>\n",
              "      <td>18.493000</td>\n",
              "      <td>116935.600000</td>\n",
              "      <td>77.600000</td>\n",
              "      <td>724.417000</td>\n",
              "      <td>23.360000</td>\n",
              "      <td>44.000000</td>\n",
              "      <td>78.100000</td>\n",
              "      <td>98.999000</td>\n",
              "      <td>13.800000</td>\n",
              "      <td>86.750000</td>\n",
              "      <td>0.953000</td>\n",
              "    </tr>\n",
              "  </tbody>\n",
              "</table>\n",
              "</div>"
            ],
            "text/plain": [
              "        total_cases      new_cases  ...  life_expectancy  human_development_index\n",
              "count  4.840300e+04   51127.000000  ...     51052.000000             44695.000000\n",
              "mean   1.363255e+05    1633.995130  ...        73.977683                 0.723461\n",
              "std    1.365615e+06   14742.358503  ...         7.387655                 0.153074\n",
              "min    1.000000e+00   -8261.000000  ...        53.280000                 0.354000\n",
              "25%    1.440000e+02       0.000000  ...        69.870000                 0.601000\n",
              "50%    1.724000e+03      12.000000  ...        75.400000                 0.754000\n",
              "75%    1.705000e+04     194.000000  ...        79.380000                 0.847000\n",
              "max    4.177193e+07  437012.000000  ...        86.750000                 0.953000\n",
              "\n",
              "[8 rows x 36 columns]"
            ]
          },
          "metadata": {
            "tags": []
          },
          "execution_count": 6
        }
      ]
    },
    {
      "cell_type": "markdown",
      "metadata": {
        "id": "ojKf_WcOlnok"
      },
      "source": [
        "Find a country with the most total deaths per million people in June."
      ]
    },
    {
      "cell_type": "code",
      "metadata": {
        "id": "m7WucA7GmIKy",
        "outputId": "a4170a89-bbd3-4154-cf86-b68edaafd44d",
        "colab": {
          "base_uri": "https://localhost:8080/",
          "height": 297
        }
      },
      "source": [
        "date_from = pd.Timestamp(date(2020,6,1))\n",
        "date_to = pd.Timestamp(date(2020,7,1))\n",
        "df['date'] =  pd.to_datetime(df['date'])\n",
        "dff = df[(df['date'] > date_from ) & (df['date'] < date_to)]\n",
        "dff = dff.loc[dff['total_deaths_per_million'].idxmax()]\n",
        "\n",
        "pd.DataFrame(dff[['iso_code', 'continent', 'location','total_cases','total_deaths','total_cases_per_million','total_deaths_per_million','population']])"
      ],
      "execution_count": 7,
      "outputs": [
        {
          "output_type": "execute_result",
          "data": {
            "text/html": [
              "<div>\n",
              "<style scoped>\n",
              "    .dataframe tbody tr th:only-of-type {\n",
              "        vertical-align: middle;\n",
              "    }\n",
              "\n",
              "    .dataframe tbody tr th {\n",
              "        vertical-align: top;\n",
              "    }\n",
              "\n",
              "    .dataframe thead th {\n",
              "        text-align: right;\n",
              "    }\n",
              "</style>\n",
              "<table border=\"1\" class=\"dataframe\">\n",
              "  <thead>\n",
              "    <tr style=\"text-align: right;\">\n",
              "      <th></th>\n",
              "      <th>42289</th>\n",
              "    </tr>\n",
              "  </thead>\n",
              "  <tbody>\n",
              "    <tr>\n",
              "      <th>iso_code</th>\n",
              "      <td>SMR</td>\n",
              "    </tr>\n",
              "    <tr>\n",
              "      <th>continent</th>\n",
              "      <td>Europe</td>\n",
              "    </tr>\n",
              "    <tr>\n",
              "      <th>location</th>\n",
              "      <td>San Marino</td>\n",
              "    </tr>\n",
              "    <tr>\n",
              "      <th>total_cases</th>\n",
              "      <td>687</td>\n",
              "    </tr>\n",
              "    <tr>\n",
              "      <th>total_deaths</th>\n",
              "      <td>42</td>\n",
              "    </tr>\n",
              "    <tr>\n",
              "      <th>total_cases_per_million</th>\n",
              "      <td>20242.8</td>\n",
              "    </tr>\n",
              "    <tr>\n",
              "      <th>total_deaths_per_million</th>\n",
              "      <td>1237.55</td>\n",
              "    </tr>\n",
              "    <tr>\n",
              "      <th>population</th>\n",
              "      <td>33938</td>\n",
              "    </tr>\n",
              "  </tbody>\n",
              "</table>\n",
              "</div>"
            ],
            "text/plain": [
              "                               42289\n",
              "iso_code                         SMR\n",
              "continent                     Europe\n",
              "location                  San Marino\n",
              "total_cases                      687\n",
              "total_deaths                      42\n",
              "total_cases_per_million      20242.8\n",
              "total_deaths_per_million     1237.55\n",
              "population                     33938"
            ]
          },
          "metadata": {
            "tags": []
          },
          "execution_count": 7
        }
      ]
    },
    {
      "cell_type": "markdown",
      "metadata": {
        "id": "p5bZHeiDtQp6"
      },
      "source": [
        "<a id='Q2'></a>\n",
        "# 2. What is the correlation between human development and total deaths among countries?"
      ]
    },
    {
      "cell_type": "code",
      "metadata": {
        "id": "ZRjXk_YctoBa"
      },
      "source": [
        "yesterday = date.today() - timedelta(2)\n",
        "dfff = df[(df['date'] == date.strftime(yesterday, '%Y-%m-%d 00:00:00'))]"
      ],
      "execution_count": 9,
      "outputs": []
    },
    {
      "cell_type": "code",
      "metadata": {
        "id": "1zEvOi-Ztrfd",
        "outputId": "8e557147-997e-4006-a9ec-b88e6dd1be4f",
        "colab": {
          "base_uri": "https://localhost:8080/",
          "height": 421
        }
      },
      "source": [
        "plt.figure(figsize=(6,6))\n",
        "x = dfff.human_development_index\n",
        "y = dfff.total_deaths\n",
        "plt.plot(x, y, '.')\n",
        "plt.xlabel('Human development index')\n",
        "plt.ylabel('Total deaths')\n",
        "\n",
        "w1, w0 = ma.polyfit(ma.masked_invalid(x), ma.masked_invalid(y), 1)\n",
        "x_all = np.linspace(x.min(), x.max(), 100)\n",
        "plt.plot(x_all, w0 + w1 * x_all, '-')\n",
        "\n",
        "plt.title('Correlation HDI and Total deaths')"
      ],
      "execution_count": 10,
      "outputs": [
        {
          "output_type": "execute_result",
          "data": {
            "text/plain": [
              "Text(0.5, 1.0, 'Correlation HDI and Total deaths')"
            ]
          },
          "metadata": {
            "tags": []
          },
          "execution_count": 10
        },
        {
          "output_type": "display_data",
          "data": {
            "image/png": "[encoded data removed]",
            "text/plain": [
              "<Figure size 432x432 with 1 Axes>"
            ]
          },
          "metadata": {
            "tags": [],
            "needs_background": "light"
          }
        }
      ]
    },
    {
      "cell_type": "code",
      "metadata": {
        "id": "2ExRjUkVucn0",
        "outputId": "0e16c2c9-b7cb-4deb-86fc-db9413f03493",
        "colab": {
          "base_uri": "https://localhost:8080/",
          "height": 34
        }
      },
      "source": [
        "ma.corrcoef(ma.masked_invalid(x), ma.masked_invalid(y))[0,1]"
      ],
      "execution_count": 11,
      "outputs": [
        {
          "output_type": "execute_result",
          "data": {
            "text/plain": [
              "0.15609727079402214"
            ]
          },
          "metadata": {
            "tags": []
          },
          "execution_count": 11
        }
      ]
    },
    {
      "cell_type": "code",
      "metadata": {
        "id": "ptPjnyMboq5K",
        "outputId": "d85a8bce-8ab5-451d-e6ef-81fd58086040",
        "colab": {
          "base_uri": "https://localhost:8080/",
          "height": 421
        }
      },
      "source": [
        "plt.figure(figsize=(6,6))\n",
        "x = dfff.human_development_index\n",
        "y = dfff.total_deaths_per_million\n",
        "plt.plot(x, y, '.')\n",
        "plt.xlabel('Human development index')\n",
        "plt.ylabel('Total deaths per million people')\n",
        "\n",
        "w1, w0 = ma.polyfit(ma.masked_invalid(x), ma.masked_invalid(y), 1)\n",
        "x_all = np.linspace(x.min(), x.max(), 100)\n",
        "plt.plot(x_all, w0 + w1 * x_all, '-')\n",
        "\n",
        "plt.title('Correlation HDI and Total deaths per million people')"
      ],
      "execution_count": 12,
      "outputs": [
        {
          "output_type": "execute_result",
          "data": {
            "text/plain": [
              "Text(0.5, 1.0, 'Correlation HDI and Total deaths per million people')"
            ]
          },
          "metadata": {
            "tags": []
          },
          "execution_count": 12
        },
        {
          "output_type": "display_data",
          "data": {
            "image/png": "[encoded data removed]",
            "text/plain": [
              "<Figure size 432x432 with 1 Axes>"
            ]
          },
          "metadata": {
            "tags": [],
            "needs_background": "light"
          }
        }
      ]
    },
    {
      "cell_type": "code",
      "metadata": {
        "id": "9RScF6vAuiIR",
        "outputId": "f8d0dbf6-cfd6-46f6-9315-0e7d887c6677",
        "colab": {
          "base_uri": "https://localhost:8080/",
          "height": 34
        }
      },
      "source": [
        "ma.corrcoef(ma.masked_invalid(x), ma.masked_invalid(y))[0,1]"
      ],
      "execution_count": 13,
      "outputs": [
        {
          "output_type": "execute_result",
          "data": {
            "text/plain": [
              "0.36798225921535566"
            ]
          },
          "metadata": {
            "tags": []
          },
          "execution_count": 13
        }
      ]
    },
    {
      "cell_type": "markdown",
      "metadata": {
        "id": "6-Mfkfp-uB8M"
      },
      "source": [
        "Correlation:"
      ]
    },
    {
      "cell_type": "code",
      "metadata": {
        "id": "MPYj89dPuFg6",
        "outputId": "cc860356-8a79-4855-df26-c06ac6e0b617",
        "colab": {
          "base_uri": "https://localhost:8080/",
          "height": 111
        }
      },
      "source": [
        "result1 = dfff['total_deaths'].corr(dfff['human_development_index'])\n",
        "result2 = dfff['total_deaths_per_million'].corr(dfff['human_development_index'])\n",
        "pd.DataFrame({\"Correlation using:\": [\"Total deaths only:\", \"Total deaths per million people:\"], \"Result\": [result1, result2]})"
      ],
      "execution_count": 14,
      "outputs": [
        {
          "output_type": "execute_result",
          "data": {
            "text/html": [
              "<div>\n",
              "<style scoped>\n",
              "    .dataframe tbody tr th:only-of-type {\n",
              "        vertical-align: middle;\n",
              "    }\n",
              "\n",
              "    .dataframe tbody tr th {\n",
              "        vertical-align: top;\n",
              "    }\n",
              "\n",
              "    .dataframe thead th {\n",
              "        text-align: right;\n",
              "    }\n",
              "</style>\n",
              "<table border=\"1\" class=\"dataframe\">\n",
              "  <thead>\n",
              "    <tr style=\"text-align: right;\">\n",
              "      <th></th>\n",
              "      <th>Correlation using:</th>\n",
              "      <th>Result</th>\n",
              "    </tr>\n",
              "  </thead>\n",
              "  <tbody>\n",
              "    <tr>\n",
              "      <th>0</th>\n",
              "      <td>Total deaths only:</td>\n",
              "      <td>0.156097</td>\n",
              "    </tr>\n",
              "    <tr>\n",
              "      <th>1</th>\n",
              "      <td>Total deaths per million people:</td>\n",
              "      <td>0.367982</td>\n",
              "    </tr>\n",
              "  </tbody>\n",
              "</table>\n",
              "</div>"
            ],
            "text/plain": [
              "                 Correlation using:    Result\n",
              "0                Total deaths only:  0.156097\n",
              "1  Total deaths per million people:  0.367982"
            ]
          },
          "metadata": {
            "tags": []
          },
          "execution_count": 14
        }
      ]
    },
    {
      "cell_type": "markdown",
      "metadata": {
        "id": "oA7I0ipmlkLg"
      },
      "source": [
        "There is a promiment correlation (coef. 0.16) between the HDI per capita and the total number of deaths per capita among countries.\n",
        "There is a promiment correlation (coef. 0.37) between the HDI per capita and the total number of deaths per million people per capita among countries."
      ]
    },
    {
      "cell_type": "markdown",
      "metadata": {
        "id": "mulR1Y2PvPfs"
      },
      "source": [
        "The same in loglog space:"
      ]
    },
    {
      "cell_type": "code",
      "metadata": {
        "id": "zvj_Ii98vRYm",
        "outputId": "88a630d9-51f2-48e1-e0a2-daddd6eb68f5",
        "colab": {
          "base_uri": "https://localhost:8080/",
          "height": 425
        }
      },
      "source": [
        "plt.figure(figsize=(6,6))\n",
        "x = dfff.human_development_index\n",
        "y = dfff.total_deaths\n",
        "plt.loglog(x, y, '.')\n",
        "plt.xlabel('Human development index')\n",
        "plt.ylabel('Total deaths')\n",
        "\n",
        "\n",
        "w1, w0 = ma.polyfit(ma.log(ma.masked_invalid(x)), ma.log(ma.masked_invalid(y)), 1)\n",
        "x_all = np.linspace(np.log(x.min()), np.log(x.max()), 100)\n",
        "plt.plot(np.exp(x_all), np.exp(w0 + w1 * x_all), '-')\n",
        "plt.title('Correlation HDI and Total deaths')"
      ],
      "execution_count": 16,
      "outputs": [
        {
          "output_type": "execute_result",
          "data": {
            "text/plain": [
              "Text(0.5, 1.0, 'Correlation HDI and Total deaths')"
            ]
          },
          "metadata": {
            "tags": []
          },
          "execution_count": 16
        },
        {
          "output_type": "display_data",
          "data": {
            "image/png": "[encoded data removed]",
            "text/plain": [
              "<Figure size 432x432 with 1 Axes>"
            ]
          },
          "metadata": {
            "tags": [],
            "needs_background": "light"
          }
        }
      ]
    },
    {
      "cell_type": "code",
      "metadata": {
        "id": "69OkbPldv_BE",
        "outputId": "7c6cb96d-0a22-4169-ddfb-f7e6cbe2774e",
        "colab": {
          "base_uri": "https://localhost:8080/",
          "height": 34
        }
      },
      "source": [
        "ma.corrcoef(ma.log(ma.masked_invalid(x)), ma.log(ma.masked_invalid(y)))[0,1]"
      ],
      "execution_count": 17,
      "outputs": [
        {
          "output_type": "execute_result",
          "data": {
            "text/plain": [
              "0.28965229435325474"
            ]
          },
          "metadata": {
            "tags": []
          },
          "execution_count": 17
        }
      ]
    },
    {
      "cell_type": "code",
      "metadata": {
        "id": "XRd139XFwEgy",
        "outputId": "83f87d56-35ab-493a-c695-479ed1f80ffb",
        "colab": {
          "base_uri": "https://localhost:8080/",
          "height": 425
        }
      },
      "source": [
        "plt.figure(figsize=(6,6))\n",
        "x = dfff.human_development_index\n",
        "y = dfff.total_deaths_per_million\n",
        "plt.loglog(x, y, '.')\n",
        "plt.xlabel('Human development index')\n",
        "plt.ylabel('Total deaths per million people')\n",
        "\n",
        "\n",
        "w1, w0 = ma.polyfit(ma.log(ma.masked_invalid(x)), ma.log(ma.masked_invalid(y)), 1)\n",
        "x_all = np.linspace(np.log(x.min()), np.log(x.max()), 100)\n",
        "plt.plot(np.exp(x_all), np.exp(w0 + w1 * x_all), '-')\n",
        "plt.title('Correlation HDI and Total deaths per million people')"
      ],
      "execution_count": 18,
      "outputs": [
        {
          "output_type": "execute_result",
          "data": {
            "text/plain": [
              "Text(0.5, 1.0, 'Correlation HDI and Total deaths per million people')"
            ]
          },
          "metadata": {
            "tags": []
          },
          "execution_count": 18
        },
        {
          "output_type": "display_data",
          "data": {
            "image/png": "[encoded data removed]",
            "text/plain": [
              "<Figure size 432x432 with 1 Axes>"
            ]
          },
          "metadata": {
            "tags": [],
            "needs_background": "light"
          }
        }
      ]
    },
    {
      "cell_type": "code",
      "metadata": {
        "id": "mB14Qt5UwSUK",
        "outputId": "8fd355c7-b932-4279-8c49-d5c84fec1d20",
        "colab": {
          "base_uri": "https://localhost:8080/",
          "height": 34
        }
      },
      "source": [
        "ma.corrcoef(ma.log(ma.masked_invalid(x)), ma.log(ma.masked_invalid(y)))[0,1]"
      ],
      "execution_count": null,
      "outputs": [
        {
          "output_type": "execute_result",
          "data": {
            "text/plain": [
              "0.5353294475125274"
            ]
          },
          "metadata": {
            "tags": []
          },
          "execution_count": 72
        }
      ]
    },
    {
      "cell_type": "markdown",
      "metadata": {
        "id": "cGKjGkitwrjg"
      },
      "source": [
        "On logarithmic scales the correlation is even more evident:\n",
        "\n",
        "Correlation between HDI and Total deaths: coef. 0.29\n",
        "\n",
        "Correlation between HDI and Total deaths per million people: coef. 0.54"
      ]
    },
    {
      "cell_type": "markdown",
      "metadata": {
        "id": "AqDlAz1RxMly"
      },
      "source": [
        "A possible explanation could be that even though the countries with higher HDI per capita tend to have a better quality of life, higher literacy rate, and lifetime, their residents also have a more active social life (traveling, physical communication, being in a public most of the time)."
      ]
    },
    {
      "cell_type": "markdown",
      "metadata": {
        "id": "ePxuh67VhYr6"
      },
      "source": [
        "<a id='Q3'></a>\n",
        "# 3. What is the future prognosis of total deaths per million people, taking a history of total cases as input in Haiti?"
      ]
    },
    {
      "cell_type": "code",
      "metadata": {
        "id": "YAsAR_-nhbEc",
        "outputId": "5eb5c46c-2274-42a9-884b-5beae5c571ba",
        "colab": {
          "base_uri": "https://localhost:8080/",
          "height": 609
        }
      },
      "source": [
        "dfff = df[(df['location'] == 'Haiti' )]\n",
        "dfff = dfff[dfff.total_deaths_per_million > 0]\n",
        "dfff = dfff[dfff.total_cases > 0]\n",
        "dfff = dfff.dropna(axis=1, how='all')\n",
        "dfff.drop('iso_code', axis='columns', inplace=True)\n",
        "dfff.drop('continent', axis='columns', inplace=True)\n",
        "dfff.drop('location', axis='columns', inplace=True)\n",
        "dfr = dfff[['total_deaths_per_million']] \n",
        "\n",
        "pd.DataFrame(dfff)"
      ],
      "execution_count": 115,
      "outputs": [
        {
          "output_type": "execute_result",
          "data": {
            "text/html": [
              "<div>\n",
              "<style scoped>\n",
              "    .dataframe tbody tr th:only-of-type {\n",
              "        vertical-align: middle;\n",
              "    }\n",
              "\n",
              "    .dataframe tbody tr th {\n",
              "        vertical-align: top;\n",
              "    }\n",
              "\n",
              "    .dataframe thead th {\n",
              "        text-align: right;\n",
              "    }\n",
              "</style>\n",
              "<table border=\"1\" class=\"dataframe\">\n",
              "  <thead>\n",
              "    <tr style=\"text-align: right;\">\n",
              "      <th></th>\n",
              "      <th>date</th>\n",
              "      <th>total_cases</th>\n",
              "      <th>new_cases</th>\n",
              "      <th>new_cases_smoothed</th>\n",
              "      <th>total_deaths</th>\n",
              "      <th>new_deaths</th>\n",
              "      <th>new_deaths_smoothed</th>\n",
              "      <th>total_cases_per_million</th>\n",
              "      <th>new_cases_per_million</th>\n",
              "      <th>new_cases_smoothed_per_million</th>\n",
              "      <th>total_deaths_per_million</th>\n",
              "      <th>new_deaths_per_million</th>\n",
              "      <th>new_deaths_smoothed_per_million</th>\n",
              "      <th>stringency_index</th>\n",
              "      <th>population</th>\n",
              "      <th>population_density</th>\n",
              "      <th>median_age</th>\n",
              "      <th>aged_65_older</th>\n",
              "      <th>aged_70_older</th>\n",
              "      <th>gdp_per_capita</th>\n",
              "      <th>extreme_poverty</th>\n",
              "      <th>cardiovasc_death_rate</th>\n",
              "      <th>diabetes_prevalence</th>\n",
              "      <th>female_smokers</th>\n",
              "      <th>male_smokers</th>\n",
              "      <th>handwashing_facilities</th>\n",
              "      <th>hospital_beds_per_thousand</th>\n",
              "      <th>life_expectancy</th>\n",
              "      <th>human_development_index</th>\n",
              "    </tr>\n",
              "  </thead>\n",
              "  <tbody>\n",
              "    <tr>\n",
              "      <th>21236</th>\n",
              "      <td>2020-04-07</td>\n",
              "      <td>24.0</td>\n",
              "      <td>3.0</td>\n",
              "      <td>1.286</td>\n",
              "      <td>1.0</td>\n",
              "      <td>1.0</td>\n",
              "      <td>0.143</td>\n",
              "      <td>2.105</td>\n",
              "      <td>0.263</td>\n",
              "      <td>0.113</td>\n",
              "      <td>0.088</td>\n",
              "      <td>0.088</td>\n",
              "      <td>0.013</td>\n",
              "      <td>90.74</td>\n",
              "      <td>11402533.0</td>\n",
              "      <td>398.448</td>\n",
              "      <td>24.3</td>\n",
              "      <td>4.8</td>\n",
              "      <td>2.954</td>\n",
              "      <td>1653.173</td>\n",
              "      <td>23.5</td>\n",
              "      <td>430.548</td>\n",
              "      <td>6.65</td>\n",
              "      <td>2.9</td>\n",
              "      <td>23.1</td>\n",
              "      <td>22.863</td>\n",
              "      <td>0.7</td>\n",
              "      <td>64.0</td>\n",
              "      <td>0.498</td>\n",
              "    </tr>\n",
              "    <tr>\n",
              "      <th>21237</th>\n",
              "      <td>2020-04-08</td>\n",
              "      <td>25.0</td>\n",
              "      <td>1.0</td>\n",
              "      <td>1.429</td>\n",
              "      <td>1.0</td>\n",
              "      <td>0.0</td>\n",
              "      <td>0.143</td>\n",
              "      <td>2.192</td>\n",
              "      <td>0.088</td>\n",
              "      <td>0.125</td>\n",
              "      <td>0.088</td>\n",
              "      <td>0.000</td>\n",
              "      <td>0.013</td>\n",
              "      <td>90.74</td>\n",
              "      <td>11402533.0</td>\n",
              "      <td>398.448</td>\n",
              "      <td>24.3</td>\n",
              "      <td>4.8</td>\n",
              "      <td>2.954</td>\n",
              "      <td>1653.173</td>\n",
              "      <td>23.5</td>\n",
              "      <td>430.548</td>\n",
              "      <td>6.65</td>\n",
              "      <td>2.9</td>\n",
              "      <td>23.1</td>\n",
              "      <td>22.863</td>\n",
              "      <td>0.7</td>\n",
              "      <td>64.0</td>\n",
              "      <td>0.498</td>\n",
              "    </tr>\n",
              "    <tr>\n",
              "      <th>21238</th>\n",
              "      <td>2020-04-09</td>\n",
              "      <td>27.0</td>\n",
              "      <td>2.0</td>\n",
              "      <td>1.571</td>\n",
              "      <td>1.0</td>\n",
              "      <td>0.0</td>\n",
              "      <td>0.143</td>\n",
              "      <td>2.368</td>\n",
              "      <td>0.175</td>\n",
              "      <td>0.138</td>\n",
              "      <td>0.088</td>\n",
              "      <td>0.000</td>\n",
              "      <td>0.013</td>\n",
              "      <td>90.74</td>\n",
              "      <td>11402533.0</td>\n",
              "      <td>398.448</td>\n",
              "      <td>24.3</td>\n",
              "      <td>4.8</td>\n",
              "      <td>2.954</td>\n",
              "      <td>1653.173</td>\n",
              "      <td>23.5</td>\n",
              "      <td>430.548</td>\n",
              "      <td>6.65</td>\n",
              "      <td>2.9</td>\n",
              "      <td>23.1</td>\n",
              "      <td>22.863</td>\n",
              "      <td>0.7</td>\n",
              "      <td>64.0</td>\n",
              "      <td>0.498</td>\n",
              "    </tr>\n",
              "    <tr>\n",
              "      <th>21239</th>\n",
              "      <td>2020-04-10</td>\n",
              "      <td>30.0</td>\n",
              "      <td>3.0</td>\n",
              "      <td>1.714</td>\n",
              "      <td>2.0</td>\n",
              "      <td>1.0</td>\n",
              "      <td>0.286</td>\n",
              "      <td>2.631</td>\n",
              "      <td>0.263</td>\n",
              "      <td>0.150</td>\n",
              "      <td>0.175</td>\n",
              "      <td>0.088</td>\n",
              "      <td>0.025</td>\n",
              "      <td>90.74</td>\n",
              "      <td>11402533.0</td>\n",
              "      <td>398.448</td>\n",
              "      <td>24.3</td>\n",
              "      <td>4.8</td>\n",
              "      <td>2.954</td>\n",
              "      <td>1653.173</td>\n",
              "      <td>23.5</td>\n",
              "      <td>430.548</td>\n",
              "      <td>6.65</td>\n",
              "      <td>2.9</td>\n",
              "      <td>23.1</td>\n",
              "      <td>22.863</td>\n",
              "      <td>0.7</td>\n",
              "      <td>64.0</td>\n",
              "      <td>0.498</td>\n",
              "    </tr>\n",
              "    <tr>\n",
              "      <th>21240</th>\n",
              "      <td>2020-04-11</td>\n",
              "      <td>31.0</td>\n",
              "      <td>1.0</td>\n",
              "      <td>1.857</td>\n",
              "      <td>2.0</td>\n",
              "      <td>0.0</td>\n",
              "      <td>0.286</td>\n",
              "      <td>2.719</td>\n",
              "      <td>0.088</td>\n",
              "      <td>0.163</td>\n",
              "      <td>0.175</td>\n",
              "      <td>0.000</td>\n",
              "      <td>0.025</td>\n",
              "      <td>90.74</td>\n",
              "      <td>11402533.0</td>\n",
              "      <td>398.448</td>\n",
              "      <td>24.3</td>\n",
              "      <td>4.8</td>\n",
              "      <td>2.954</td>\n",
              "      <td>1653.173</td>\n",
              "      <td>23.5</td>\n",
              "      <td>430.548</td>\n",
              "      <td>6.65</td>\n",
              "      <td>2.9</td>\n",
              "      <td>23.1</td>\n",
              "      <td>22.863</td>\n",
              "      <td>0.7</td>\n",
              "      <td>64.0</td>\n",
              "      <td>0.498</td>\n",
              "    </tr>\n",
              "    <tr>\n",
              "      <th>...</th>\n",
              "      <td>...</td>\n",
              "      <td>...</td>\n",
              "      <td>...</td>\n",
              "      <td>...</td>\n",
              "      <td>...</td>\n",
              "      <td>...</td>\n",
              "      <td>...</td>\n",
              "      <td>...</td>\n",
              "      <td>...</td>\n",
              "      <td>...</td>\n",
              "      <td>...</td>\n",
              "      <td>...</td>\n",
              "      <td>...</td>\n",
              "      <td>...</td>\n",
              "      <td>...</td>\n",
              "      <td>...</td>\n",
              "      <td>...</td>\n",
              "      <td>...</td>\n",
              "      <td>...</td>\n",
              "      <td>...</td>\n",
              "      <td>...</td>\n",
              "      <td>...</td>\n",
              "      <td>...</td>\n",
              "      <td>...</td>\n",
              "      <td>...</td>\n",
              "      <td>...</td>\n",
              "      <td>...</td>\n",
              "      <td>...</td>\n",
              "      <td>...</td>\n",
              "    </tr>\n",
              "    <tr>\n",
              "      <th>21431</th>\n",
              "      <td>2020-10-19</td>\n",
              "      <td>8925.0</td>\n",
              "      <td>0.0</td>\n",
              "      <td>6.143</td>\n",
              "      <td>231.0</td>\n",
              "      <td>0.0</td>\n",
              "      <td>0.143</td>\n",
              "      <td>782.721</td>\n",
              "      <td>0.000</td>\n",
              "      <td>0.539</td>\n",
              "      <td>20.259</td>\n",
              "      <td>0.000</td>\n",
              "      <td>0.013</td>\n",
              "      <td>43.52</td>\n",
              "      <td>11402533.0</td>\n",
              "      <td>398.448</td>\n",
              "      <td>24.3</td>\n",
              "      <td>4.8</td>\n",
              "      <td>2.954</td>\n",
              "      <td>1653.173</td>\n",
              "      <td>23.5</td>\n",
              "      <td>430.548</td>\n",
              "      <td>6.65</td>\n",
              "      <td>2.9</td>\n",
              "      <td>23.1</td>\n",
              "      <td>22.863</td>\n",
              "      <td>0.7</td>\n",
              "      <td>64.0</td>\n",
              "      <td>0.498</td>\n",
              "    </tr>\n",
              "    <tr>\n",
              "      <th>21432</th>\n",
              "      <td>2020-10-20</td>\n",
              "      <td>8976.0</td>\n",
              "      <td>51.0</td>\n",
              "      <td>13.429</td>\n",
              "      <td>231.0</td>\n",
              "      <td>0.0</td>\n",
              "      <td>0.143</td>\n",
              "      <td>787.194</td>\n",
              "      <td>4.473</td>\n",
              "      <td>1.178</td>\n",
              "      <td>20.259</td>\n",
              "      <td>0.000</td>\n",
              "      <td>0.013</td>\n",
              "      <td>43.52</td>\n",
              "      <td>11402533.0</td>\n",
              "      <td>398.448</td>\n",
              "      <td>24.3</td>\n",
              "      <td>4.8</td>\n",
              "      <td>2.954</td>\n",
              "      <td>1653.173</td>\n",
              "      <td>23.5</td>\n",
              "      <td>430.548</td>\n",
              "      <td>6.65</td>\n",
              "      <td>2.9</td>\n",
              "      <td>23.1</td>\n",
              "      <td>22.863</td>\n",
              "      <td>0.7</td>\n",
              "      <td>64.0</td>\n",
              "      <td>0.498</td>\n",
              "    </tr>\n",
              "    <tr>\n",
              "      <th>21433</th>\n",
              "      <td>2020-10-21</td>\n",
              "      <td>8976.0</td>\n",
              "      <td>0.0</td>\n",
              "      <td>12.714</td>\n",
              "      <td>231.0</td>\n",
              "      <td>0.0</td>\n",
              "      <td>0.143</td>\n",
              "      <td>787.194</td>\n",
              "      <td>0.000</td>\n",
              "      <td>1.115</td>\n",
              "      <td>20.259</td>\n",
              "      <td>0.000</td>\n",
              "      <td>0.013</td>\n",
              "      <td>43.52</td>\n",
              "      <td>11402533.0</td>\n",
              "      <td>398.448</td>\n",
              "      <td>24.3</td>\n",
              "      <td>4.8</td>\n",
              "      <td>2.954</td>\n",
              "      <td>1653.173</td>\n",
              "      <td>23.5</td>\n",
              "      <td>430.548</td>\n",
              "      <td>6.65</td>\n",
              "      <td>2.9</td>\n",
              "      <td>23.1</td>\n",
              "      <td>22.863</td>\n",
              "      <td>0.7</td>\n",
              "      <td>64.0</td>\n",
              "      <td>0.498</td>\n",
              "    </tr>\n",
              "    <tr>\n",
              "      <th>21434</th>\n",
              "      <td>2020-10-22</td>\n",
              "      <td>8979.0</td>\n",
              "      <td>3.0</td>\n",
              "      <td>10.143</td>\n",
              "      <td>231.0</td>\n",
              "      <td>0.0</td>\n",
              "      <td>0.000</td>\n",
              "      <td>787.457</td>\n",
              "      <td>0.263</td>\n",
              "      <td>0.890</td>\n",
              "      <td>20.259</td>\n",
              "      <td>0.000</td>\n",
              "      <td>0.000</td>\n",
              "      <td>NaN</td>\n",
              "      <td>11402533.0</td>\n",
              "      <td>398.448</td>\n",
              "      <td>24.3</td>\n",
              "      <td>4.8</td>\n",
              "      <td>2.954</td>\n",
              "      <td>1653.173</td>\n",
              "      <td>23.5</td>\n",
              "      <td>430.548</td>\n",
              "      <td>6.65</td>\n",
              "      <td>2.9</td>\n",
              "      <td>23.1</td>\n",
              "      <td>22.863</td>\n",
              "      <td>0.7</td>\n",
              "      <td>64.0</td>\n",
              "      <td>0.498</td>\n",
              "    </tr>\n",
              "    <tr>\n",
              "      <th>21435</th>\n",
              "      <td>2020-10-23</td>\n",
              "      <td>8979.0</td>\n",
              "      <td>0.0</td>\n",
              "      <td>7.714</td>\n",
              "      <td>231.0</td>\n",
              "      <td>0.0</td>\n",
              "      <td>0.000</td>\n",
              "      <td>787.457</td>\n",
              "      <td>0.000</td>\n",
              "      <td>0.677</td>\n",
              "      <td>20.259</td>\n",
              "      <td>0.000</td>\n",
              "      <td>0.000</td>\n",
              "      <td>NaN</td>\n",
              "      <td>11402533.0</td>\n",
              "      <td>398.448</td>\n",
              "      <td>24.3</td>\n",
              "      <td>4.8</td>\n",
              "      <td>2.954</td>\n",
              "      <td>1653.173</td>\n",
              "      <td>23.5</td>\n",
              "      <td>430.548</td>\n",
              "      <td>6.65</td>\n",
              "      <td>2.9</td>\n",
              "      <td>23.1</td>\n",
              "      <td>22.863</td>\n",
              "      <td>0.7</td>\n",
              "      <td>64.0</td>\n",
              "      <td>0.498</td>\n",
              "    </tr>\n",
              "  </tbody>\n",
              "</table>\n",
              "<p>200 rows × 29 columns</p>\n",
              "</div>"
            ],
            "text/plain": [
              "            date  total_cases  ...  life_expectancy  human_development_index\n",
              "21236 2020-04-07         24.0  ...             64.0                    0.498\n",
              "21237 2020-04-08         25.0  ...             64.0                    0.498\n",
              "21238 2020-04-09         27.0  ...             64.0                    0.498\n",
              "21239 2020-04-10         30.0  ...             64.0                    0.498\n",
              "21240 2020-04-11         31.0  ...             64.0                    0.498\n",
              "...          ...          ...  ...              ...                      ...\n",
              "21431 2020-10-19       8925.0  ...             64.0                    0.498\n",
              "21432 2020-10-20       8976.0  ...             64.0                    0.498\n",
              "21433 2020-10-21       8976.0  ...             64.0                    0.498\n",
              "21434 2020-10-22       8979.0  ...             64.0                    0.498\n",
              "21435 2020-10-23       8979.0  ...             64.0                    0.498\n",
              "\n",
              "[200 rows x 29 columns]"
            ]
          },
          "metadata": {
            "tags": []
          },
          "execution_count": 115
        }
      ]
    },
    {
      "cell_type": "code",
      "metadata": {
        "id": "INJYx-ZmI1me",
        "outputId": "6113ac26-1031-4410-c044-7ac5593dec77",
        "colab": {
          "base_uri": "https://localhost:8080/",
          "height": 419
        }
      },
      "source": [
        "pd.DataFrame(dfr)"
      ],
      "execution_count": 134,
      "outputs": [
        {
          "output_type": "execute_result",
          "data": {
            "text/html": [
              "<div>\n",
              "<style scoped>\n",
              "    .dataframe tbody tr th:only-of-type {\n",
              "        vertical-align: middle;\n",
              "    }\n",
              "\n",
              "    .dataframe tbody tr th {\n",
              "        vertical-align: top;\n",
              "    }\n",
              "\n",
              "    .dataframe thead th {\n",
              "        text-align: right;\n",
              "    }\n",
              "</style>\n",
              "<table border=\"1\" class=\"dataframe\">\n",
              "  <thead>\n",
              "    <tr style=\"text-align: right;\">\n",
              "      <th></th>\n",
              "      <th>total_deaths_per_million</th>\n",
              "    </tr>\n",
              "  </thead>\n",
              "  <tbody>\n",
              "    <tr>\n",
              "      <th>21236</th>\n",
              "      <td>0.088</td>\n",
              "    </tr>\n",
              "    <tr>\n",
              "      <th>21237</th>\n",
              "      <td>0.088</td>\n",
              "    </tr>\n",
              "    <tr>\n",
              "      <th>21238</th>\n",
              "      <td>0.088</td>\n",
              "    </tr>\n",
              "    <tr>\n",
              "      <th>21239</th>\n",
              "      <td>0.175</td>\n",
              "    </tr>\n",
              "    <tr>\n",
              "      <th>21240</th>\n",
              "      <td>0.175</td>\n",
              "    </tr>\n",
              "    <tr>\n",
              "      <th>...</th>\n",
              "      <td>...</td>\n",
              "    </tr>\n",
              "    <tr>\n",
              "      <th>21431</th>\n",
              "      <td>20.259</td>\n",
              "    </tr>\n",
              "    <tr>\n",
              "      <th>21432</th>\n",
              "      <td>20.259</td>\n",
              "    </tr>\n",
              "    <tr>\n",
              "      <th>21433</th>\n",
              "      <td>20.259</td>\n",
              "    </tr>\n",
              "    <tr>\n",
              "      <th>21434</th>\n",
              "      <td>20.259</td>\n",
              "    </tr>\n",
              "    <tr>\n",
              "      <th>21435</th>\n",
              "      <td>20.259</td>\n",
              "    </tr>\n",
              "  </tbody>\n",
              "</table>\n",
              "<p>200 rows × 1 columns</p>\n",
              "</div>"
            ],
            "text/plain": [
              "       total_deaths_per_million\n",
              "21236                     0.088\n",
              "21237                     0.088\n",
              "21238                     0.088\n",
              "21239                     0.175\n",
              "21240                     0.175\n",
              "...                         ...\n",
              "21431                    20.259\n",
              "21432                    20.259\n",
              "21433                    20.259\n",
              "21434                    20.259\n",
              "21435                    20.259\n",
              "\n",
              "[200 rows x 1 columns]"
            ]
          },
          "metadata": {
            "tags": []
          },
          "execution_count": 134
        }
      ]
    },
    {
      "cell_type": "code",
      "metadata": {
        "id": "LrnGyN_pAiPC",
        "outputId": "a31f1df1-b367-4add-910d-89457b7fa742",
        "colab": {
          "base_uri": "https://localhost:8080/",
          "height": 385
        }
      },
      "source": [
        "sns.displot(dfff['total_cases'], color=\"blue\")\n",
        "plt.title('Total Cases Histogram')\n",
        "plt.grid(True)\n",
        "plt.show()"
      ],
      "execution_count": 89,
      "outputs": [
        {
          "output_type": "display_data",
          "data": {
            "image/png": "[encoded data removed]",
            "text/plain": [
              "<Figure size 360x360 with 1 Axes>"
            ]
          },
          "metadata": {
            "tags": [],
            "needs_background": "light"
          }
        }
      ]
    },
    {
      "cell_type": "code",
      "metadata": {
        "id": "3_e9zc7TDd8S",
        "outputId": "893681c6-00f6-4487-d771-04f65d640053",
        "colab": {
          "base_uri": "https://localhost:8080/",
          "height": 385
        }
      },
      "source": [
        "sns.displot(dfff['total_deaths_per_million'], color=\"blue\")\n",
        "plt.title('Total Deaths Histogram')\n",
        "plt.grid(True)\n",
        "plt.show()"
      ],
      "execution_count": 90,
      "outputs": [
        {
          "output_type": "display_data",
          "data": {
            "image/png": "[encoded data removed]",
            "text/plain": [
              "<Figure size 360x360 with 1 Axes>"
            ]
          },
          "metadata": {
            "tags": [],
            "needs_background": "light"
          }
        }
      ]
    },
    {
      "cell_type": "code",
      "metadata": {
        "id": "EPeRL9HzEfSp",
        "outputId": "9b0c91b6-64a9-4d52-af9c-dfc9b4c05935",
        "colab": {
          "base_uri": "https://localhost:8080/",
          "height": 336
        }
      },
      "source": [
        "dfff['total_deaths_per_million'].plot(figsize = (10,5), grid = True)\n",
        "plt.title('Total deaths per million per 200 records')\n",
        "plt.show()"
      ],
      "execution_count": 116,
      "outputs": [
        {
          "output_type": "display_data",
          "data": {
            "image/png": "[encoded data removed]",
            "text/plain": [
              "<Figure size 720x360 with 1 Axes>"
            ]
          },
          "metadata": {
            "tags": [],
            "needs_background": "light"
          }
        }
      ]
    },
    {
      "cell_type": "code",
      "metadata": {
        "id": "Fc0piK4wGmZD",
        "outputId": "2339b289-9c6b-4c08-df91-950ecda1cf52",
        "colab": {
          "base_uri": "https://localhost:8080/",
          "height": 444
        }
      },
      "source": [
        "def experiment(X_train_, y_train_, X_test_, y_test_):\n",
        "    pipe0 = Pipeline([('scaler', StandardScaler()), ('svc', LinearRegression())])\n",
        "    pipe0 = pipe0.fit(X_train_, y_train_)\n",
        "    score = pipe0.score(X_test_, y_test_)\n",
        "    y_test_['predicted'] = pipe0.predict(X_test_.values)\n",
        "    y_test_.plot(figsize=(14,7), title=f\"score: {score}\")\n",
        "    pd.DataFrame(y_test_)\n",
        "    return pipe0\n",
        "\n",
        "x_train = dfff.iloc[150:, [1]]\n",
        "y_train = dfr.iloc[150:]\n",
        "x_test = dfff.iloc[:150, [1]]\n",
        "y_test = dfr.iloc[:150]\n",
        "\n",
        "pipe = experiment(x_train, y_train, x_test, y_test)"
      ],
      "execution_count": 211,
      "outputs": [
        {
          "output_type": "display_data",
          "data": {
            "image/png": "[encoded data removed]",
            "text/plain": [
              "<Figure size 1008x504 with 1 Axes>"
            ]
          },
          "metadata": {
            "tags": [],
            "needs_background": "light"
          }
        }
      ]
    },
    {
      "cell_type": "code",
      "metadata": {
        "id": "vorRLQ9gshtz",
        "outputId": "7779734b-2f16-4d0a-e58f-43db6ad54c0e",
        "colab": {
          "base_uri": "https://localhost:8080/",
          "height": 462
        }
      },
      "source": [
        "data = np.array([[10000],[20000],[25000],[30000],[35000],[40000]])\n",
        "future_prognosis = pipe.predict(data)\n",
        "future_prognosis\n",
        "plt.figure(figsize=(14,7))\n",
        "plt.grid(which='both')\n",
        "plt.plot(data,future_prognosis)\n",
        "plt.title('Future prognosis of total deaths per million people in Haiti')\n",
        "plt.xlabel('Total cases')\n",
        "plt.xscale('log')\n",
        "plt.ylabel('Total deaths per million')\n",
        "plt.show()"
      ],
      "execution_count": 205,
      "outputs": [
        {
          "output_type": "display_data",
          "data": {
            "image/png": "[encoded data removed]",
            "text/plain": [
              "<Figure size 1008x504 with 1 Axes>"
            ]
          },
          "metadata": {
            "tags": [],
            "needs_background": "light"
          }
        }
      ]
    }
  ]
}