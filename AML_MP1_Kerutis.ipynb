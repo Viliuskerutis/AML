{
  "nbformat": 4,
  "nbformat_minor": 0,
  "metadata": {
    "colab": {
      "name": "AML_MP1_Kerutis.ipynb",
      "provenance": [],
      "collapsed_sections": [],
      "authorship_tag": "ABX9TyNikwyJaryoDmYXou8eK7v8",
      "include_colab_link": true
    },
    "kernelspec": {
      "name": "python3",
      "display_name": "Python 3"
    }
  },
  "cells": [
    {
      "cell_type": "markdown",
      "metadata": {
        "id": "view-in-github",
        "colab_type": "text"
      },
      "source": [
        "<a href=\"https://colab.research.google.com/github/Viliuskerutis/AML/blob/main/AML_MP1_Kerutis.ipynb\" target=\"_parent\"><img src=\"https://colab.research.google.com/assets/colab-badge.svg\" alt=\"Open In Colab\"/></a>"
      ]
    },
    {
      "cell_type": "markdown",
      "metadata": {
        "id": "c7riU5AFPyZa"
      },
      "source": [
        "Which country has the most deaths per million people in June?"
      ]
    },
    {
      "cell_type": "code",
      "metadata": {
        "id": "vEuBhNtSQGvg"
      },
      "source": [
        "import pandas as pd\n",
        "import numpy as np\n",
        "from datetime import date"
      ],
      "execution_count": null,
      "outputs": []
    },
    {
      "cell_type": "code",
      "metadata": {
        "id": "H99yE-hKS976",
        "outputId": "48f85196-2ba1-476e-f35d-3067c54c25ba",
        "colab": {
          "base_uri": "https://localhost:8080/",
          "height": 284
        }
      },
      "source": [
        "df = pd.read_csv('https://raw.githubusercontent.com/Viliuskerutis/AML/main/owid-covid-data.csv', low_memory=False)\n",
        "\n",
        "date_from = pd.Timestamp(date(2020,6,1))\n",
        "date_to = pd.Timestamp(date(2020,7,1))\n",
        "df['date'] =  pd.to_datetime(df['date'])\n",
        "dff = df[(df['date'] > date_from ) & (df['date'] < date_to)]\n",
        "dff = dff.loc[dff['total_deaths_per_million'].idxmax()]\n",
        "\n",
        "pd.DataFrame(dff[['iso_code', 'continent', 'location','total_cases','total_deaths','total_cases_per_million','total_deaths_per_million','population']])\n",
        "#pd.DataFrame(df)"
      ],
      "execution_count": null,
      "outputs": [
        {
          "output_type": "execute_result",
          "data": {
            "text/html": [
              "<div>\n",
              "<style scoped>\n",
              "    .dataframe tbody tr th:only-of-type {\n",
              "        vertical-align: middle;\n",
              "    }\n",
              "\n",
              "    .dataframe tbody tr th {\n",
              "        vertical-align: top;\n",
              "    }\n",
              "\n",
              "    .dataframe thead th {\n",
              "        text-align: right;\n",
              "    }\n",
              "</style>\n",
              "<table border=\"1\" class=\"dataframe\">\n",
              "  <thead>\n",
              "    <tr style=\"text-align: right;\">\n",
              "      <th></th>\n",
              "      <th>38021</th>\n",
              "    </tr>\n",
              "  </thead>\n",
              "  <tbody>\n",
              "    <tr>\n",
              "      <th>iso_code</th>\n",
              "      <td>SMR</td>\n",
              "    </tr>\n",
              "    <tr>\n",
              "      <th>continent</th>\n",
              "      <td>Europe</td>\n",
              "    </tr>\n",
              "    <tr>\n",
              "      <th>location</th>\n",
              "      <td>San Marino</td>\n",
              "    </tr>\n",
              "    <tr>\n",
              "      <th>total_cases</th>\n",
              "      <td>687</td>\n",
              "    </tr>\n",
              "    <tr>\n",
              "      <th>total_deaths</th>\n",
              "      <td>42</td>\n",
              "    </tr>\n",
              "    <tr>\n",
              "      <th>total_cases_per_million</th>\n",
              "      <td>20242.8</td>\n",
              "    </tr>\n",
              "    <tr>\n",
              "      <th>total_deaths_per_million</th>\n",
              "      <td>1237.55</td>\n",
              "    </tr>\n",
              "    <tr>\n",
              "      <th>population</th>\n",
              "      <td>33938</td>\n",
              "    </tr>\n",
              "  </tbody>\n",
              "</table>\n",
              "</div>"
            ],
            "text/plain": [
              "                               38021\n",
              "iso_code                         SMR\n",
              "continent                     Europe\n",
              "location                  San Marino\n",
              "total_cases                      687\n",
              "total_deaths                      42\n",
              "total_cases_per_million      20242.8\n",
              "total_deaths_per_million     1237.55\n",
              "population                     33938"
            ]
          },
          "metadata": {
            "tags": []
          },
          "execution_count": 85
        }
      ]
    },
    {
      "cell_type": "markdown",
      "metadata": {
        "id": "p5bZHeiDtQp6"
      },
      "source": [
        "What is the correlation between human development and total deaths among countries?"
      ]
    },
    {
      "cell_type": "code",
      "metadata": {
        "id": "ZRjXk_YctoBa",
        "outputId": "0b2fc2b2-0b38-4c73-f608-330c9d0cf0cf",
        "colab": {
          "base_uri": "https://localhost:8080/",
          "height": 52
        }
      },
      "source": [
        "date_from = pd.Timestamp(date(2020,10,10))\n",
        "date_to = pd.Timestamp(date(2020,10,12))\n",
        "dfff = df[(df['date'] > date_from ) & (df['date'] < date_to)]\n",
        "print(\"Correlation using only total deaths: \", dfff['total_deaths'].corr(dfff['human_development_index']))\n",
        "print(\"Correlation using total deaths per million: \", dfff['total_deaths_per_million'].corr(dfff['human_development_index']))"
      ],
      "execution_count": null,
      "outputs": [
        {
          "output_type": "stream",
          "text": [
            "Correlation using only total deaths:  0.15673764853453873\n",
            "Correlation using total deaths per million:  0.36521950970761125\n"
          ],
          "name": "stdout"
        }
      ]
    }
  ]
}