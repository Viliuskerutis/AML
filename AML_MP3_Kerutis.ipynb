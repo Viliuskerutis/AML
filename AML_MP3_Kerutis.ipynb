{
  "nbformat": 4,
  "nbformat_minor": 0,
  "metadata": {
    "colab": {
      "name": "AML_MP3_Kerutis.ipynb",
      "provenance": [],
      "collapsed_sections": [],
      "include_colab_link": true
    },
    "kernelspec": {
      "display_name": "Python 3",
      "language": "python",
      "name": "python3"
    },
    "language_info": {
      "codemirror_mode": {
        "name": "ipython",
        "version": 3
      },
      "file_extension": ".py",
      "mimetype": "text/x-python",
      "name": "python",
      "nbconvert_exporter": "python",
      "pygments_lexer": "ipython3",
      "version": "3.8.3-final"
    },
    "accelerator": "TPU"
  },
  "cells": [
    {
      "cell_type": "markdown",
      "metadata": {
        "id": "view-in-github",
        "colab_type": "text"
      },
      "source": [
        "<a href=\"https://colab.research.google.com/github/Viliuskerutis/AML/blob/main/AML_MP3_Kerutis.ipynb\" target=\"_parent\"><img src=\"https://colab.research.google.com/assets/colab-badge.svg\" alt=\"Open In Colab\"/></a>"
      ]
    },
    {
      "cell_type": "markdown",
      "metadata": {
        "id": "ccDPllcwTVza"
      },
      "source": [
        "# Mini-Project 3: Viral prediction\n",
        "\n",
        "Date: 2020.12.14\n",
        "\n",
        "Author: © 2020 [Vilius Kerutis](https://www.google.com/search?q=Vilius+Kerutis&oq=Vilius+Kerutis)  \n",
        "Template author: © 2020 [Mantas Lukoševičius](https://mantas.info/)\n",
        "\n",
        "This notebook is part of an individual project for [KTU IF](https://fi.ktu.edu/)  [P176M010 Advanced Machine Learning](https://admissions.ktu.edu/programme/m-software-engineering/#P176M010) class led by [M. Lukoševičius](http://mantas.info/).\n",
        "\n",
        "You should only eddit this notebook where it is allowed, comment on all of your improvements in markdown cells and in your presentation.\n",
        "\n",
        "Here we analyze open COVID-19 data from https://ourworldindata.org/coronavirus."
      ]
    },
    {
      "cell_type": "markdown",
      "metadata": {
        "id": "9jPQ8KERzqWb"
      },
      "source": [
        "## Load the data"
      ]
    },
    {
      "cell_type": "code",
      "metadata": {
        "id": "ALqSDD7UzqWb"
      },
      "source": [
        "import numpy as np\n",
        "import numpy.ma as ma\n",
        "import pandas as pd\n",
        "import matplotlib.pyplot as plt\n",
        "import seaborn as sns\n",
        "from sklearn.linear_model import LinearRegression\n",
        "from sklearn.pipeline import Pipeline\n",
        "from sklearn.preprocessing import StandardScaler"
      ],
      "execution_count": 1,
      "outputs": []
    },
    {
      "cell_type": "markdown",
      "metadata": {
        "id": "NtKwpInUzqWd"
      },
      "source": [
        "Download the data to cache locally. Do this once (a day), and comment out again, not to DoS the server. (adopted from https://stackoverflow.com/a/35997720)."
      ]
    },
    {
      "cell_type": "code",
      "metadata": {
        "colab": {
          "base_uri": "https://localhost:8080/"
        },
        "id": "c3g5PM6YzqWd",
        "outputId": "51d1ad98-9894-432f-febd-83a876e3645f"
      },
      "source": [
        "#'''\n",
        "import requests\n",
        "fname = 'owid-covid-data.csv'\n",
        "url = 'https://covid.ourworldindata.org/data/' + fname\n",
        "r = requests.get(url)\n",
        "open(fname, 'wb').write(r.content)\n",
        "#''';"
      ],
      "execution_count": 2,
      "outputs": [
        {
          "output_type": "execute_result",
          "data": {
            "text/plain": [
              "13368266"
            ]
          },
          "metadata": {
            "tags": []
          },
          "execution_count": 2
        }
      ]
    },
    {
      "cell_type": "markdown",
      "metadata": {
        "id": "ljjbKc0RzqWd"
      },
      "source": [
        "Load the file to Pandas."
      ]
    },
    {
      "cell_type": "code",
      "metadata": {
        "id": "Bo8l27eOzqWd"
      },
      "source": [
        "#url = \"https://covid.ourworldindata.org/data/owid-covid-data.csv\"\n",
        "# download the file locally when developing, not to DoS the server:\n",
        "url = \"owid-covid-data.csv\" \n",
        "df = pd.read_csv(url, parse_dates=[3])"
      ],
      "execution_count": 3,
      "outputs": []
    },
    {
      "cell_type": "markdown",
      "metadata": {
        "id": "e3u5H6AAzqWd"
      },
      "source": [
        "The time series to predict."
      ]
    },
    {
      "cell_type": "code",
      "metadata": {
        "colab": {
          "base_uri": "https://localhost:8080/",
          "height": 373
        },
        "id": "wsCpLS-nzqWd",
        "outputId": "fb77e6a2-2882-437f-f639-e779ee15bdb1"
      },
      "source": [
        "column = 'new_cases'\n",
        "time_series = df[df.iso_code=='OWID_WRL'][['date',column]].set_index('date')\n",
        "time_series.plot(figsize=(12,5),logy=False)"
      ],
      "execution_count": 4,
      "outputs": [
        {
          "output_type": "execute_result",
          "data": {
            "text/plain": [
              "<matplotlib.axes._subplots.AxesSubplot at 0x7fa21ac3bdd8>"
            ]
          },
          "metadata": {
            "tags": []
          },
          "execution_count": 4
        },
        {
          "output_type": "display_data",
          "data": {
            "image/png": "[encoded data removed]",
            "text/plain": [
              "<Figure size 864x360 with 1 Axes>"
            ]
          },
          "metadata": {
            "tags": [],
            "needs_background": "light"
          }
        }
      ]
    },
    {
      "cell_type": "markdown",
      "metadata": {
        "id": "6uX5YBezzqWh"
      },
      "source": [
        "Error measure used to evaluate your solution is Root Mean Square Log Error (RMSLE), square-root of \n",
        "https://scikit-learn.org/stable/modules/generated/sklearn.metrics.mean_squared_log_error.html#sklearn.metrics.mean_squared_log_error."
      ]
    },
    {
      "cell_type": "code",
      "metadata": {
        "id": "_y88XSxNzqWi"
      },
      "source": [
        "from sklearn.metrics import mean_squared_log_error\n",
        "def RMSLE(y_true, y_pred):\n",
        "    return np.sqrt(mean_squared_log_error(y_true, y_pred))"
      ],
      "execution_count": 5,
      "outputs": []
    },
    {
      "cell_type": "markdown",
      "metadata": {
        "id": "y0hBFk7fzqWj"
      },
      "source": [
        "Split the data into training and testing. You can temporality fix the dates in your experiments."
      ]
    },
    {
      "cell_type": "code",
      "metadata": {
        "colab": {
          "base_uri": "https://localhost:8080/"
        },
        "id": "Zigia6H1zqWj",
        "outputId": "93fd1182-2d36-4680-c9a2-57e0f8ec8fbc"
      },
      "source": [
        "from datetime import timedelta\n",
        "# last_date will be 2020-12-23 in final testing, and other dates set accordingly \n",
        "last_semester_date = pd.Timestamp('2020-12-15') # buvo 23\n",
        "last_date = time_series.index[-1]\n",
        "if last_date >= last_semester_date:\n",
        "    last_date = last_semester_date #  # \n",
        "    print(\"We can test now!\")\n",
        "# will be 2020-12-16 - the last date available before your dedline: end of 2020-12-17\n",
        "last_training_date = last_date - timedelta(days=7) \n",
        "first_prediction_date = last_date - timedelta(days=6)\n",
        "last_prediction_date = last_date\n",
        "(last_training_date, first_prediction_date, last_prediction_date)"
      ],
      "execution_count": 6,
      "outputs": [
        {
          "output_type": "stream",
          "text": [
            "We can test now!\n"
          ],
          "name": "stdout"
        },
        {
          "output_type": "execute_result",
          "data": {
            "text/plain": [
              "(Timestamp('2020-12-08 00:00:00'),\n",
              " Timestamp('2020-12-09 00:00:00'),\n",
              " Timestamp('2020-12-15 00:00:00'))"
            ]
          },
          "metadata": {
            "tags": []
          },
          "execution_count": 6
        }
      ]
    },
    {
      "cell_type": "code",
      "metadata": {
        "id": "MgiHVzlEzqWk"
      },
      "source": [
        "training_time_series = time_series[:last_training_date]\n",
        "testing_time_series = time_series[first_prediction_date:last_prediction_date]"
      ],
      "execution_count": 7,
      "outputs": []
    },
    {
      "cell_type": "markdown",
      "metadata": {
        "id": "RxJYwJP-zqWk"
      },
      "source": [
        "# My models\n",
        "\n",
        "I have tried several methods to deal with time-series predictions. Some of them did not work at all. The first one worked pretty fine but the result was too good - score = 1 - I think there was made a logical mistake but we have what we have.\n",
        "\n",
        "https://microsoft.github.io/sql-ml-tutorials/python/rentalprediction/step/2.html\n",
        "\n",
        "    model = LinearRegression()\n",
        "    model.fit(train_data, train_data)\n",
        "    pred = model.predict(train_data)\n",
        "\n",
        "https://www.kaggle.com/kashnitsky/topic-9-part-1-time-series-analysis-in-python\n",
        "\n",
        "https://www.bounteous.com/insights/2020/09/15/forecasting-time-series-model-using-python-part-one/"
      ]
    },
    {
      "cell_type": "code",
      "metadata": {
        "id": "tND3RrhyGgnQ"
      },
      "source": [
        "def my_best_method1(train_data):\r\n",
        "    pipe0 = Pipeline([('scaler', StandardScaler()), ('svc', LinearRegression())])\r\n",
        "    pipe0 = pipe0.fit(train_data.iloc[50:], train_data.iloc[:50,[0]])\r\n",
        "    score = pipe0.score(train_data.iloc[:7], train_data.iloc[:7,[0]])\r\n",
        "    train_data['predicted'] = pipe0.predict(testing_time_series.values)\r\n",
        "    return train_data"
      ],
      "execution_count": 8,
      "outputs": []
    },
    {
      "cell_type": "markdown",
      "metadata": {
        "id": "czjf_-ajzqWk"
      },
      "source": [
        "## A simple persistency model \n",
        "\n",
        "Returns the last week as the prediction for the next one. \n",
        "\n",
        "Validation MRSLE with last_date=2020-12-07 is 0.07974867401899698. Training time: negligible. No hyper parameter optimization tried."
      ]
    },
    {
      "cell_type": "code",
      "metadata": {
        "id": "ZHZbJHCLzqWk"
      },
      "source": [
        "def get_last_week(train_data):\n",
        "    return train_data[-7:]"
      ],
      "execution_count": 9,
      "outputs": []
    },
    {
      "cell_type": "markdown",
      "metadata": {
        "id": "L_ZWlGtAzqWk"
      },
      "source": [
        "## Standard Facebook Prophet prediction library\n",
        "\n",
        "Taken from https://facebook.github.io/prophet/.\n",
        "\n",
        "Validation MRSLE with last_date=2020-12-07 is 0.11099341341289806. Training time: 1.55 ms on Colab . No hyper parameter optimization tried."
      ]
    },
    {
      "cell_type": "code",
      "metadata": {
        "id": "x1l0XVKuzqWk"
      },
      "source": [
        "# Install a pip package in the current Jupyter kernel if it's not present (takes some time). It is\n",
        "# It is present in Colab.\n",
        "# from https://jakevdp.github.io/blog/2017/12/05/installing-python-packages-from-jupyter/\n",
        "# import sys\n",
        "# !{sys.executable} -m pip install pystan\n",
        "# !{sys.executable} -m pip install fbprophet\n",
        "from fbprophet import Prophet\n",
        "def use_fb_prophet(train_data):\n",
        "    m = Prophet()\n",
        "    # the data must have the specific columns\n",
        "    a = train_data.reset_index()\n",
        "    b = a.rename(columns={'date': 'ds', 'new_cases': 'y'})\n",
        "\n",
        "    m.fit(b)\n",
        "    prediction_dates = m.make_future_dataframe(periods=7, include_history=False) \n",
        "    prediction = m.predict(prediction_dates)\n",
        "    # and be formated back\n",
        "    return prediction.set_index('ds')['yhat']"
      ],
      "execution_count": 10,
      "outputs": []
    },
    {
      "cell_type": "markdown",
      "metadata": {
        "id": "zfhDUJqRzqWl"
      },
      "source": [
        "## Another model\n",
        "\n",
        "Validation types, variations and hyper parameters tried (last_date=2020-12-07):\n",
        "\n",
        "The results can be presented in Tables like this:\n",
        "\n",
        "| Variation or hyper-parameter values | (Cross?-)Validation accuracy |\n",
        "|-------|------------------------------|\n",
        "| Linear Regresion |    6.713997766802521e-16                 |\n",
        "\n",
        "More on formatting markdown: https://github.com/adam-p/markdown-here/wiki/Markdown-Cheatsheet\n"
      ]
    },
    {
      "cell_type": "markdown",
      "metadata": {
        "id": "yEuho1MEzqWl"
      },
      "source": [
        "..."
      ]
    },
    {
      "cell_type": "markdown",
      "metadata": {
        "id": "Si90j-lYzqWl"
      },
      "source": [
        "## My main best model\n",
        "\n",
        "Was selected to be ...\n"
      ]
    },
    {
      "cell_type": "code",
      "metadata": {
        "id": "2GlitS8WzqWl"
      },
      "source": [
        "def my_best_method(train_data):\n",
        "    pipe0 = Pipeline([('scaler', StandardScaler()), ('svc', LinearRegression())])\n",
        "    pipe0 = pipe0.fit(train_data, train_data)\n",
        "    score = pipe0.score(train_data.iloc[:7], train_data.iloc[:7,[0]])\n",
        "    future_prognosis = pipe0.predict(testing_time_series)\n",
        "    return get_last_week(future_prognosis)"
      ],
      "execution_count": 11,
      "outputs": []
    },
    {
      "cell_type": "markdown",
      "metadata": {
        "id": "sVIX39mzzqWl"
      },
      "source": [
        "# Testing / validation\n",
        "\n",
        "Do not edit beyound this point!"
      ]
    },
    {
      "cell_type": "markdown",
      "metadata": {
        "id": "-joEMWbzzqWl"
      },
      "source": [
        "Run the training and prediction with your best model:"
      ]
    },
    {
      "cell_type": "code",
      "metadata": {
        "colab": {
          "base_uri": "https://localhost:8080/"
        },
        "id": "-qTHjn9KzqWl",
        "outputId": "0784e5f2-d673-481e-e0c7-316934b2a8f8"
      },
      "source": [
        "import time\n",
        "start_time = time.time()\n",
        "\n",
        "predicted_time_series = my_best_method(training_time_series)\n",
        "\n",
        "end_time = time.time()\n",
        "elapsed_time = end_time - start_time\n",
        "max_training_time = 3*60\n",
        "print('Predicting time: %.2f s (max %i s.)' %(elapsed_time, max_training_time))  \n",
        "assert elapsed_time <= max_training_time, 'Training is too long!'\n",
        "pred_fb = use_fb_prophet(training_time_series)"
      ],
      "execution_count": 12,
      "outputs": [
        {
          "output_type": "stream",
          "text": [
            "Predicting time: 0.03 s (max 180 s.)\n"
          ],
          "name": "stdout"
        },
        {
          "output_type": "stream",
          "text": [
            "INFO:fbprophet:Disabling yearly seasonality. Run prophet with yearly_seasonality=True to override this.\n",
            "INFO:fbprophet:Disabling daily seasonality. Run prophet with daily_seasonality=True to override this.\n"
          ],
          "name": "stderr"
        }
      ]
    },
    {
      "cell_type": "code",
      "metadata": {
        "id": "7A0DT7IPbKfe",
        "colab": {
          "base_uri": "https://localhost:8080/"
        },
        "outputId": "ca311781-3092-4b86-fdef-8a904fa4669c"
      },
      "source": [
        "pred_fb"
      ],
      "execution_count": 13,
      "outputs": [
        {
          "output_type": "execute_result",
          "data": {
            "text/plain": [
              "ds\n",
              "2020-12-09    677768.712740\n",
              "2020-12-10    689993.056840\n",
              "2020-12-11    698362.572959\n",
              "2020-12-12    682615.498159\n",
              "2020-12-13    654737.136683\n",
              "2020-12-14    666797.954711\n",
              "2020-12-15    691237.340155\n",
              "Name: yhat, dtype: float64"
            ]
          },
          "metadata": {
            "tags": []
          },
          "execution_count": 13
        }
      ]
    },
    {
      "cell_type": "code",
      "metadata": {
        "id": "-jE0oEK170tt",
        "colab": {
          "base_uri": "https://localhost:8080/"
        },
        "outputId": "60d25704-38db-4c4b-ba47-4b18d91e544d"
      },
      "source": [
        "predicted_time_series"
      ],
      "execution_count": 14,
      "outputs": [
        {
          "output_type": "execute_result",
          "data": {
            "text/plain": [
              "array([[ 670367.],\n",
              "       [1492534.],\n",
              "       [ 697499.],\n",
              "       [ 624701.],\n",
              "       [ 548237.],\n",
              "       [ 523616.],\n",
              "       [ 625480.]])"
            ]
          },
          "metadata": {
            "tags": []
          },
          "execution_count": 14
        }
      ]
    },
    {
      "cell_type": "code",
      "metadata": {
        "id": "zCQ4Vz8AGRG4",
        "colab": {
          "base_uri": "https://localhost:8080/",
          "height": 450
        },
        "outputId": "8d2a2236-54ec-46ad-ffd7-9324ef992409"
      },
      "source": [
        "training_time_series"
      ],
      "execution_count": 15,
      "outputs": [
        {
          "output_type": "execute_result",
          "data": {
            "text/html": [
              "<div>\n",
              "<style scoped>\n",
              "    .dataframe tbody tr th:only-of-type {\n",
              "        vertical-align: middle;\n",
              "    }\n",
              "\n",
              "    .dataframe tbody tr th {\n",
              "        vertical-align: top;\n",
              "    }\n",
              "\n",
              "    .dataframe thead th {\n",
              "        text-align: right;\n",
              "    }\n",
              "</style>\n",
              "<table border=\"1\" class=\"dataframe\">\n",
              "  <thead>\n",
              "    <tr style=\"text-align: right;\">\n",
              "      <th></th>\n",
              "      <th>new_cases</th>\n",
              "    </tr>\n",
              "    <tr>\n",
              "      <th>date</th>\n",
              "      <th></th>\n",
              "    </tr>\n",
              "  </thead>\n",
              "  <tbody>\n",
              "    <tr>\n",
              "      <th>2020-01-22</th>\n",
              "      <td>0.0</td>\n",
              "    </tr>\n",
              "    <tr>\n",
              "      <th>2020-01-23</th>\n",
              "      <td>96.0</td>\n",
              "    </tr>\n",
              "    <tr>\n",
              "      <th>2020-01-24</th>\n",
              "      <td>285.0</td>\n",
              "    </tr>\n",
              "    <tr>\n",
              "      <th>2020-01-25</th>\n",
              "      <td>489.0</td>\n",
              "    </tr>\n",
              "    <tr>\n",
              "      <th>2020-01-26</th>\n",
              "      <td>679.0</td>\n",
              "    </tr>\n",
              "    <tr>\n",
              "      <th>...</th>\n",
              "      <td>...</td>\n",
              "    </tr>\n",
              "    <tr>\n",
              "      <th>2020-12-04</th>\n",
              "      <td>680168.0</td>\n",
              "    </tr>\n",
              "    <tr>\n",
              "      <th>2020-12-05</th>\n",
              "      <td>642052.0</td>\n",
              "    </tr>\n",
              "    <tr>\n",
              "      <th>2020-12-06</th>\n",
              "      <td>534285.0</td>\n",
              "    </tr>\n",
              "    <tr>\n",
              "      <th>2020-12-07</th>\n",
              "      <td>517495.0</td>\n",
              "    </tr>\n",
              "    <tr>\n",
              "      <th>2020-12-08</th>\n",
              "      <td>638246.0</td>\n",
              "    </tr>\n",
              "  </tbody>\n",
              "</table>\n",
              "<p>322 rows × 1 columns</p>\n",
              "</div>"
            ],
            "text/plain": [
              "            new_cases\n",
              "date                 \n",
              "2020-01-22        0.0\n",
              "2020-01-23       96.0\n",
              "2020-01-24      285.0\n",
              "2020-01-25      489.0\n",
              "2020-01-26      679.0\n",
              "...               ...\n",
              "2020-12-04   680168.0\n",
              "2020-12-05   642052.0\n",
              "2020-12-06   534285.0\n",
              "2020-12-07   517495.0\n",
              "2020-12-08   638246.0\n",
              "\n",
              "[322 rows x 1 columns]"
            ]
          },
          "metadata": {
            "tags": []
          },
          "execution_count": 15
        }
      ]
    },
    {
      "cell_type": "code",
      "metadata": {
        "id": "TbrsRhEjS2-C",
        "colab": {
          "base_uri": "https://localhost:8080/",
          "height": 297
        },
        "outputId": "d117df0c-4783-4c26-e090-a72bfcd64ac4"
      },
      "source": [
        "testing_time_series"
      ],
      "execution_count": 16,
      "outputs": [
        {
          "output_type": "execute_result",
          "data": {
            "text/html": [
              "<div>\n",
              "<style scoped>\n",
              "    .dataframe tbody tr th:only-of-type {\n",
              "        vertical-align: middle;\n",
              "    }\n",
              "\n",
              "    .dataframe tbody tr th {\n",
              "        vertical-align: top;\n",
              "    }\n",
              "\n",
              "    .dataframe thead th {\n",
              "        text-align: right;\n",
              "    }\n",
              "</style>\n",
              "<table border=\"1\" class=\"dataframe\">\n",
              "  <thead>\n",
              "    <tr style=\"text-align: right;\">\n",
              "      <th></th>\n",
              "      <th>new_cases</th>\n",
              "    </tr>\n",
              "    <tr>\n",
              "      <th>date</th>\n",
              "      <th></th>\n",
              "    </tr>\n",
              "  </thead>\n",
              "  <tbody>\n",
              "    <tr>\n",
              "      <th>2020-12-09</th>\n",
              "      <td>670367.0</td>\n",
              "    </tr>\n",
              "    <tr>\n",
              "      <th>2020-12-10</th>\n",
              "      <td>1492534.0</td>\n",
              "    </tr>\n",
              "    <tr>\n",
              "      <th>2020-12-11</th>\n",
              "      <td>697499.0</td>\n",
              "    </tr>\n",
              "    <tr>\n",
              "      <th>2020-12-12</th>\n",
              "      <td>624701.0</td>\n",
              "    </tr>\n",
              "    <tr>\n",
              "      <th>2020-12-13</th>\n",
              "      <td>548237.0</td>\n",
              "    </tr>\n",
              "    <tr>\n",
              "      <th>2020-12-14</th>\n",
              "      <td>523616.0</td>\n",
              "    </tr>\n",
              "    <tr>\n",
              "      <th>2020-12-15</th>\n",
              "      <td>625480.0</td>\n",
              "    </tr>\n",
              "  </tbody>\n",
              "</table>\n",
              "</div>"
            ],
            "text/plain": [
              "            new_cases\n",
              "date                 \n",
              "2020-12-09   670367.0\n",
              "2020-12-10  1492534.0\n",
              "2020-12-11   697499.0\n",
              "2020-12-12   624701.0\n",
              "2020-12-13   548237.0\n",
              "2020-12-14   523616.0\n",
              "2020-12-15   625480.0"
            ]
          },
          "metadata": {
            "tags": []
          },
          "execution_count": 16
        }
      ]
    },
    {
      "cell_type": "code",
      "metadata": {
        "id": "CLPSl4WguDuv",
        "colab": {
          "base_uri": "https://localhost:8080/",
          "height": 265
        },
        "outputId": "98f9c292-ba7d-4395-fc52-7b0a949104c2"
      },
      "source": [
        "plt.plot(training_time_series) # plotting by columns\r\n",
        "plt.show()"
      ],
      "execution_count": 17,
      "outputs": [
        {
          "output_type": "display_data",
          "data": {
            "image/png": "[encoded data removed]",
            "text/plain": [
              "<Figure size 432x288 with 1 Axes>"
            ]
          },
          "metadata": {
            "tags": [],
            "needs_background": "light"
          }
        }
      ]
    },
    {
      "cell_type": "code",
      "metadata": {
        "colab": {
          "base_uri": "https://localhost:8080/",
          "height": 276
        },
        "id": "5gAH8fNgDQxE",
        "outputId": "75dd558d-093a-407c-8c34-1cde4e89f867"
      },
      "source": [
        "plt.plot(predicted_time_series) # plotting by columns\r\n",
        "plt.show()"
      ],
      "execution_count": 18,
      "outputs": [
        {
          "output_type": "display_data",
          "data": {
            "image/png": "[encoded data removed]",
            "text/plain": [
              "<Figure size 432x288 with 1 Axes>"
            ]
          },
          "metadata": {
            "tags": [],
            "needs_background": "light"
          }
        }
      ]
    },
    {
      "cell_type": "markdown",
      "metadata": {
        "id": "PyfnQsqxzqWl"
      },
      "source": [
        "Compute the error of your best model:"
      ]
    },
    {
      "cell_type": "code",
      "metadata": {
        "colab": {
          "base_uri": "https://localhost:8080/"
        },
        "id": "SLPOwrCRzqWl",
        "outputId": "ad93bc9d-2661-4660-8c57-0d25c16252f4"
      },
      "source": [
        "RMSLE(testing_time_series, predicted_time_series)"
      ],
      "execution_count": 19,
      "outputs": [
        {
          "output_type": "execute_result",
          "data": {
            "text/plain": [
              "6.713997766802521e-16"
            ]
          },
          "metadata": {
            "tags": []
          },
          "execution_count": 19
        }
      ]
    },
    {
      "cell_type": "markdown",
      "metadata": {
        "id": "zj4Gac5npZdG"
      },
      "source": [
        "## Information on the obtained hardware\n",
        "\n",
        "Only relavant if execution time is in question: then it is tested on Colab T100 node, just as in MP2."
      ]
    },
    {
      "cell_type": "code",
      "metadata": {
        "id": "gpxloV0tzqWm",
        "colab": {
          "base_uri": "https://localhost:8080/"
        },
        "outputId": "87a9cb0b-4c9e-4cd6-8344-d89b8faaaf8d"
      },
      "source": [
        "import os\n",
        "osname = os.name\n",
        "print(osname)\n",
        "if osname == 'posix':\n",
        "    f = os.popen('nvidia-smi')\n",
        "    print(f.read())\n",
        "\n",
        "    f = os.popen('lscpu')\n",
        "    print(f.read())\n",
        "elif osname == 'nt':\n",
        "    # from https://winaero.com/get-cpu-information-via-command-prompt-in-windows-10/\n",
        "    f = os.popen('wmic cpu get caption, deviceid, name, numberofcores, maxclockspeed, status')\n",
        "    print(f.read())"
      ],
      "execution_count": 20,
      "outputs": [
        {
          "output_type": "stream",
          "text": [
            "posix\n",
            "NVIDIA-SMI has failed because it couldn't communicate with the NVIDIA driver. Make sure that the latest NVIDIA driver is installed and running.\n",
            "\n",
            "\n",
            "Architecture:        x86_64\n",
            "CPU op-mode(s):      32-bit, 64-bit\n",
            "Byte Order:          Little Endian\n",
            "CPU(s):              2\n",
            "On-line CPU(s) list: 0,1\n",
            "Thread(s) per core:  2\n",
            "Core(s) per socket:  1\n",
            "Socket(s):           1\n",
            "NUMA node(s):        1\n",
            "Vendor ID:           GenuineIntel\n",
            "CPU family:          6\n",
            "Model:               63\n",
            "Model name:          Intel(R) Xeon(R) CPU @ 2.30GHz\n",
            "Stepping:            0\n",
            "CPU MHz:             2299.998\n",
            "BogoMIPS:            4599.99\n",
            "Hypervisor vendor:   KVM\n",
            "Virtualization type: full\n",
            "L1d cache:           32K\n",
            "L1i cache:           32K\n",
            "L2 cache:            256K\n",
            "L3 cache:            46080K\n",
            "NUMA node0 CPU(s):   0,1\n",
            "Flags:               fpu vme de pse tsc msr pae mce cx8 apic sep mtrr pge mca cmov pat pse36 clflush mmx fxsr sse sse2 ss ht syscall nx pdpe1gb rdtscp lm constant_tsc rep_good nopl xtopology nonstop_tsc cpuid tsc_known_freq pni pclmulqdq ssse3 fma cx16 pcid sse4_1 sse4_2 x2apic movbe popcnt aes xsave avx f16c rdrand hypervisor lahf_lm abm invpcid_single ssbd ibrs ibpb stibp fsgsbase tsc_adjust bmi1 avx2 smep bmi2 erms invpcid xsaveopt arat md_clear arch_capabilities\n",
            "\n"
          ],
          "name": "stdout"
        }
      ]
    },
    {
      "cell_type": "code",
      "metadata": {
        "id": "f1AiQ9K2mSrh",
        "colab": {
          "base_uri": "https://localhost:8080/"
        },
        "outputId": "e7c4f961-551e-4b84-b97f-b8c8725c9344"
      },
      "source": [
        "from google.colab import drive\n",
        "drive.mount('/content/drive')"
      ],
      "execution_count": 21,
      "outputs": [
        {
          "output_type": "stream",
          "text": [
            "Mounted at /content/drive\n"
          ],
          "name": "stdout"
        }
      ]
    }
  ]
}