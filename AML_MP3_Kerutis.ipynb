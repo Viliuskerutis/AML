{
  "nbformat": 4,
  "nbformat_minor": 0,
  "metadata": {
    "colab": {
      "name": "AML_MP3_template.ipynb",
      "provenance": [],
      "collapsed_sections": [],
      "toc_visible": true,
      "include_colab_link": true
    },
    "kernelspec": {
      "display_name": "Python 3",
      "language": "python",
      "name": "python3"
    },
    "language_info": {
      "codemirror_mode": {
        "name": "ipython",
        "version": 3
      },
      "file_extension": ".py",
      "mimetype": "text/x-python",
      "name": "python",
      "nbconvert_exporter": "python",
      "pygments_lexer": "ipython3",
      "version": "3.8.3-final"
    },
    "accelerator": "TPU"
  },
  "cells": [
    {
      "cell_type": "markdown",
      "metadata": {
        "id": "view-in-github",
        "colab_type": "text"
      },
      "source": [
        "<a href=\"https://colab.research.google.com/github/Viliuskerutis/AML/blob/main/AML_MP3_Kerutis.ipynb\" target=\"_parent\"><img src=\"https://colab.research.google.com/assets/colab-badge.svg\" alt=\"Open In Colab\"/></a>"
      ]
    },
    {
      "cell_type": "markdown",
      "metadata": {
        "id": "ccDPllcwTVza"
      },
      "source": [
        "# Mini-Project 3: Viral prediction\n",
        "\n",
        "Date: 2020.12.14\n",
        "\n",
        "Author: © 2020 [Vilius Kerutis](https://www.google.com/search?q=Vilius+Kerutis&oq=Vilius+Kerutis)  \n",
        "Template author: © 2020 [Mantas Lukoševičius](https://mantas.info/)\n",
        "\n",
        "This notebook is part of an individual project for [KTU IF](https://fi.ktu.edu/)  [P176M010 Advanced Machine Learning](https://admissions.ktu.edu/programme/m-software-engineering/#P176M010) class led by [M. Lukoševičius](http://mantas.info/).\n",
        "\n",
        "You should only eddit this notebook where it is allowed, comment on all of your improvements in markdown cells and in your presentation.\n",
        "\n",
        "Here we analyze open COVID-19 data from https://ourworldindata.org/coronavirus."
      ]
    },
    {
      "cell_type": "markdown",
      "metadata": {
        "id": "9jPQ8KERzqWb"
      },
      "source": [
        "## Load the data"
      ]
    },
    {
      "cell_type": "code",
      "metadata": {
        "id": "ALqSDD7UzqWb"
      },
      "source": [
        "import numpy as np\n",
        "import numpy.ma as ma\n",
        "import pandas as pd\n",
        "import matplotlib.pyplot as plt\n",
        "import seaborn as sns\n",
        "from sklearn.linear_model import LinearRegression"
      ],
      "execution_count": 28,
      "outputs": []
    },
    {
      "cell_type": "markdown",
      "metadata": {
        "id": "NtKwpInUzqWd"
      },
      "source": [
        "Download the data to cache locally. Do this once (a day), and comment out again, not to DoS the server. (adopted from https://stackoverflow.com/a/35997720)."
      ]
    },
    {
      "cell_type": "code",
      "metadata": {
        "colab": {
          "base_uri": "https://localhost:8080/"
        },
        "id": "c3g5PM6YzqWd",
        "outputId": "5a25bb4c-364d-473b-c90a-2f20d066b727"
      },
      "source": [
        "#'''\n",
        "import requests\n",
        "fname = 'owid-covid-data.csv'\n",
        "url = 'https://covid.ourworldindata.org/data/' + fname\n",
        "r = requests.get(url)\n",
        "open(fname, 'wb').write(r.content)\n",
        "#''';"
      ],
      "execution_count": 29,
      "outputs": [
        {
          "output_type": "execute_result",
          "data": {
            "text/plain": [
              "14708341"
            ]
          },
          "metadata": {
            "tags": []
          },
          "execution_count": 29
        }
      ]
    },
    {
      "cell_type": "markdown",
      "metadata": {
        "id": "ljjbKc0RzqWd"
      },
      "source": [
        "Load the file to Pandas."
      ]
    },
    {
      "cell_type": "code",
      "metadata": {
        "id": "Bo8l27eOzqWd"
      },
      "source": [
        "#url = \"https://covid.ourworldindata.org/data/owid-covid-data.csv\"\n",
        "# download the file locally when developing, not to DoS the server:\n",
        "url = \"owid-covid-data.csv\" \n",
        "df = pd.read_csv(url, parse_dates=[3])"
      ],
      "execution_count": 30,
      "outputs": []
    },
    {
      "cell_type": "markdown",
      "metadata": {
        "id": "e3u5H6AAzqWd"
      },
      "source": [
        "The time series to predict."
      ]
    },
    {
      "cell_type": "code",
      "metadata": {
        "colab": {
          "base_uri": "https://localhost:8080/",
          "height": 373
        },
        "id": "wsCpLS-nzqWd",
        "outputId": "5162daa6-0b1a-4a29-a59a-2f830e88ee26"
      },
      "source": [
        "column = 'new_cases'\n",
        "time_series = df[df.iso_code=='OWID_WRL'][['date',column]].set_index('date')\n",
        "time_series.plot(figsize=(12,5),logy=False)"
      ],
      "execution_count": 31,
      "outputs": [
        {
          "output_type": "execute_result",
          "data": {
            "text/plain": [
              "<matplotlib.axes._subplots.AxesSubplot at 0x7fed9db07c18>"
            ]
          },
          "metadata": {
            "tags": []
          },
          "execution_count": 31
        },
        {
          "output_type": "display_data",
          "data": {
            "image/png": "[encoded data removed]",
            "text/plain": [
              "<Figure size 864x360 with 1 Axes>"
            ]
          },
          "metadata": {
            "tags": [],
            "needs_background": "light"
          }
        }
      ]
    },
    {
      "cell_type": "markdown",
      "metadata": {
        "id": "6uX5YBezzqWh"
      },
      "source": [
        "Error measure used to evaluate your solution is Root Mean Square Log Error (RMSLE), square-root of \n",
        "https://scikit-learn.org/stable/modules/generated/sklearn.metrics.mean_squared_log_error.html#sklearn.metrics.mean_squared_log_error."
      ]
    },
    {
      "cell_type": "code",
      "metadata": {
        "id": "_y88XSxNzqWi"
      },
      "source": [
        "from sklearn.metrics import mean_squared_log_error\n",
        "def RMSLE(y_true, y_pred):\n",
        "    return np.sqrt(mean_squared_log_error(y_true, y_pred))"
      ],
      "execution_count": 32,
      "outputs": []
    },
    {
      "cell_type": "markdown",
      "metadata": {
        "id": "y0hBFk7fzqWj"
      },
      "source": [
        "Split the data into training and testing. You can temporality fix the dates in your experiments."
      ]
    },
    {
      "cell_type": "code",
      "metadata": {
        "colab": {
          "base_uri": "https://localhost:8080/"
        },
        "id": "Zigia6H1zqWj",
        "outputId": "6078c18d-59b1-4175-be53-8a92dcf12406"
      },
      "source": [
        "from datetime import timedelta\n",
        "# last_date will be 2020-12-23 in final testing, and other dates set accordingly \n",
        "last_semester_date = pd.Timestamp('2020-12-13') # buvo 23\n",
        "last_date = time_series.index[-1]\n",
        "if last_date >= last_semester_date:\n",
        "    last_date = last_semester_date #  # \n",
        "    print(\"We can test now!\")\n",
        "# will be 2020-12-16 - the last date available before your dedline: end of 2020-12-17\n",
        "last_training_date = last_date - timedelta(days=7) \n",
        "first_prediction_date = last_date - timedelta(days=6)\n",
        "last_prediction_date = last_date\n",
        "(last_training_date, first_prediction_date, last_prediction_date)"
      ],
      "execution_count": 33,
      "outputs": [
        {
          "output_type": "stream",
          "text": [
            "We can test now!\n"
          ],
          "name": "stdout"
        },
        {
          "output_type": "execute_result",
          "data": {
            "text/plain": [
              "(Timestamp('2020-12-06 00:00:00'),\n",
              " Timestamp('2020-12-07 00:00:00'),\n",
              " Timestamp('2020-12-13 00:00:00'))"
            ]
          },
          "metadata": {
            "tags": []
          },
          "execution_count": 33
        }
      ]
    },
    {
      "cell_type": "code",
      "metadata": {
        "id": "MgiHVzlEzqWk"
      },
      "source": [
        "training_time_series = time_series[:last_training_date]\n",
        "testing_time_series = time_series[first_prediction_date:last_prediction_date]"
      ],
      "execution_count": 19,
      "outputs": []
    },
    {
      "cell_type": "markdown",
      "metadata": {
        "id": "RxJYwJP-zqWk"
      },
      "source": [
        "# My models\n",
        "\n",
        "**This is the only section which you should rewrite and expand significanlty providing/documenting your models tried and results with them. **\n",
        "\n",
        "Give links to the sources of the models and the ideas!\n",
        "\n",
        "Execution of this section should not take long (no training here ;)."
      ]
    },
    {
      "cell_type": "markdown",
      "metadata": {
        "id": "czjf_-ajzqWk"
      },
      "source": [
        "## A simple persistency model \n",
        "\n",
        "Returns the last week as the prediction for the next one. \n",
        "\n",
        "Validation MRSLE with last_date=2020-12-07 is 0.07974867401899698. Training time: negligible. No hyper parameter optimization tried."
      ]
    },
    {
      "cell_type": "code",
      "metadata": {
        "id": "ZHZbJHCLzqWk"
      },
      "source": [
        "def get_last_week(train_data):\n",
        "    return train_data[-7:]"
      ],
      "execution_count": 34,
      "outputs": []
    },
    {
      "cell_type": "markdown",
      "metadata": {
        "id": "L_ZWlGtAzqWk"
      },
      "source": [
        "## Standard Facebook Prophet prediction library\n",
        "\n",
        "Taken from https://facebook.github.io/prophet/.\n",
        "\n",
        "Validation MRSLE with last_date=2020-12-07 is 0.11099341341289806. Training time: 1.55 ms on Colab . No hyper parameter optimization tried."
      ]
    },
    {
      "cell_type": "code",
      "metadata": {
        "id": "x1l0XVKuzqWk"
      },
      "source": [
        "# Install a pip package in the current Jupyter kernel if it's not present (takes some time). It is\n",
        "# It is present in Colab.\n",
        "# from https://jakevdp.github.io/blog/2017/12/05/installing-python-packages-from-jupyter/\n",
        "# import sys\n",
        "# !{sys.executable} -m pip install pystan\n",
        "# !{sys.executable} -m pip install fbprophet\n",
        "from fbprophet import Prophet\n",
        "def use_fb_prophet(train_data):\n",
        "    m = Prophet()\n",
        "    # the data must have the specific columns\n",
        "    a = train_data.reset_index()\n",
        "    b = a.rename(columns={'date': 'ds', 'new_cases': 'y'})\n",
        "\n",
        "    m.fit(b)\n",
        "    prediction_dates = m.make_future_dataframe(periods=7, include_history=False) \n",
        "    prediction = m.predict(prediction_dates)\n",
        "    # and be formated back\n",
        "    return prediction.set_index('ds')['yhat']"
      ],
      "execution_count": 35,
      "outputs": []
    },
    {
      "cell_type": "markdown",
      "metadata": {
        "id": "zfhDUJqRzqWl"
      },
      "source": [
        "## Another model\n",
        "\n",
        "Validation types, variations and hyper parameters tried (last_date=2020-12-07):\n",
        "\n",
        "The results can be presented in Tables like this:\n",
        "\n",
        "| Variation or hyper-parameter values | (Cross?-)Validation accuracy |\n",
        "|-------|------------------------------|\n",
        "| Variation 1 |    0.800000000000                 |\n",
        "\n",
        "More on formatting markdown: https://github.com/adam-p/markdown-here/wiki/Markdown-Cheatsheet\n"
      ]
    },
    {
      "cell_type": "markdown",
      "metadata": {
        "id": "yEuho1MEzqWl"
      },
      "source": [
        "..."
      ]
    },
    {
      "cell_type": "markdown",
      "metadata": {
        "id": "Si90j-lYzqWl"
      },
      "source": [
        "## My main best model\n",
        "\n",
        "Was selected to be ...\n"
      ]
    },
    {
      "cell_type": "code",
      "metadata": {
        "id": "2GlitS8WzqWl"
      },
      "source": [
        "def my_best_method(train_data):\n",
        "    model = LinearRegression()\n",
        "    model.fit(train_data, train_data)\n",
        "    pred = model.predict(train_data)\n",
        "    return get_last_week(pred)"
      ],
      "execution_count": 36,
      "outputs": []
    },
    {
      "cell_type": "markdown",
      "metadata": {
        "id": "sVIX39mzzqWl"
      },
      "source": [
        "# Testing / validation\n",
        "\n",
        "Do not edit beyound this point!"
      ]
    },
    {
      "cell_type": "markdown",
      "metadata": {
        "id": "-joEMWbzzqWl"
      },
      "source": [
        "Run the training and prediction with your best model:"
      ]
    },
    {
      "cell_type": "code",
      "metadata": {
        "colab": {
          "base_uri": "https://localhost:8080/"
        },
        "id": "-qTHjn9KzqWl",
        "outputId": "cdf31e17-72dc-42a7-bfa2-c09c2d648e72"
      },
      "source": [
        "import time\n",
        "start_time = time.time()\n",
        "\n",
        "predicted_time_series = my_best_method(training_time_series)\n",
        "\n",
        "end_time = time.time()\n",
        "elapsed_time = end_time - start_time\n",
        "max_training_time = 3*60*1000\n",
        "print('Predicting time: %.2f ms (max %i ms.)' %(elapsed_time,max_training_time))  \n",
        "assert elapsed_time <= max_training_time, 'Training is too long!'"
      ],
      "execution_count": 37,
      "outputs": [
        {
          "output_type": "stream",
          "text": [
            "Predicting time: 0.01 ms (max 180000 ms.)\n"
          ],
          "name": "stdout"
        }
      ]
    },
    {
      "cell_type": "code",
      "metadata": {
        "colab": {
          "base_uri": "https://localhost:8080/",
          "height": 297
        },
        "id": "5gAH8fNgDQxE",
        "outputId": "63fabe07-24f4-4491-b0e8-f607f558d318"
      },
      "source": [
        "predicted_time_series"
      ],
      "execution_count": 24,
      "outputs": [
        {
          "output_type": "execute_result",
          "data": {
            "text/html": [
              "<div>\n",
              "<style scoped>\n",
              "    .dataframe tbody tr th:only-of-type {\n",
              "        vertical-align: middle;\n",
              "    }\n",
              "\n",
              "    .dataframe tbody tr th {\n",
              "        vertical-align: top;\n",
              "    }\n",
              "\n",
              "    .dataframe thead th {\n",
              "        text-align: right;\n",
              "    }\n",
              "</style>\n",
              "<table border=\"1\" class=\"dataframe\">\n",
              "  <thead>\n",
              "    <tr style=\"text-align: right;\">\n",
              "      <th></th>\n",
              "      <th>new_cases</th>\n",
              "    </tr>\n",
              "    <tr>\n",
              "      <th>date</th>\n",
              "      <th></th>\n",
              "    </tr>\n",
              "  </thead>\n",
              "  <tbody>\n",
              "    <tr>\n",
              "      <th>2020-11-30</th>\n",
              "      <td>505910.0</td>\n",
              "    </tr>\n",
              "    <tr>\n",
              "      <th>2020-12-01</th>\n",
              "      <td>604959.0</td>\n",
              "    </tr>\n",
              "    <tr>\n",
              "      <th>2020-12-02</th>\n",
              "      <td>646584.0</td>\n",
              "    </tr>\n",
              "    <tr>\n",
              "      <th>2020-12-03</th>\n",
              "      <td>690367.0</td>\n",
              "    </tr>\n",
              "    <tr>\n",
              "      <th>2020-12-04</th>\n",
              "      <td>678344.0</td>\n",
              "    </tr>\n",
              "    <tr>\n",
              "      <th>2020-12-05</th>\n",
              "      <td>640731.0</td>\n",
              "    </tr>\n",
              "    <tr>\n",
              "      <th>2020-12-06</th>\n",
              "      <td>533695.0</td>\n",
              "    </tr>\n",
              "  </tbody>\n",
              "</table>\n",
              "</div>"
            ],
            "text/plain": [
              "            new_cases\n",
              "date                 \n",
              "2020-11-30   505910.0\n",
              "2020-12-01   604959.0\n",
              "2020-12-02   646584.0\n",
              "2020-12-03   690367.0\n",
              "2020-12-04   678344.0\n",
              "2020-12-05   640731.0\n",
              "2020-12-06   533695.0"
            ]
          },
          "metadata": {
            "tags": []
          },
          "execution_count": 24
        }
      ]
    },
    {
      "cell_type": "markdown",
      "metadata": {
        "id": "PyfnQsqxzqWl"
      },
      "source": [
        "Compute the error of your best model:"
      ]
    },
    {
      "cell_type": "code",
      "metadata": {
        "colab": {
          "base_uri": "https://localhost:8080/"
        },
        "id": "SLPOwrCRzqWl",
        "outputId": "5c565c59-76fb-4395-9fce-e6fc4ed38078"
      },
      "source": [
        "RMSLE(testing_time_series, predicted_time_series)"
      ],
      "execution_count": 38,
      "outputs": [
        {
          "output_type": "execute_result",
          "data": {
            "text/plain": [
              "0.29244235072945596"
            ]
          },
          "metadata": {
            "tags": []
          },
          "execution_count": 38
        }
      ]
    },
    {
      "cell_type": "code",
      "metadata": {
        "id": "Y3wLm_X_3xar",
        "outputId": "6c7f8845-b33a-435c-854f-79f1914ca355",
        "colab": {
          "base_uri": "https://localhost:8080/"
        }
      },
      "source": [
        "predicted_time_series"
      ],
      "execution_count": 43,
      "outputs": [
        {
          "output_type": "execute_result",
          "data": {
            "text/plain": [
              "array([[505910.],\n",
              "       [604959.],\n",
              "       [646584.],\n",
              "       [690367.],\n",
              "       [678344.],\n",
              "       [640731.],\n",
              "       [533695.]])"
            ]
          },
          "metadata": {
            "tags": []
          },
          "execution_count": 43
        }
      ]
    },
    {
      "cell_type": "markdown",
      "metadata": {
        "id": "zj4Gac5npZdG"
      },
      "source": [
        "## Information on the obtained hardware\n",
        "\n",
        "Only relavant if execution time is in question: then it is tested on Colab T100 node, just as in MP2."
      ]
    },
    {
      "cell_type": "code",
      "metadata": {
        "colab": {
          "base_uri": "https://localhost:8080/"
        },
        "id": "gpxloV0tzqWm",
        "outputId": "07f16eaa-c0dd-4d9f-e31e-b52441cc5208"
      },
      "source": [
        "import os\n",
        "osname = os.name\n",
        "print(osname)\n",
        "if osname == 'posix':\n",
        "    f = os.popen('nvidia-smi')\n",
        "    print(f.read())\n",
        "\n",
        "    f = os.popen('lscpu')\n",
        "    print(f.read())\n",
        "elif osname == 'nt':\n",
        "    # from https://winaero.com/get-cpu-information-via-command-prompt-in-windows-10/\n",
        "    f = os.popen('wmic cpu get caption, deviceid, name, numberofcores, maxclockspeed, status')\n",
        "    print(f.read())"
      ],
      "execution_count": 39,
      "outputs": [
        {
          "output_type": "stream",
          "text": [
            "posix\n",
            "NVIDIA-SMI has failed because it couldn't communicate with the NVIDIA driver. Make sure that the latest NVIDIA driver is installed and running.\n",
            "\n",
            "\n",
            "Architecture:        x86_64\n",
            "CPU op-mode(s):      32-bit, 64-bit\n",
            "Byte Order:          Little Endian\n",
            "CPU(s):              2\n",
            "On-line CPU(s) list: 0,1\n",
            "Thread(s) per core:  2\n",
            "Core(s) per socket:  1\n",
            "Socket(s):           1\n",
            "NUMA node(s):        1\n",
            "Vendor ID:           AuthenticAMD\n",
            "CPU family:          23\n",
            "Model:               49\n",
            "Model name:          AMD EPYC 7B12\n",
            "Stepping:            0\n",
            "CPU MHz:             2249.998\n",
            "BogoMIPS:            4499.99\n",
            "Hypervisor vendor:   KVM\n",
            "Virtualization type: full\n",
            "L1d cache:           32K\n",
            "L1i cache:           32K\n",
            "L2 cache:            512K\n",
            "L3 cache:            16384K\n",
            "NUMA node0 CPU(s):   0,1\n",
            "Flags:               fpu vme de pse tsc msr pae mce cx8 apic sep mtrr pge mca cmov pat pse36 clflush mmx fxsr sse sse2 ht syscall nx mmxext fxsr_opt pdpe1gb rdtscp lm constant_tsc rep_good nopl xtopology nonstop_tsc cpuid extd_apicid tsc_known_freq pni pclmulqdq ssse3 fma cx16 sse4_1 sse4_2 movbe popcnt aes xsave avx f16c rdrand hypervisor lahf_lm cmp_legacy cr8_legacy abm sse4a misalignsse 3dnowprefetch osvw topoext ssbd ibrs ibpb stibp vmmcall fsgsbase tsc_adjust bmi1 avx2 smep bmi2 rdseed adx smap clflushopt clwb sha_ni xsaveopt xsavec xgetbv1 clzero xsaveerptr arat npt nrip_save umip rdpid\n",
            "\n"
          ],
          "name": "stdout"
        }
      ]
    },
    {
      "cell_type": "code",
      "metadata": {
        "id": "f1AiQ9K2mSrh",
        "outputId": "a0a12061-0f95-43a1-b3ca-b7c029bb1bbf",
        "colab": {
          "base_uri": "https://localhost:8080/"
        }
      },
      "source": [
        "from google.colab import drive\n",
        "drive.mount('/content/drive')"
      ],
      "execution_count": 40,
      "outputs": [
        {
          "output_type": "stream",
          "text": [
            "Mounted at /content/drive\n"
          ],
          "name": "stdout"
        }
      ]
    }
  ]
}